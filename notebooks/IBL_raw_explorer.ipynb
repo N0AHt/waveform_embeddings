{
 "cells": [
  {
   "cell_type": "code",
   "execution_count": 11,
   "id": "e9f735ec-572d-4b28-be68-86770f817bd0",
   "metadata": {
    "tags": []
   },
   "outputs": [],
   "source": [
    "import spikeinterface.full as si\n",
    "import matplotlib.pyplot as plt\n",
    "import numpy as np "
   ]
  },
  {
   "cell_type": "code",
   "execution_count": 12,
   "id": "4fcf8248-4c37-4acc-83f7-f12d68e812da",
   "metadata": {
    "tags": []
   },
   "outputs": [],
   "source": [
    "# spikeglx_folder = r'/media/cat/data/noah/danlab/Subjects/DY_009/2020-02-27/001/raw_ephys_data/probe00/chunk_000000_to_000999mxdaelYevg'"
   ]
  },
  {
   "cell_type": "code",
   "execution_count": 13,
   "id": "75d47161-bb18-42ef-8e87-f0d51bb4612b",
   "metadata": {
    "tags": []
   },
   "outputs": [],
   "source": [
    "# raw_rec = si.read_spikeglx(spikeglx_folder, stream_name='_spikeglx_ephysData_g0_t0.imec0.ap.stream.cbin', load_sync_channel=False)"
   ]
  },
  {
   "cell_type": "code",
   "execution_count": 54,
   "id": "aa48070a-f003-4f4a-842e-0c83945d9148",
   "metadata": {
    "tags": []
   },
   "outputs": [],
   "source": [
    "from one.api import ONE\n",
    "from brainbox.io.spikeglx import Streamer\n",
    "\n",
    "one = ONE()\n",
    "\n",
    "pid = 'da8dfec1-d265-44e8-84ce-6ae9c109b8bd'\n",
    "\n",
    "time0 = 100 # timepoint in recording to stream\n",
    "time_win = 5 # number of seconds to stream\n",
    "band = 'ap' # either 'ap' or 'lf'\n",
    "\n",
    "sr = Streamer(pid=pid, one=one, remove_cached=False, typ=band)\n",
    "s0 = time0 * sr.fs\n",
    "tsel = slice(int(s0), int(s0) + int(time_win * sr.fs))\n",
    "\n",
    "# Important: remove sync channel from raw data, and transpose\n",
    "raw = sr[tsel, :-sr.nsync].T"
   ]
  },
  {
   "cell_type": "code",
   "execution_count": 55,
   "id": "0ae3e0da-5d8b-4b52-ae40-4f67ae648dd8",
   "metadata": {
    "tags": []
   },
   "outputs": [
    {
     "data": {
      "text/plain": [
       "(384, 150001)"
      ]
     },
     "execution_count": 55,
     "metadata": {},
     "output_type": "execute_result"
    }
   ],
   "source": [
    "raw.shape"
   ]
  },
  {
   "cell_type": "code",
   "execution_count": 56,
   "id": "9ad6225e-d90b-459d-ae4d-9461ecedcc02",
   "metadata": {
    "tags": []
   },
   "outputs": [],
   "source": [
    "from neurodsp.voltage import destripe\n",
    "destriped = destripe(raw, fs=sr.fs)"
   ]
  },
  {
   "cell_type": "code",
   "execution_count": 57,
   "id": "00b9ccd1-db49-4a9b-9368-dd60aab711f1",
   "metadata": {
    "tags": []
   },
   "outputs": [
    {
     "name": "stdout",
     "output_type": "stream",
     "text": [
      "Help on function destripe in module neurodsp.voltage:\n",
      "\n",
      "destripe(x, fs, h=None, neuropixel_version=1, butter_kwargs=None, k_kwargs=None, channel_labels=None, k_filter=True)\n",
      "    Super Car (super slow also...) - far from being set in stone but a good workflow example\n",
      "    :param x: demultiplexed array (nc, ns)\n",
      "    :param fs: sampling frequency\n",
      "    :param neuropixel_version (optional): 1 or 2. Useful for the ADC shift correction. If None,\n",
      "     no correction is applied\n",
      "    :param channel_labels:\n",
      "      None: (default) keep all channels\n",
      "     OR (recommended to pre-compute)\n",
      "        index array for the first axis of x indicating the selected traces.\n",
      "     On a full workflow, one should scan sparingly the full file to get a robust estimate of the\n",
      "     selection. If None, and estimation is done using only the current batch is provided for\n",
      "     convenience but should be avoided in production.\n",
      "      OR (only for quick display or as an example)\n",
      "       True: deduces the bad channels from the data provided\n",
      "    :param butter_kwargs: (optional, None) butterworth params, see the code for the defaults dict\n",
      "    :param k_kwargs: (optional, None) K-filter params, see the code for the defaults dict\n",
      "        can also be set to 'car', in which case the median accross channels will be subtracted\n",
      "    :param k_filter (True): applies k-filter by default, otherwise, apply CAR.\n",
      "    :return: x, filtered array\n",
      "\n"
     ]
    }
   ],
   "source": [
    "help(destripe)"
   ]
  },
  {
   "cell_type": "code",
   "execution_count": 58,
   "id": "cbb2fe39-a39c-48ba-94c8-bbc3e2d26eda",
   "metadata": {
    "tags": []
   },
   "outputs": [
    {
     "data": {
      "text/plain": [
       "(384, 150001)"
      ]
     },
     "execution_count": 58,
     "metadata": {},
     "output_type": "execute_result"
    }
   ],
   "source": [
    "destriped.shape"
   ]
  },
  {
   "cell_type": "code",
   "execution_count": 59,
   "id": "e5367dc0-08bf-4bbc-a00a-d3f5f278354d",
   "metadata": {
    "tags": []
   },
   "outputs": [],
   "source": [
    "# left = raw[0::2]\n",
    "# right = raw[1::2]\n",
    "# im = np.stack((left,right)).T\n",
    "\n",
    "# im = np.stack((left,right))\n",
    "\n",
    "raw = np.stack((raw[0::2],raw[1::2])).T"
   ]
  },
  {
   "cell_type": "code",
   "execution_count": 60,
   "id": "43729b57-cef2-441f-bbb6-f78a244e5aa7",
   "metadata": {
    "lines_to_next_cell": 2,
    "tags": []
   },
   "outputs": [],
   "source": [
    "destriped = np.stack((destriped[0::2],destriped[1::2])).T"
   ]
  },
  {
   "cell_type": "code",
   "execution_count": 61,
   "id": "d434f27e-aae2-4ef0-8c7c-7c2e4922c224",
   "metadata": {
    "tags": []
   },
   "outputs": [],
   "source": [
    "#I should also motion correct this data here before visualising"
   ]
  },
  {
   "cell_type": "code",
   "execution_count": 62,
   "id": "edb57779-0072-4744-96c6-728135013207",
   "metadata": {
    "tags": []
   },
   "outputs": [
    {
     "name": "stdout",
     "output_type": "stream",
     "text": [
      "(150001, 192, 2)\n",
      "0.00023861731413610628\n",
      "-0.0005290131487800222\n",
      "1.4492177258041783e-05 -3.3789887318316994e-11\n"
     ]
    }
   ],
   "source": [
    "\n",
    "print(destriped.shape)\n",
    "max_val_dstriped = np.max(destriped)\n",
    "min_val_dstriped = np.min(destriped)\n",
    "stdev_dstriped = np.std(destriped)\n",
    "mean_dstriped = np.mean(destriped)\n",
    "print(max_val_dstriped)\n",
    "print(min_val_dstriped)\n",
    "print(stdev_dstriped, mean_dstriped)"
   ]
  },
  {
   "cell_type": "code",
   "execution_count": 63,
   "id": "6185489b-5d1f-47fd-86b6-38b27960eb04",
   "metadata": {
    "tags": []
   },
   "outputs": [
    {
     "name": "stdout",
     "output_type": "stream",
     "text": [
      "(150001, 192, 2)\n",
      "0.00031171876\n",
      "-0.00049921876\n",
      "4.3303484e-05 7.12881e-06\n"
     ]
    }
   ],
   "source": [
    "print(raw.shape)\n",
    "max_val = np.max(raw)\n",
    "min_val = np.min(raw)\n",
    "stdev = np.std(raw)\n",
    "mean = np.mean(raw)\n",
    "print(max_val)\n",
    "print(min_val)\n",
    "print(stdev, mean)"
   ]
  },
  {
   "cell_type": "code",
   "execution_count": 64,
   "id": "a5d7fc88-508a-46e0-9923-03e8cf78683f",
   "metadata": {
    "tags": []
   },
   "outputs": [],
   "source": [
    "import ipywidgets as widgets\n",
    "from ipywidgets import interactive"
   ]
  },
  {
   "cell_type": "code",
   "execution_count": 65,
   "id": "03bbf622-35b5-418d-9936-2814c4262bfc",
   "metadata": {
    "tags": []
   },
   "outputs": [],
   "source": [
    "# import colorcet as cc"
   ]
  },
  {
   "cell_type": "code",
   "execution_count": 66,
   "id": "9933294e-ed7f-4fd3-8d7d-e2b1156bbc19",
   "metadata": {
    "tags": []
   },
   "outputs": [
    {
     "data": {
      "application/vnd.jupyter.widget-view+json": {
       "model_id": "136b2ebdef724cca8b0535d0bbec6159",
       "version_major": 2,
       "version_minor": 0
      },
      "text/plain": [
       "interactive(children=(IntSlider(value=0, description='t', max=150000), Output(layout=Layout(height='550px', wi…"
      ]
     },
     "execution_count": 66,
     "metadata": {},
     "output_type": "execute_result"
    }
   ],
   "source": [
    "def wave_plotter(t=0):\n",
    "        # fig, ax = plt.subplots(1,3)\n",
    "        fig, ax = plt.subplots(1,2, figsize=(3,6))\n",
    "        im = raw[t]\n",
    "        im2 = destriped[t]\n",
    "        ax[0].imshow(im[0:64], vmin=mean-stdev*3, vmax=mean+stdev*3)\n",
    "        ax[1].imshow(im2[0:64], vmin=mean_dstriped-stdev_dstriped*3, vmax=mean_dstriped+stdev_dstriped*3)\n",
    "        # ax[0].imshow(im[0:64], vmin=mean-stdev*3, vmax=mean+stdev*3)\n",
    "        # ax[1].imshow(im[64:64*2], vmin=mean-stdev*3, vmax=mean+stdev*3)\n",
    "        # ax[2].imshow(im[64*2:64*3], vmin=mean-stdev*3, vmax=mean+stdev*3)\n",
    "        \n",
    "        ax[0].set_axis_off()\n",
    "        ax[1].set_axis_off()\n",
    "        # ax[2].set_axis_off()\n",
    "        \n",
    "        # plt.ylim((-1.5,1.2))\n",
    "        # plt.legend()\n",
    "        plt.layout = 'tight'\n",
    "        plt.show()\n",
    "\n",
    "        \n",
    "interactive_plot = interactive(wave_plotter, t=(0,raw.shape[0]-1))\n",
    "output = interactive_plot.children[-1]\n",
    "output.layout.height = '550px'\n",
    "output.layout.width  = '550px'\n",
    "\n",
    "interactive_plot"
   ]
  },
  {
   "cell_type": "code",
   "execution_count": 171,
   "id": "29dc0807-bc4d-47b0-8d09-8a061ce2b81d",
   "metadata": {
    "tags": []
   },
   "outputs": [
    {
     "data": {
      "image/png": "[encoded data removed]",
      "text/plain": [
       "<Figure size 640x480 with 1 Axes>"
      ]
     },
     "metadata": {},
     "output_type": "display_data"
    },
    {
     "data": {
      "application/vnd.jupyter.widget-view+json": {
       "model_id": "be9b3c8ae3ea41aab357acef6d901b7f",
       "version_major": 2,
       "version_minor": 0
      },
      "text/plain": [
       "interactive(children=(IntSlider(value=24, description='t', max=49), Output()), _dom_classes=('widget-interact'…"
      ]
     },
     "execution_count": 171,
     "metadata": {},
     "output_type": "execute_result"
    }
   ],
   "source": [
    "#a spike:\n",
    "\n",
    "spike = destriped[30:80,2:15,:]\n",
    "spike2 = destriped[107:157,2*6:15*6,:]\n",
    "def plot(t):\n",
    "    fig, ax = plt.subplots(1,2)\n",
    "    \n",
    "    ax[0].imshow(spike[t], vmin=mean_dstriped-stdev_dstriped*3, vmax=mean_dstriped+stdev_dstriped*3)\n",
    "    ax[1].imshow(spike2[t], vmin=mean_dstriped-stdev_dstriped*3, vmax=mean_dstriped+stdev_dstriped*3)\n",
    "    plt.show()\n",
    "    \n",
    "\n",
    "interactive_plot = interactive(plot, t=(0,spike.shape[0]-1))\n",
    "\n",
    "plot = spike[:,4:8,0:None].mean((1,2))\n",
    "plot2 = spike2[:,4:8,0:None].mean((1,2))\n",
    "# print(np.mean(plot[0]).shape)\n",
    "# print(plot.shape)\n",
    "# plt.plot(spike[:,4,1])\n",
    "plt.plot(plot)\n",
    "plt.plot(plot2)\n",
    "plt.show()\n",
    "\n",
    "interactive_plot"
   ]
  },
  {
   "cell_type": "code",
   "execution_count": 138,
   "id": "b02e421f-20ff-4dab-8660-13ff1f176e6f",
   "metadata": {
    "tags": []
   },
   "outputs": [
    {
     "name": "stdout",
     "output_type": "stream",
     "text": [
      "(50, 13, 2)\n"
     ]
    },
    {
     "data": {
      "text/plain": [
       "(50,)"
      ]
     },
     "execution_count": 138,
     "metadata": {},
     "output_type": "execute_result"
    }
   ],
   "source": [
    "print(spike.shape)\n",
    "spike.mean((1,2)).shape"
   ]
  },
  {
   "cell_type": "code",
   "execution_count": 67,
   "id": "a9a4ad37-2a9e-4d0a-aa89-2cf6123a218c",
   "metadata": {
    "tags": []
   },
   "outputs": [
    {
     "ename": "NameError",
     "evalue": "name 'im' is not defined",
     "output_type": "error",
     "traceback": [
      "\u001b[0;31m---------------------------------------------------------------------------\u001b[0m",
      "\u001b[0;31mNameError\u001b[0m                                 Traceback (most recent call last)",
      "Cell \u001b[0;32mIn[67], line 1\u001b[0m\n\u001b[0;32m----> 1\u001b[0m plt\u001b[38;5;241m.\u001b[39mimshow(\u001b[43mim\u001b[49m[\u001b[38;5;241m95\u001b[39m][\u001b[38;5;241m0\u001b[39m:\u001b[38;5;241m20\u001b[39m])\n\u001b[1;32m      2\u001b[0m plt\u001b[38;5;241m.\u001b[39mshow()\n",
      "\u001b[0;31mNameError\u001b[0m: name 'im' is not defined"
     ]
    }
   ],
   "source": [
    "plt.imshow(im[95][0:20])\n",
    "plt.show()"
   ]
  },
  {
   "cell_type": "code",
   "execution_count": null,
   "id": "a60a0622-d1e0-4df5-8deb-a4b9bedc8bfc",
   "metadata": {},
   "outputs": [],
   "source": [
    "#could a ML model or matrix fact. (in 3d) extract spikes?"
   ]
  },
  {
   "cell_type": "code",
   "execution_count": null,
   "id": "b0fa6c2b-dd33-4e37-9e26-57e505c70253",
   "metadata": {
    "tags": []
   },
   "outputs": [],
   "source": [
    "# %gui qt\n",
    "# from viewephys.gui import viewephys\n",
    "# v_raw = viewephys(raw, fs=sr.fs)\n",
    "# v_des = viewephys(destriped, fs=sr.fs)"
   ]
  },
  {
   "cell_type": "code",
   "execution_count": 69,
   "id": "4b5b139f-20c5-4c52-a8d9-596f199ffc30",
   "metadata": {
    "tags": []
   },
   "outputs": [],
   "source": [
    "# si version\n",
    "import spikeinterface as si\n",
    "path_to_cbin = () \n",
    "rec = si.si.read_cbin_ibl(sr.target_dir)"
   ]
  },
  {
   "cell_type": "code",
   "execution_count": null,
   "id": "556d91f0-82c0-4eb4-9062-345b4d67f48f",
   "metadata": {},
   "outputs": [],
   "source": []
  }
 ],
 "metadata": {
  "kernelspec": {
   "display_name": "Python [conda env:ceed]",
   "language": "python",
   "name": "conda-env-ceed-py"
  },
  "language_info": {
   "codemirror_mode": {
    "name": "ipython",
    "version": 3
   },
   "file_extension": ".py",
   "mimetype": "text/x-python",
   "name": "python",
   "nbconvert_exporter": "python",
   "pygments_lexer": "ipython3",
   "version": "3.10.13"
  }
 },
 "nbformat": 4,
 "nbformat_minor": 5
}
