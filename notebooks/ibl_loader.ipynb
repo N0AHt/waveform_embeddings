{
 "cells": [
  {
   "cell_type": "markdown",
   "id": "1065dc5a-48c6-4626-96ce-76b1869132e0",
   "metadata": {},
   "source": [
    "# Grab some ibl data and ceed it\n",
    "\n",
    "NOTE: really need to check insertion vs session info, could be multiple insertions on top of each other\n",
    "\n",
    "Note: to extract spikes - stream raw ephys data and use spike time and channel info to collect spike \n",
    "    waveforms!"
   ]
  },
  {
   "cell_type": "code",
   "execution_count": 1,
   "id": "c1149653-802b-465d-ade6-f8c8c6f236cf",
   "metadata": {
    "tags": []
   },
   "outputs": [
    {
     "name": "stderr",
     "output_type": "stream",
     "text": [
      "/home/noah/mambaforge/envs/ceed2/lib/python3.10/site-packages/ibllib/io/raw_data_loaders.py:19: DeprecationWarning: pkg_resources is deprecated as an API. See https://setuptools.pypa.io/en/latest/pkg_resources.html\n",
      "  from pkg_resources import parse_version\n"
     ]
    }
   ],
   "source": [
    "from one.api import ONE\n",
    "ONE.setup(base_url='https://openalyx.internationalbrainlab.org', silent=True)\n",
    "one = ONE(password='international')\n",
    "\n",
    "from brainbox.io.one import SpikeSortingLoader\n",
    "\n",
    "import matplotlib.pyplot as plt\n",
    "from tslearn.preprocessing import TimeSeriesResampler\n",
    "import torch\n",
    "from tqdm import tqdm\n",
    "import pandas as pd\n"
   ]
  },
  {
   "cell_type": "code",
   "execution_count": 2,
   "id": "0cf091dd-e854-4c3a-aa82-a5c989d2e243",
   "metadata": {
    "tags": []
   },
   "outputs": [
    {
     "data": {
      "text/plain": [
       "'19e66dc9-bf9f-430b-9d6a-acfa85de6fb7'"
      ]
     },
     "execution_count": 2,
     "metadata": {},
     "output_type": "execute_result"
    }
   ],
   "source": [
    "subject_id = 'UCLA006' \n",
    "# subject_id = 'PL016'\n",
    "\n",
    "\n",
    "ins = one.search(subject=subject_id)\n",
    "eid = ins[0]\n",
    "eid"
   ]
  },
  {
   "cell_type": "code",
   "execution_count": 3,
   "id": "a548c65e-63b4-4035-b474-18d51a2f0883",
   "metadata": {
    "tags": []
   },
   "outputs": [
    {
     "name": "stdout",
     "output_type": "stream",
     "text": [
      "['alf/probe00/pykilosort', 'alf', 'raw_ephys_data/probe00', 'alf/probe00', 'raw_ephys_data']\n"
     ]
    }
   ],
   "source": [
    "collections = one.list_collections(eid)\n",
    "print(collections)\n",
    "#is there a way to list files in a collection??"
   ]
  },
  {
   "cell_type": "code",
   "execution_count": 4,
   "id": "eab359cf-b032-4042-afef-e67a0847a9cc",
   "metadata": {
    "tags": []
   },
   "outputs": [
    {
     "name": "stdout",
     "output_type": "stream",
     "text": [
      "(795, 82, 32)\n",
      "(20177238,)\n",
      "(795,)\n",
      "(795,)\n",
      "(795,)\n"
     ]
    }
   ],
   "source": [
    "file = '_phy_spikes_subset.waveforms.npy'\n",
    "file = 'clusters.waveforms.npy'\n",
    "# file = 'templates.waveforms.npy' #templates for each unit, very similar to clusters.waveforms\n",
    "# file = 'spikes.amps'\n",
    "file2 = 'spikes.clusters'\n",
    "file3 = 'clusters.depths'\n",
    "file4 = 'clusters.channels'\n",
    "file5 = 'clusters.metrics'\n",
    "file6 = 'clusters.peakToTrough'\n",
    "\n",
    "spike_waveforms = one.load_dataset(eid, file, collection='alf/probe00/pykilosort')\n",
    "clusters = one.load_dataset(eid, file2, collection='alf/probe00/pykilosort')\n",
    "depths = one.load_dataset(eid, file3, collection='alf/probe00/pykilosort')\n",
    "channels = one.load_dataset(eid, file4, collection='alf/probe00/pykilosort')\n",
    "metrics = one.load_dataset(eid, file5, collection='alf/probe00/pykilosort')\n",
    "p2T = one.load_dataset(eid, file6, collection='alf/probe00/pykilosort')\n",
    "\n",
    "#how to get x position here... channels ok?\n",
    "\n",
    "#need to double check that 1st channel is appropriate\n",
    "\n",
    "print(spike_waveforms.shape)\n",
    "#ibl data so probably arranged as (neuron, channels, time)\n",
    "import numpy as np\n",
    "print(clusters.shape)\n",
    "print(depths.shape)\n",
    "print(channels.shape)\n",
    "print(np.unique(clusters).shape)"
   ]
  },
  {
   "cell_type": "code",
   "execution_count": null,
   "id": "225265f6-b2d8-4e4d-a2b8-9e0edf215f75",
   "metadata": {
    "tags": []
   },
   "outputs": [],
   "source": []
  },
  {
   "cell_type": "code",
   "execution_count": 5,
   "id": "23417f28-0bf8-400b-b7e5-3263d33c52e1",
   "metadata": {
    "tags": []
   },
   "outputs": [],
   "source": [
    "# clusters[0:100]"
   ]
  },
  {
   "cell_type": "code",
   "execution_count": 6,
   "id": "960a3872-f339-4acd-b2b3-49080c517cc0",
   "metadata": {
    "tags": []
   },
   "outputs": [
    {
     "data": {
      "image/png": "[encoded data removed]",
      "text/plain": [
       "<Figure size 640x480 with 1 Axes>"
      ]
     },
     "metadata": {},
     "output_type": "display_data"
    }
   ],
   "source": [
    "plt.plot(spike_waveforms[3][:,0])\n",
    "#spikes are all at sample 42\n",
    "plt.show()"
   ]
  },
  {
   "cell_type": "code",
   "execution_count": 7,
   "id": "b5e491fe-8078-41d6-a02d-2481f73741ba",
   "metadata": {
    "tags": []
   },
   "outputs": [],
   "source": [
    "# #Code stolen from Han \n",
    "# from tslearn.preprocessing import TimeSeriesResampler\n",
    "\n",
    "# #upsample data for our model\n",
    "# spikes_test_wavemap_up = []\n",
    "# plot = True\n",
    "# for spike in spike_waveforms: #take only the 1st channel\n",
    "#     # plt.plot(spike, alpha=.1, color='black')\n",
    "#     spike_up = TimeSeriesResampler(sz=121).fit_transform(spike[None,:])\n",
    "#     spikes_test_wavemap_up.append(spike_up[0,:,0])\n",
    "#     # if plot:\n",
    "#     #     plt.plot(spike_up[0,:,0], alpha=.1, color='black')\n",
    "# spikes_test_wavemap_up = np.asarray(spikes_test_wavemap_up)"
   ]
  },
  {
   "cell_type": "code",
   "execution_count": 8,
   "id": "22361eaf-3966-4783-a287-66b683ec95c5",
   "metadata": {
    "tags": []
   },
   "outputs": [],
   "source": [
    "# plt.plot(spikes_test_wavemap_up[3])\n",
    "# #spikes are all at sample 42 (before upsampling)\n",
    "# plt.show()"
   ]
  },
  {
   "cell_type": "code",
   "execution_count": 9,
   "id": "b93a0e77-a71a-4844-ac56-538d6ee46f04",
   "metadata": {
    "tags": []
   },
   "outputs": [],
   "source": [
    "def normalize_wf(wf):\n",
    "    \"\"\"Normalize waveform for use in cell type experiments.\n",
    "    Parameters\n",
    "    ----------\n",
    "    wf: numpy.ndarray\n",
    "        spike that has shape (n_chans, spike_length_samples)\n",
    "    Returns\n",
    "    -------\n",
    "    waveform normalized to the range [0, 1] to retain shape information, but not amplitude information\n",
    "    \"\"\"\n",
    "    if len(wf.shape) == 1:\n",
    "        _ = wf.shape\n",
    "        n_chans = None\n",
    "    else:\n",
    "        n_chans, _ = wf.shape\n",
    "    wf = wf.flatten()\n",
    "    if np.max(np.abs(wf),axis=0) != 0:\n",
    "        wf /= np.max(np.abs(wf),axis=0)\n",
    "    wf = wf.reshape(n_chans, -1) if n_chans is not None else wf\n",
    "    return wf"
   ]
  },
  {
   "cell_type": "code",
   "execution_count": 10,
   "id": "0293060b-3427-425b-af1d-bc62e6093bf3",
   "metadata": {
    "tags": []
   },
   "outputs": [],
   "source": [
    "# from sklearn.preprocessing import Normalizer as normalizer\n",
    "# normalize_wf = normalizer().fit_transform"
   ]
  },
  {
   "cell_type": "code",
   "execution_count": 11,
   "id": "b60073b8-3931-477e-895e-db33a580ef4a",
   "metadata": {
    "tags": []
   },
   "outputs": [],
   "source": [
    "# norm = normalize_wf(spikes_test_wavemap_up[3])\n",
    "# shifted = shift_wf(norm)\n",
    "# plt.plot(norm)\n",
    "# #spikes are all at sample 42\n",
    "# plt.show()\n",
    "# # plt.plot(shifted)\n",
    "# # plt.show()"
   ]
  },
  {
   "cell_type": "code",
   "execution_count": 12,
   "id": "54546771-0de0-44ef-8f07-9bad017b7b6c",
   "metadata": {
    "tags": []
   },
   "outputs": [],
   "source": [
    "#apply to all data\n",
    "#upsample and normalize data\n",
    "def ceed_preprocess(dataset):\n",
    "\n",
    "    #should accept single channrel and multichannel data, takes first channel for multichannel datasets\n",
    "    if len(dataset.shape) != 2:\n",
    "        try:\n",
    "            dataset = dataset[:,:,0]\n",
    "        except Exception as e:\n",
    "            print(\"dataset dimension error\")\n",
    "            print(e)\n",
    "    \n",
    "    spikes_upsampled = [TimeSeriesResampler(sz=121).fit_transform(spike)[0][:,0] for spike in dataset]\n",
    "    # norm_spikes = [normalizer().fit_transform([spike]) for spike in spikes_upsampled]\n",
    "    norm_spikes = [normalize_wf(spike) for spike in spikes_upsampled] \n",
    "    \n",
    "    return np.asarray(norm_spikes)\n",
    "\n",
    "waveforms_ceed_formatted = ceed_preprocess(spike_waveforms)"
   ]
  },
  {
   "cell_type": "code",
   "execution_count": 13,
   "id": "43640591-b538-4af5-8fde-f512e590cad9",
   "metadata": {
    "tags": []
   },
   "outputs": [],
   "source": [
    "# waveforms_ceed_formatted[0][0]"
   ]
  },
  {
   "cell_type": "code",
   "execution_count": 14,
   "id": "1ec3b705-2cf9-4365-be9f-583bd4ad0163",
   "metadata": {
    "tags": []
   },
   "outputs": [
    {
     "data": {
      "image/png": "[encoded data removed]",
      "text/plain": [
       "<Figure size 640x480 with 1 Axes>"
      ]
     },
     "metadata": {},
     "output_type": "display_data"
    }
   ],
   "source": [
    "plt.plot(waveforms_ceed_formatted[3])\n",
    "plt.show()"
   ]
  },
  {
   "cell_type": "code",
   "execution_count": null,
   "id": "c9cfd17b-df09-475c-907e-f8e768bddb96",
   "metadata": {},
   "outputs": [],
   "source": []
  },
  {
   "cell_type": "markdown",
   "id": "04d65a52-691d-4e83-928e-cf82d754acdf",
   "metadata": {},
   "source": [
    "## ceed time"
   ]
  },
  {
   "cell_type": "code",
   "execution_count": 15,
   "id": "fb6dacf4-c03c-4864-ae5d-b2cd0cda09cc",
   "metadata": {
    "tags": []
   },
   "outputs": [
    {
     "name": "stdout",
     "output_type": "stream",
     "text": [
      "True 0 NVIDIA GeForce GTX TITAN X\n"
     ]
    }
   ],
   "source": [
    "print(torch.cuda.is_available(), torch.cuda.current_device(), torch.cuda.get_device_name(0))"
   ]
  },
  {
   "cell_type": "code",
   "execution_count": 16,
   "id": "d1c8791d-7f1c-413c-81d5-e5bf0904dcad",
   "metadata": {
    "tags": []
   },
   "outputs": [
    {
     "name": "stderr",
     "output_type": "stream",
     "text": [
      "2023-10-10 15:44:59.958642: E tensorflow/compiler/xla/stream_executor/cuda/cuda_dnn.cc:9342] Unable to register cuDNN factory: Attempting to register factory for plugin cuDNN when one has already been registered\n",
      "2023-10-10 15:44:59.958700: E tensorflow/compiler/xla/stream_executor/cuda/cuda_fft.cc:609] Unable to register cuFFT factory: Attempting to register factory for plugin cuFFT when one has already been registered\n",
      "2023-10-10 15:44:59.960403: E tensorflow/compiler/xla/stream_executor/cuda/cuda_blas.cc:1518] Unable to register cuBLAS factory: Attempting to register factory for plugin cuBLAS when one has already been registered\n",
      "2023-10-10 15:45:00.110983: I tensorflow/core/platform/cpu_feature_guard.cc:182] This TensorFlow binary is optimized to use available CPU instructions in performance-critical operations.\n",
      "To enable the following instructions: AVX2 FMA, in other operations, rebuild TensorFlow with the appropriate compiler flags.\n",
      "2023-10-10 15:45:01.178361: W tensorflow/compiler/tf2tensorrt/utils/py_utils.cc:38] TF-TRT Warning: Could not find TensorRT\n"
     ]
    },
    {
     "name": "stdout",
     "output_type": "stream",
     "text": [
      "Failed to import IBL packages (brainbox, ibllib, one, brainbox\n",
      "Failed to import spike-psvae/dartsort functions\n",
      "Using projector; batchnorm False with depth 3; hidden_dim=512\n",
      "number of encoder params:  888330\n",
      "number of transfomer params:  0\n",
      "number of fcpart params:  620037\n",
      "number of Proj params:  268293\n",
      "number of classifier params:  0\n",
      "loading from previous checkpoint:  /home/noah/code/400neur_200s_5d_celltype_fc_ckpt/test\n"
     ]
    },
    {
     "data": {
      "text/plain": [
       "ModelSimCLR(\n",
       "  (backbone): FullyConnectedEnc(\n",
       "    (fcpart): Sequential(\n",
       "      (0): Linear(in_features=121, out_features=768, bias=True)\n",
       "      (1): ReLU()\n",
       "      (2): Linear(in_features=768, out_features=512, bias=True)\n",
       "      (3): ReLU()\n",
       "      (4): Linear(in_features=512, out_features=256, bias=True)\n",
       "      (5): ReLU()\n",
       "      (6): Linear(in_features=256, out_features=5, bias=True)\n",
       "      (7): Projector(\n",
       "        (proj_block): Sequential(\n",
       "          (0): Linear(in_features=5, out_features=512, bias=True)\n",
       "          (1): ReLU()\n",
       "          (2): Linear(in_features=512, out_features=512, bias=True)\n",
       "          (3): ReLU()\n",
       "          (4): Linear(in_features=512, out_features=5, bias=True)\n",
       "        )\n",
       "      )\n",
       "    )\n",
       "  )\n",
       ")"
      ]
     },
     "execution_count": 16,
     "metadata": {},
     "output_type": "execute_result"
    }
   ],
   "source": [
    "from ceed.models.ceed import CEED\n",
    "\n",
    "celltype_ckpt_dir = '/home/noah/code/400neur_200s_5d_celltype_fc_ckpt'\n",
    "\n",
    "celltype_ceed_5d = CEED(num_extra_chans=0, out_dim=5, proj_dim=5)\n",
    "\n",
    "celltype_ceed_5d.load(celltype_ckpt_dir)\n",
    "celltype_ceed_5d.model.to('cuda')"
   ]
  },
  {
   "cell_type": "code",
   "execution_count": 17,
   "id": "0766aa91-b62f-47a0-bbc7-b481359bef86",
   "metadata": {
    "tags": []
   },
   "outputs": [
    {
     "name": "stdout",
     "output_type": "stream",
     "text": [
      "(795, 121)\n",
      "torch.Size([3, 265, 121]) cuda:0\n"
     ]
    }
   ],
   "source": [
    "#batch input data\n",
    "print(waveforms_ceed_formatted.shape)\n",
    "batchsize = 265 #(largest factor)\n",
    "cells = waveforms_ceed_formatted.shape[0]\n",
    "number_of_batches = int(cells/batchsize)\n",
    "timepoints = waveforms_ceed_formatted.shape[1]\n",
    "\n",
    "\n",
    "data_tensor = torch.from_numpy(waveforms_ceed_formatted.astype('float32')) #must be float32?\n",
    "data_tensor = data_tensor.reshape(number_of_batches, batchsize, timepoints)\n",
    "data_tensor = data_tensor.to('cuda')\n",
    "print(data_tensor.shape, data_tensor.device)\n"
   ]
  },
  {
   "cell_type": "code",
   "execution_count": 18,
   "id": "60d6e05d-f810-4b08-b5ee-1bc152c0759d",
   "metadata": {
    "tags": []
   },
   "outputs": [],
   "source": [
    "# data = torch.unsqueeze(data_tensor[0], dim=-1)\n",
    "# print(data.shape, data_tensor[0].shape)"
   ]
  },
  {
   "cell_type": "code",
   "execution_count": 19,
   "id": "22f3a03f-476c-443e-b27c-a1a402f6f729",
   "metadata": {
    "tags": []
   },
   "outputs": [
    {
     "name": "stderr",
     "output_type": "stream",
     "text": [
      "100%|█████████████████████████████████████████████| 3/3 [00:00<00:00,  3.63it/s]\n"
     ]
    }
   ],
   "source": [
    "embeddings = []\n",
    "with torch.no_grad():\n",
    "    for spike in tqdm(data_tensor):\n",
    "        feature = celltype_ceed_5d.model(spike)\n",
    "        embeddings.append(feature)\n",
    "embeddings = torch.concatenate(embeddings).to('cpu').detach().squeeze().numpy()"
   ]
  },
  {
   "cell_type": "code",
   "execution_count": 20,
   "id": "e0f1e456-6ebd-4ae6-99a1-203717a174ca",
   "metadata": {
    "tags": []
   },
   "outputs": [],
   "source": [
    "# embeddings = celltype_ceed_5d.transform(data_tensor)"
   ]
  },
  {
   "cell_type": "code",
   "execution_count": 21,
   "id": "eb4c7224-0d13-4d5e-b051-de666e850567",
   "metadata": {
    "tags": []
   },
   "outputs": [
    {
     "name": "stdout",
     "output_type": "stream",
     "text": [
      "(795, 5)\n"
     ]
    }
   ],
   "source": [
    "print(embeddings.shape)"
   ]
  },
  {
   "cell_type": "code",
   "execution_count": 22,
   "id": "26fef8e7-2b74-4a79-833e-7f36b4df57d0",
   "metadata": {
    "tags": []
   },
   "outputs": [
    {
     "name": "stdout",
     "output_type": "stream",
     "text": [
      "[-5.6744785  -3.2041295  -1.1261494  -0.59627193 -5.416833  ]\n"
     ]
    }
   ],
   "source": [
    "print(embeddings[0])"
   ]
  },
  {
   "cell_type": "markdown",
   "id": "8e2d05ad-f631-4674-b7cb-87a5dd82e395",
   "metadata": {
    "tags": []
   },
   "source": [
    "## Data for each waveform:\n",
    "    waveform\n",
    "    channel (x position)\n",
    "    depth \n",
    "    CEED features\n",
    "    Can also include Firing Rate and p2p (can see if p2p is decodeable from shape)\n",
    "    "
   ]
  },
  {
   "cell_type": "code",
   "execution_count": 23,
   "id": "a94a5ab8-9824-4eb2-9ce2-35732185b4c0",
   "metadata": {
    "tags": []
   },
   "outputs": [
    {
     "data": {
      "text/plain": [
       "Index(['cluster_id', 'amp_max', 'amp_min', 'amp_median', 'amp_std_dB',\n",
       "       'contamination', 'contamination_alt', 'drift', 'missed_spikes_est',\n",
       "       'noise_cutoff', 'presence_ratio', 'presence_ratio_std',\n",
       "       'slidingRP_viol', 'spike_count', 'firing_rate', 'label'],\n",
       "      dtype='object')"
      ]
     },
     "execution_count": 23,
     "metadata": {},
     "output_type": "execute_result"
    }
   ],
   "source": [
    "metrics.keys()"
   ]
  },
  {
   "cell_type": "code",
   "execution_count": 24,
   "id": "a3fd7df8-0d93-4ed2-927b-13c66a40e4b6",
   "metadata": {
    "tags": []
   },
   "outputs": [
    {
     "data": {
      "text/plain": [
       "0       5.933501\n",
       "1      14.497526\n",
       "2       0.878818\n",
       "3       3.098791\n",
       "4       0.019569\n",
       "         ...    \n",
       "790     0.005139\n",
       "791     0.019569\n",
       "792     0.060683\n",
       "793     0.110099\n",
       "794     0.164852\n",
       "Name: firing_rate, Length: 795, dtype: float64"
      ]
     },
     "execution_count": 24,
     "metadata": {},
     "output_type": "execute_result"
    }
   ],
   "source": [
    "metrics.firing_rate"
   ]
  },
  {
   "cell_type": "code",
   "execution_count": 25,
   "id": "184a608f-8f32-41b3-aa78-50972437c830",
   "metadata": {
    "tags": []
   },
   "outputs": [],
   "source": [
    "#this should be a dataframe for easier manipulation and search...\n",
    "cell_structure = []\n",
    "for i, waveform in enumerate(waveforms_ceed_formatted):\n",
    "    cell = {'waveform' : waveform, 'embeddings':embeddings[i], 'depth' : depths[i], 'channel': channels[i], \n",
    "            'firing_rate': metrics.firing_rate[i], 'cluster_id' : metrics.cluster_id[i], 'p2T':p2T[i], \n",
    "            'p2p' : np.float32(1000*(metrics.amp_max[i] - metrics.amp_min[i])), 'amps' : 1000*metrics.amp_median[i]}\n",
    "    cell_structure.append(cell)\n",
    "    "
   ]
  },
  {
   "cell_type": "code",
   "execution_count": 26,
   "id": "1f810234-ecf8-4d72-8ebc-e797674b8a25",
   "metadata": {
    "tags": []
   },
   "outputs": [
    {
     "data": {
      "text/plain": [
       "dict_keys(['waveform', 'embeddings', 'depth', 'channel', 'firing_rate', 'cluster_id', 'p2T', 'p2p', 'amps'])"
      ]
     },
     "execution_count": 26,
     "metadata": {},
     "output_type": "execute_result"
    }
   ],
   "source": [
    "cell_structure[0].keys()"
   ]
  },
  {
   "cell_type": "code",
   "execution_count": 27,
   "id": "b266ae95-e1be-439e-9028-0ec1eec179f7",
   "metadata": {
    "tags": []
   },
   "outputs": [
    {
     "data": {
      "image/png": "[encoded data removed]",
      "text/plain": [
       "<Figure size 640x480 with 1 Axes>"
      ]
     },
     "metadata": {},
     "output_type": "display_data"
    },
    {
     "name": "stdout",
     "output_type": "stream",
     "text": [
      "460.0\n",
      "1.1819077\n",
      "[-5.110993   -3.760215   -2.1039212   0.20922822 -5.231313  ]\n"
     ]
    }
   ],
   "source": [
    "template_id = 89\n",
    "plt.plot(cell_structure[template_id]['waveform'])\n",
    "plt.show()\n",
    "print(cell_structure[template_id]['depth'])\n",
    "print(cell_structure[template_id]['p2p'])\n",
    "print(cell_structure[template_id]['embeddings'])\n"
   ]
  },
  {
   "cell_type": "code",
   "execution_count": 28,
   "id": "5f28080d-d562-4909-b021-174f4162a034",
   "metadata": {
    "tags": []
   },
   "outputs": [],
   "source": [
    "dataframe_cells = pd.DataFrame(cell_structure)"
   ]
  },
  {
   "cell_type": "code",
   "execution_count": 29,
   "id": "c6a49b11-1f3d-4ae3-b315-b5f59ce1b7f7",
   "metadata": {
    "tags": []
   },
   "outputs": [],
   "source": [
    "# dataframe_cells.sort_values(by='cluster_id', inplace = True)"
   ]
  },
  {
   "cell_type": "code",
   "execution_count": 30,
   "id": "56518c43-5ab8-43b1-9d3a-67fc85207ef2",
   "metadata": {
    "tags": []
   },
   "outputs": [
    {
     "data": {
      "text/html": [
       "<div>\n",
       "<style scoped>\n",
       "    .dataframe tbody tr th:only-of-type {\n",
       "        vertical-align: middle;\n",
       "    }\n",
       "\n",
       "    .dataframe tbody tr th {\n",
       "        vertical-align: top;\n",
       "    }\n",
       "\n",
       "    .dataframe thead th {\n",
       "        text-align: right;\n",
       "    }\n",
       "</style>\n",
       "<table border=\"1\" class=\"dataframe\">\n",
       "  <thead>\n",
       "    <tr style=\"text-align: right;\">\n",
       "      <th></th>\n",
       "      <th>waveform</th>\n",
       "      <th>embeddings</th>\n",
       "      <th>depth</th>\n",
       "      <th>channel</th>\n",
       "      <th>firing_rate</th>\n",
       "      <th>cluster_id</th>\n",
       "      <th>p2T</th>\n",
       "      <th>p2p</th>\n",
       "      <th>amps</th>\n",
       "    </tr>\n",
       "  </thead>\n",
       "  <tbody>\n",
       "    <tr>\n",
       "      <th>0</th>\n",
       "      <td>[0.0, 0.0, 0.0, 0.0, 0.0, 0.0, 0.0, 0.0, 0.0, ...</td>\n",
       "      <td>[-5.6744785, -3.2041295, -1.1261494, -0.596271...</td>\n",
       "      <td>20.0</td>\n",
       "      <td>0</td>\n",
       "      <td>5.933501</td>\n",
       "      <td>0</td>\n",
       "      <td>0.499997</td>\n",
       "      <td>0.148374</td>\n",
       "      <td>0.105942</td>\n",
       "    </tr>\n",
       "    <tr>\n",
       "      <th>1</th>\n",
       "      <td>[0.0, 0.0, 0.0, 0.0, 0.0, 0.0, 0.0, 0.0, 0.0, ...</td>\n",
       "      <td>[-5.2820187, -3.3257954, -2.0739157, 0.6581040...</td>\n",
       "      <td>20.0</td>\n",
       "      <td>0</td>\n",
       "      <td>14.497526</td>\n",
       "      <td>1</td>\n",
       "      <td>0.433331</td>\n",
       "      <td>0.170361</td>\n",
       "      <td>0.104917</td>\n",
       "    </tr>\n",
       "    <tr>\n",
       "      <th>2</th>\n",
       "      <td>[0.0, 0.0, 0.0, 0.0, 0.0, 0.0, 0.0, 0.0, 0.0, ...</td>\n",
       "      <td>[-4.902452, -3.7623112, -1.1823697, -1.106853,...</td>\n",
       "      <td>20.0</td>\n",
       "      <td>0</td>\n",
       "      <td>0.878818</td>\n",
       "      <td>2</td>\n",
       "      <td>0.466664</td>\n",
       "      <td>0.110067</td>\n",
       "      <td>0.109398</td>\n",
       "    </tr>\n",
       "    <tr>\n",
       "      <th>3</th>\n",
       "      <td>[0.0, 0.0, 0.0, 0.0, 0.0, 0.0, 0.0, 0.0, 0.0, ...</td>\n",
       "      <td>[-5.3847847, -3.169677, -2.0407019, 1.1954426,...</td>\n",
       "      <td>20.0</td>\n",
       "      <td>1</td>\n",
       "      <td>3.098791</td>\n",
       "      <td>3</td>\n",
       "      <td>-0.133333</td>\n",
       "      <td>0.135527</td>\n",
       "      <td>0.104720</td>\n",
       "    </tr>\n",
       "    <tr>\n",
       "      <th>4</th>\n",
       "      <td>[0.0, 0.0, 0.0, 0.0, 0.0, 0.0, 0.0, 0.0, 0.0, ...</td>\n",
       "      <td>[-5.1969705, -3.08665, -2.157361, 1.1720166, -...</td>\n",
       "      <td>20.0</td>\n",
       "      <td>0</td>\n",
       "      <td>0.019569</td>\n",
       "      <td>4</td>\n",
       "      <td>0.499997</td>\n",
       "      <td>0.044360</td>\n",
       "      <td>0.083868</td>\n",
       "    </tr>\n",
       "  </tbody>\n",
       "</table>\n",
       "</div>"
      ],
      "text/plain": [
       "                                            waveform  \\\n",
       "0  [0.0, 0.0, 0.0, 0.0, 0.0, 0.0, 0.0, 0.0, 0.0, ...   \n",
       "1  [0.0, 0.0, 0.0, 0.0, 0.0, 0.0, 0.0, 0.0, 0.0, ...   \n",
       "2  [0.0, 0.0, 0.0, 0.0, 0.0, 0.0, 0.0, 0.0, 0.0, ...   \n",
       "3  [0.0, 0.0, 0.0, 0.0, 0.0, 0.0, 0.0, 0.0, 0.0, ...   \n",
       "4  [0.0, 0.0, 0.0, 0.0, 0.0, 0.0, 0.0, 0.0, 0.0, ...   \n",
       "\n",
       "                                          embeddings  depth  channel  \\\n",
       "0  [-5.6744785, -3.2041295, -1.1261494, -0.596271...   20.0        0   \n",
       "1  [-5.2820187, -3.3257954, -2.0739157, 0.6581040...   20.0        0   \n",
       "2  [-4.902452, -3.7623112, -1.1823697, -1.106853,...   20.0        0   \n",
       "3  [-5.3847847, -3.169677, -2.0407019, 1.1954426,...   20.0        1   \n",
       "4  [-5.1969705, -3.08665, -2.157361, 1.1720166, -...   20.0        0   \n",
       "\n",
       "   firing_rate  cluster_id       p2T       p2p      amps  \n",
       "0     5.933501           0  0.499997  0.148374  0.105942  \n",
       "1    14.497526           1  0.433331  0.170361  0.104917  \n",
       "2     0.878818           2  0.466664  0.110067  0.109398  \n",
       "3     3.098791           3 -0.133333  0.135527  0.104720  \n",
       "4     0.019569           4  0.499997  0.044360  0.083868  "
      ]
     },
     "execution_count": 30,
     "metadata": {},
     "output_type": "execute_result"
    }
   ],
   "source": [
    "dataframe_cells.head()"
   ]
  },
  {
   "cell_type": "code",
   "execution_count": 55,
   "id": "de3a4041-8078-4bfd-b5b5-ba732292b967",
   "metadata": {
    "tags": []
   },
   "outputs": [
    {
     "data": {
      "image/png": "[encoded data removed]",
      "text/plain": [
       "<Figure size 640x480 with 1 Axes>"
      ]
     },
     "metadata": {},
     "output_type": "display_data"
    }
   ],
   "source": [
    "#make a dataset for predicting waveform from embeddings:\n",
    "dataset = np.array([dataframe_cells['waveform'], dataframe_cells['embeddings']]).T\n",
    "plt.plot(dataset[0][0])\n",
    "path = '/home/noah/code/dataset.npy'\n",
    "# np.save(path, dataset, allow_pickle = True)\n"
   ]
  },
  {
   "cell_type": "code",
   "execution_count": 31,
   "id": "b8ab5591-9912-42cd-bb52-bde08199a80a",
   "metadata": {
    "tags": []
   },
   "outputs": [
    {
     "data": {
      "image/png": "[encoded data removed]",
      "text/plain": [
       "<Figure size 640x480 with 1 Axes>"
      ]
     },
     "metadata": {},
     "output_type": "display_data"
    }
   ],
   "source": [
    "plt.hist(dataframe_cells.p2p)\n",
    "plt.show()"
   ]
  },
  {
   "cell_type": "code",
   "execution_count": null,
   "id": "768bff56-725f-4c87-842a-19ce283797b1",
   "metadata": {},
   "outputs": [],
   "source": []
  },
  {
   "cell_type": "code",
   "execution_count": 32,
   "id": "57b9b1ee-82d7-4114-ba1f-f51bd2473343",
   "metadata": {
    "tags": []
   },
   "outputs": [
    {
     "name": "stdout",
     "output_type": "stream",
     "text": [
      "(795, 5)\n",
      "(795,)\n"
     ]
    }
   ],
   "source": [
    "#can you predict firing rate from waveforms\n",
    "# https://compgenomr.github.io/book/predicting-continuous-variables-regression-with-machine-learning.html\n",
    "\n",
    "from sklearn.linear_model import LinearRegression\n",
    "from sklearn.model_selection import train_test_split\n",
    "\n",
    "X = np.stack(dataframe_cells.embeddings.values) #np.stack is necessary - what is pandas doing here? otherwise output is incorrect shape\n",
    "# X = dataframe_cells.depth.values.reshape(-1, 1)\n",
    "# X = dataframe_cells.p2p.values.reshape(-1,1)\n",
    "# y = dataframe_cells.firing_rate.values\n",
    "# y = dataframe_cells.p2p.values\n",
    "y = dataframe_cells.p2T.values\n",
    "# y = dataframe_cells.channel.values\n",
    "# y = dataframe_cells.cluster_id.values\n",
    "# y = dataframe_cells.amps.values\n",
    "\n",
    "\n",
    "\n",
    "print(X.shape)\n",
    "print(y.shape)\n",
    "#split earlier so I can keep info about different components used - i.e. waveforms?\n",
    "X_train, X_test, y_train, y_test = train_test_split(X, y, test_size=0.30, random_state=42, shuffle=True)\n",
    "\n",
    "reg = LinearRegression().fit(X_train, y_train)\n",
    "\n",
    "\n",
    "#need to try and use other regression models, maybe a logistic regression could work too..."
   ]
  },
  {
   "cell_type": "code",
   "execution_count": 33,
   "id": "5cf3ba00-66f9-4af6-a28b-c5eefa88e279",
   "metadata": {
    "tags": []
   },
   "outputs": [
    {
     "data": {
      "text/plain": [
       "(795, 1)"
      ]
     },
     "execution_count": 33,
     "metadata": {},
     "output_type": "execute_result"
    }
   ],
   "source": [
    "peakTrough = dataframe_cells.p2T.values.reshape(-1, 1)\n",
    "fr = dataframe_cells.firing_rate.values\n",
    "peakTrough.shape"
   ]
  },
  {
   "cell_type": "code",
   "execution_count": 34,
   "id": "f24c2a91-85c2-49cf-9308-63ee88d6f0e6",
   "metadata": {
    "tags": []
   },
   "outputs": [],
   "source": [
    "X_train, X_test, y_train, y_test = train_test_split(peakTrough, fr, test_size=0.01, random_state=42, shuffle=True)\n",
    "reg2 = LinearRegression().fit(X_train, y_train)"
   ]
  },
  {
   "cell_type": "code",
   "execution_count": 35,
   "id": "75a077c4-d494-45e0-a3dd-6e59db49003a",
   "metadata": {
    "tags": []
   },
   "outputs": [
    {
     "data": {
      "text/plain": [
       "0.000612162364400648"
      ]
     },
     "execution_count": 35,
     "metadata": {},
     "output_type": "execute_result"
    }
   ],
   "source": [
    "reg2.score(X_train, y_train)"
   ]
  },
  {
   "cell_type": "code",
   "execution_count": null,
   "id": "b46db0b6-fa71-4602-9212-b63d811dc7a9",
   "metadata": {},
   "outputs": [],
   "source": []
  },
  {
   "cell_type": "code",
   "execution_count": 43,
   "id": "e532bd9d-9bf4-4f08-8d09-70edf6c73b0f",
   "metadata": {
    "tags": []
   },
   "outputs": [
    {
     "ename": "ValueError",
     "evalue": "X has 1 features, but LinearRegression is expecting 5 features as input.",
     "output_type": "error",
     "traceback": [
      "\u001b[0;31m---------------------------------------------------------------------------\u001b[0m",
      "\u001b[0;31mValueError\u001b[0m                                Traceback (most recent call last)",
      "Cell \u001b[0;32mIn[43], line 1\u001b[0m\n\u001b[0;32m----> 1\u001b[0m \u001b[43mreg\u001b[49m\u001b[38;5;241;43m.\u001b[39;49m\u001b[43mscore\u001b[49m\u001b[43m(\u001b[49m\u001b[43mX_test\u001b[49m\u001b[43m,\u001b[49m\u001b[43m \u001b[49m\u001b[43my_test\u001b[49m\u001b[43m)\u001b[49m\n",
      "File \u001b[0;32m~/mambaforge/envs/ceed2/lib/python3.10/site-packages/sklearn/base.py:760\u001b[0m, in \u001b[0;36mRegressorMixin.score\u001b[0;34m(self, X, y, sample_weight)\u001b[0m\n\u001b[1;32m    718\u001b[0m \u001b[38;5;250m\u001b[39m\u001b[38;5;124;03m\"\"\"Return the coefficient of determination of the prediction.\u001b[39;00m\n\u001b[1;32m    719\u001b[0m \n\u001b[1;32m    720\u001b[0m \u001b[38;5;124;03mThe coefficient of determination :math:`R^2` is defined as\u001b[39;00m\n\u001b[0;32m   (...)\u001b[0m\n\u001b[1;32m    755\u001b[0m \u001b[38;5;124;03m:class:`~sklearn.multioutput.MultiOutputRegressor`).\u001b[39;00m\n\u001b[1;32m    756\u001b[0m \u001b[38;5;124;03m\"\"\"\u001b[39;00m\n\u001b[1;32m    758\u001b[0m \u001b[38;5;28;01mfrom\u001b[39;00m \u001b[38;5;21;01m.\u001b[39;00m\u001b[38;5;21;01mmetrics\u001b[39;00m \u001b[38;5;28;01mimport\u001b[39;00m r2_score\n\u001b[0;32m--> 760\u001b[0m y_pred \u001b[38;5;241m=\u001b[39m \u001b[38;5;28;43mself\u001b[39;49m\u001b[38;5;241;43m.\u001b[39;49m\u001b[43mpredict\u001b[49m\u001b[43m(\u001b[49m\u001b[43mX\u001b[49m\u001b[43m)\u001b[49m\n\u001b[1;32m    761\u001b[0m \u001b[38;5;28;01mreturn\u001b[39;00m r2_score(y, y_pred, sample_weight\u001b[38;5;241m=\u001b[39msample_weight)\n",
      "File \u001b[0;32m~/mambaforge/envs/ceed2/lib/python3.10/site-packages/sklearn/linear_model/_base.py:386\u001b[0m, in \u001b[0;36mLinearModel.predict\u001b[0;34m(self, X)\u001b[0m\n\u001b[1;32m    372\u001b[0m \u001b[38;5;28;01mdef\u001b[39;00m \u001b[38;5;21mpredict\u001b[39m(\u001b[38;5;28mself\u001b[39m, X):\n\u001b[1;32m    373\u001b[0m \u001b[38;5;250m    \u001b[39m\u001b[38;5;124;03m\"\"\"\u001b[39;00m\n\u001b[1;32m    374\u001b[0m \u001b[38;5;124;03m    Predict using the linear model.\u001b[39;00m\n\u001b[1;32m    375\u001b[0m \n\u001b[0;32m   (...)\u001b[0m\n\u001b[1;32m    384\u001b[0m \u001b[38;5;124;03m        Returns predicted values.\u001b[39;00m\n\u001b[1;32m    385\u001b[0m \u001b[38;5;124;03m    \"\"\"\u001b[39;00m\n\u001b[0;32m--> 386\u001b[0m     \u001b[38;5;28;01mreturn\u001b[39;00m \u001b[38;5;28;43mself\u001b[39;49m\u001b[38;5;241;43m.\u001b[39;49m\u001b[43m_decision_function\u001b[49m\u001b[43m(\u001b[49m\u001b[43mX\u001b[49m\u001b[43m)\u001b[49m\n",
      "File \u001b[0;32m~/mambaforge/envs/ceed2/lib/python3.10/site-packages/sklearn/linear_model/_base.py:369\u001b[0m, in \u001b[0;36mLinearModel._decision_function\u001b[0;34m(self, X)\u001b[0m\n\u001b[1;32m    366\u001b[0m \u001b[38;5;28;01mdef\u001b[39;00m \u001b[38;5;21m_decision_function\u001b[39m(\u001b[38;5;28mself\u001b[39m, X):\n\u001b[1;32m    367\u001b[0m     check_is_fitted(\u001b[38;5;28mself\u001b[39m)\n\u001b[0;32m--> 369\u001b[0m     X \u001b[38;5;241m=\u001b[39m \u001b[38;5;28;43mself\u001b[39;49m\u001b[38;5;241;43m.\u001b[39;49m\u001b[43m_validate_data\u001b[49m\u001b[43m(\u001b[49m\u001b[43mX\u001b[49m\u001b[43m,\u001b[49m\u001b[43m \u001b[49m\u001b[43maccept_sparse\u001b[49m\u001b[38;5;241;43m=\u001b[39;49m\u001b[43m[\u001b[49m\u001b[38;5;124;43m\"\u001b[39;49m\u001b[38;5;124;43mcsr\u001b[39;49m\u001b[38;5;124;43m\"\u001b[39;49m\u001b[43m,\u001b[49m\u001b[43m \u001b[49m\u001b[38;5;124;43m\"\u001b[39;49m\u001b[38;5;124;43mcsc\u001b[39;49m\u001b[38;5;124;43m\"\u001b[39;49m\u001b[43m,\u001b[49m\u001b[43m \u001b[49m\u001b[38;5;124;43m\"\u001b[39;49m\u001b[38;5;124;43mcoo\u001b[39;49m\u001b[38;5;124;43m\"\u001b[39;49m\u001b[43m]\u001b[49m\u001b[43m,\u001b[49m\u001b[43m \u001b[49m\u001b[43mreset\u001b[49m\u001b[38;5;241;43m=\u001b[39;49m\u001b[38;5;28;43;01mFalse\u001b[39;49;00m\u001b[43m)\u001b[49m\n\u001b[1;32m    370\u001b[0m     \u001b[38;5;28;01mreturn\u001b[39;00m safe_sparse_dot(X, \u001b[38;5;28mself\u001b[39m\u001b[38;5;241m.\u001b[39mcoef_\u001b[38;5;241m.\u001b[39mT, dense_output\u001b[38;5;241m=\u001b[39m\u001b[38;5;28;01mTrue\u001b[39;00m) \u001b[38;5;241m+\u001b[39m \u001b[38;5;28mself\u001b[39m\u001b[38;5;241m.\u001b[39mintercept_\n",
      "File \u001b[0;32m~/mambaforge/envs/ceed2/lib/python3.10/site-packages/sklearn/base.py:626\u001b[0m, in \u001b[0;36mBaseEstimator._validate_data\u001b[0;34m(self, X, y, reset, validate_separately, cast_to_ndarray, **check_params)\u001b[0m\n\u001b[1;32m    623\u001b[0m     out \u001b[38;5;241m=\u001b[39m X, y\n\u001b[1;32m    625\u001b[0m \u001b[38;5;28;01mif\u001b[39;00m \u001b[38;5;129;01mnot\u001b[39;00m no_val_X \u001b[38;5;129;01mand\u001b[39;00m check_params\u001b[38;5;241m.\u001b[39mget(\u001b[38;5;124m\"\u001b[39m\u001b[38;5;124mensure_2d\u001b[39m\u001b[38;5;124m\"\u001b[39m, \u001b[38;5;28;01mTrue\u001b[39;00m):\n\u001b[0;32m--> 626\u001b[0m     \u001b[38;5;28;43mself\u001b[39;49m\u001b[38;5;241;43m.\u001b[39;49m\u001b[43m_check_n_features\u001b[49m\u001b[43m(\u001b[49m\u001b[43mX\u001b[49m\u001b[43m,\u001b[49m\u001b[43m \u001b[49m\u001b[43mreset\u001b[49m\u001b[38;5;241;43m=\u001b[39;49m\u001b[43mreset\u001b[49m\u001b[43m)\u001b[49m\n\u001b[1;32m    628\u001b[0m \u001b[38;5;28;01mreturn\u001b[39;00m out\n",
      "File \u001b[0;32m~/mambaforge/envs/ceed2/lib/python3.10/site-packages/sklearn/base.py:415\u001b[0m, in \u001b[0;36mBaseEstimator._check_n_features\u001b[0;34m(self, X, reset)\u001b[0m\n\u001b[1;32m    412\u001b[0m     \u001b[38;5;28;01mreturn\u001b[39;00m\n\u001b[1;32m    414\u001b[0m \u001b[38;5;28;01mif\u001b[39;00m n_features \u001b[38;5;241m!=\u001b[39m \u001b[38;5;28mself\u001b[39m\u001b[38;5;241m.\u001b[39mn_features_in_:\n\u001b[0;32m--> 415\u001b[0m     \u001b[38;5;28;01mraise\u001b[39;00m \u001b[38;5;167;01mValueError\u001b[39;00m(\n\u001b[1;32m    416\u001b[0m         \u001b[38;5;124mf\u001b[39m\u001b[38;5;124m\"\u001b[39m\u001b[38;5;124mX has \u001b[39m\u001b[38;5;132;01m{\u001b[39;00mn_features\u001b[38;5;132;01m}\u001b[39;00m\u001b[38;5;124m features, but \u001b[39m\u001b[38;5;132;01m{\u001b[39;00m\u001b[38;5;28mself\u001b[39m\u001b[38;5;241m.\u001b[39m\u001b[38;5;18m__class__\u001b[39m\u001b[38;5;241m.\u001b[39m\u001b[38;5;18m__name__\u001b[39m\u001b[38;5;132;01m}\u001b[39;00m\u001b[38;5;124m \u001b[39m\u001b[38;5;124m\"\u001b[39m\n\u001b[1;32m    417\u001b[0m         \u001b[38;5;124mf\u001b[39m\u001b[38;5;124m\"\u001b[39m\u001b[38;5;124mis expecting \u001b[39m\u001b[38;5;132;01m{\u001b[39;00m\u001b[38;5;28mself\u001b[39m\u001b[38;5;241m.\u001b[39mn_features_in_\u001b[38;5;132;01m}\u001b[39;00m\u001b[38;5;124m features as input.\u001b[39m\u001b[38;5;124m\"\u001b[39m\n\u001b[1;32m    418\u001b[0m     )\n",
      "\u001b[0;31mValueError\u001b[0m: X has 1 features, but LinearRegression is expecting 5 features as input."
     ]
    }
   ],
   "source": [
    "reg.score(X_test, y_test)"
   ]
  },
  {
   "cell_type": "code",
   "execution_count": null,
   "id": "c74a217a-efd8-4c7d-9615-5c7ee3fc6304",
   "metadata": {
    "tags": []
   },
   "outputs": [],
   "source": [
    "from sklearn.decomposition import PCA\n",
    "\n",
    "_pca = PCA(n_components=2)\n",
    "_pca.fit(X_test)\n",
    "print('total varience explained by PCs = ', np.sum(_pca.explained_variance_ratio_))\n",
    "print('variences: ', _pca.explained_variance_ratio_)\n",
    "print(_pca.singular_values_)\n",
    "\n",
    "pca_reduced_data = _pca.transform(X_test)"
   ]
  },
  {
   "cell_type": "code",
   "execution_count": null,
   "id": "110405f7-917e-4170-b48b-9ed209fbe868",
   "metadata": {
    "tags": []
   },
   "outputs": [],
   "source": [
    "# import colorcet as cc\n",
    "# def get_ccolor(k):\n",
    "#     if k == -1:\n",
    "#         return \"#808080\"\n",
    "#     else:\n",
    "#         return ccolors[k % len(ccolors)]\n",
    "\n",
    "# range_=[(int(y*100000)) for y in y_test]\n",
    "# print(np.max(range_))\n",
    "\n",
    "# ccolors = cc.fire[0:50]\n",
    "\n",
    "# colour = [get_ccolor(int(y*100000)) for y in y_test]"
   ]
  },
  {
   "cell_type": "code",
   "execution_count": null,
   "id": "5b26dc6d-37a6-41e2-b5a0-68a32e0161c3",
   "metadata": {
    "tags": []
   },
   "outputs": [],
   "source": [
    "plt.scatter(pca_reduced_data[:,0], pca_reduced_data[:,1], c = [y_test])\n",
    "# plt.plot(X_train, reg.predict(X_train),color='k')\n",
    "plt.title('PCA projected CEED Embeddings Coloured by Peak to Trough Duration')\n",
    "plt.xlabel('PC1 - varience = 0.63')\n",
    "plt.ylabel('PC2 - varience = 0.30')\n",
    "plt.show()"
   ]
  },
  {
   "cell_type": "code",
   "execution_count": null,
   "id": "c8ba9f7a-c429-4497-9195-ab2076070e0f",
   "metadata": {
    "tags": []
   },
   "outputs": [],
   "source": [
    "pc_split = pca_reduced_data[:,0]\n",
    "mask = pc_split>2\n",
    "len(mask)\n",
    "# pc11_cluster = pc_split[mask]\n",
    "# pc11_cluster"
   ]
  },
  {
   "cell_type": "code",
   "execution_count": null,
   "id": "08892477-b80f-47d5-baf7-69681abcddc4",
   "metadata": {},
   "outputs": [],
   "source": []
  },
  {
   "cell_type": "code",
   "execution_count": null,
   "id": "7eddbf49-9356-4c05-87ab-3b868f42d0cd",
   "metadata": {
    "tags": []
   },
   "outputs": [],
   "source": [
    "import umap\n",
    "manifold = umap.UMAP(random_state=42, n_components=2).fit(X_test)\n",
    "X_reduced = manifold.transform(X_test)\n",
    "print(X_reduced.shape)"
   ]
  },
  {
   "cell_type": "code",
   "execution_count": null,
   "id": "041e40ca-cfd1-4e56-b8a6-97667e98b0ae",
   "metadata": {
    "tags": []
   },
   "outputs": [],
   "source": [
    "manifold3d = umap.UMAP(random_state=42, n_components=3).fit(X_test)\n",
    "X_reduced3d = manifold3d.transform(X_test)\n",
    "print(X_reduced3d.shape)"
   ]
  },
  {
   "cell_type": "code",
   "execution_count": null,
   "id": "7b3637ba-7b5d-43f2-b337-ddfa04036d13",
   "metadata": {
    "tags": []
   },
   "outputs": [],
   "source": [
    "#1d umap\n",
    "manifold1d = umap.UMAP(random_state=42, n_components=1).fit(X_test)\n",
    "X_reduced1d = manifold1d.transform(X_test)"
   ]
  },
  {
   "cell_type": "code",
   "execution_count": null,
   "id": "0f307312-04b7-4873-bb09-3f840adb3356",
   "metadata": {
    "tags": []
   },
   "outputs": [],
   "source": [
    "plt.scatter(X_reduced1d, y_test)\n",
    "plt.plot()"
   ]
  },
  {
   "cell_type": "code",
   "execution_count": null,
   "id": "72e1d1ca-2cbc-4d72-bebe-bc6f8db0fe8e",
   "metadata": {
    "tags": []
   },
   "outputs": [],
   "source": [
    "# colour = [get_ccolor(int(y*100)) for y in y_test]\n",
    "plt.scatter(X_reduced[:, 0], X_reduced[:, 1], c = [y_test])\n",
    "plt.title('Umap projected CEED Embeddings Coloured by Peak to Trough Amplitude')\n",
    "\n",
    "plt.show()"
   ]
  },
  {
   "cell_type": "code",
   "execution_count": 37,
   "id": "cb9991c4-0d13-475e-8125-f920181f616c",
   "metadata": {},
   "outputs": [],
   "source": [
    "# separate umap clusters"
   ]
  },
  {
   "cell_type": "code",
   "execution_count": 38,
   "id": "18753bfb-9c41-4123-a32d-94316748ab85",
   "metadata": {
    "tags": []
   },
   "outputs": [
    {
     "data": {
      "text/html": [
       "<div>\n",
       "<style scoped>\n",
       "    .dataframe tbody tr th:only-of-type {\n",
       "        vertical-align: middle;\n",
       "    }\n",
       "\n",
       "    .dataframe tbody tr th {\n",
       "        vertical-align: top;\n",
       "    }\n",
       "\n",
       "    .dataframe thead th {\n",
       "        text-align: right;\n",
       "    }\n",
       "</style>\n",
       "<table border=\"1\" class=\"dataframe\">\n",
       "  <thead>\n",
       "    <tr style=\"text-align: right;\">\n",
       "      <th></th>\n",
       "      <th>waveform</th>\n",
       "      <th>embeddings</th>\n",
       "      <th>depth</th>\n",
       "      <th>channel</th>\n",
       "      <th>firing_rate</th>\n",
       "      <th>cluster_id</th>\n",
       "      <th>p2T</th>\n",
       "      <th>p2p</th>\n",
       "      <th>amps</th>\n",
       "    </tr>\n",
       "  </thead>\n",
       "  <tbody>\n",
       "    <tr>\n",
       "      <th>0</th>\n",
       "      <td>[0.0, 0.0, 0.0, 0.0, 0.0, 0.0, 0.0, 0.0, 0.0, ...</td>\n",
       "      <td>[-5.6744785, -3.2041295, -1.1261494, -0.596271...</td>\n",
       "      <td>20.0</td>\n",
       "      <td>0</td>\n",
       "      <td>5.933501</td>\n",
       "      <td>0</td>\n",
       "      <td>0.499997</td>\n",
       "      <td>0.148374</td>\n",
       "      <td>0.105942</td>\n",
       "    </tr>\n",
       "    <tr>\n",
       "      <th>1</th>\n",
       "      <td>[0.0, 0.0, 0.0, 0.0, 0.0, 0.0, 0.0, 0.0, 0.0, ...</td>\n",
       "      <td>[-5.2820187, -3.3257954, -2.0739157, 0.6581040...</td>\n",
       "      <td>20.0</td>\n",
       "      <td>0</td>\n",
       "      <td>14.497526</td>\n",
       "      <td>1</td>\n",
       "      <td>0.433331</td>\n",
       "      <td>0.170361</td>\n",
       "      <td>0.104917</td>\n",
       "    </tr>\n",
       "    <tr>\n",
       "      <th>2</th>\n",
       "      <td>[0.0, 0.0, 0.0, 0.0, 0.0, 0.0, 0.0, 0.0, 0.0, ...</td>\n",
       "      <td>[-4.902452, -3.7623112, -1.1823697, -1.106853,...</td>\n",
       "      <td>20.0</td>\n",
       "      <td>0</td>\n",
       "      <td>0.878818</td>\n",
       "      <td>2</td>\n",
       "      <td>0.466664</td>\n",
       "      <td>0.110067</td>\n",
       "      <td>0.109398</td>\n",
       "    </tr>\n",
       "    <tr>\n",
       "      <th>3</th>\n",
       "      <td>[0.0, 0.0, 0.0, 0.0, 0.0, 0.0, 0.0, 0.0, 0.0, ...</td>\n",
       "      <td>[-5.3847847, -3.169677, -2.0407019, 1.1954426,...</td>\n",
       "      <td>20.0</td>\n",
       "      <td>1</td>\n",
       "      <td>3.098791</td>\n",
       "      <td>3</td>\n",
       "      <td>-0.133333</td>\n",
       "      <td>0.135527</td>\n",
       "      <td>0.104720</td>\n",
       "    </tr>\n",
       "    <tr>\n",
       "      <th>4</th>\n",
       "      <td>[0.0, 0.0, 0.0, 0.0, 0.0, 0.0, 0.0, 0.0, 0.0, ...</td>\n",
       "      <td>[-5.1969705, -3.08665, -2.157361, 1.1720166, -...</td>\n",
       "      <td>20.0</td>\n",
       "      <td>0</td>\n",
       "      <td>0.019569</td>\n",
       "      <td>4</td>\n",
       "      <td>0.499997</td>\n",
       "      <td>0.044360</td>\n",
       "      <td>0.083868</td>\n",
       "    </tr>\n",
       "  </tbody>\n",
       "</table>\n",
       "</div>"
      ],
      "text/plain": [
       "                                            waveform  \\\n",
       "0  [0.0, 0.0, 0.0, 0.0, 0.0, 0.0, 0.0, 0.0, 0.0, ...   \n",
       "1  [0.0, 0.0, 0.0, 0.0, 0.0, 0.0, 0.0, 0.0, 0.0, ...   \n",
       "2  [0.0, 0.0, 0.0, 0.0, 0.0, 0.0, 0.0, 0.0, 0.0, ...   \n",
       "3  [0.0, 0.0, 0.0, 0.0, 0.0, 0.0, 0.0, 0.0, 0.0, ...   \n",
       "4  [0.0, 0.0, 0.0, 0.0, 0.0, 0.0, 0.0, 0.0, 0.0, ...   \n",
       "\n",
       "                                          embeddings  depth  channel  \\\n",
       "0  [-5.6744785, -3.2041295, -1.1261494, -0.596271...   20.0        0   \n",
       "1  [-5.2820187, -3.3257954, -2.0739157, 0.6581040...   20.0        0   \n",
       "2  [-4.902452, -3.7623112, -1.1823697, -1.106853,...   20.0        0   \n",
       "3  [-5.3847847, -3.169677, -2.0407019, 1.1954426,...   20.0        1   \n",
       "4  [-5.1969705, -3.08665, -2.157361, 1.1720166, -...   20.0        0   \n",
       "\n",
       "   firing_rate  cluster_id       p2T       p2p      amps  \n",
       "0     5.933501           0  0.499997  0.148374  0.105942  \n",
       "1    14.497526           1  0.433331  0.170361  0.104917  \n",
       "2     0.878818           2  0.466664  0.110067  0.109398  \n",
       "3     3.098791           3 -0.133333  0.135527  0.104720  \n",
       "4     0.019569           4  0.499997  0.044360  0.083868  "
      ]
     },
     "execution_count": 38,
     "metadata": {},
     "output_type": "execute_result"
    }
   ],
   "source": [
    "dataframe_cells.head()"
   ]
  },
  {
   "cell_type": "code",
   "execution_count": 39,
   "id": "b04d81a6-ed7a-495f-8db2-e60753cbab52",
   "metadata": {
    "tags": []
   },
   "outputs": [],
   "source": [
    "# colorscheme = [dataframe_cells.depth]"
   ]
  },
  {
   "cell_type": "code",
   "execution_count": 40,
   "id": "1b905bfe-32e1-408a-8fc2-19a9a0cd945a",
   "metadata": {
    "tags": []
   },
   "outputs": [
    {
     "ename": "NameError",
     "evalue": "name 'X_reduced3d' is not defined",
     "output_type": "error",
     "traceback": [
      "\u001b[0;31m---------------------------------------------------------------------------\u001b[0m",
      "\u001b[0;31mNameError\u001b[0m                                 Traceback (most recent call last)",
      "Cell \u001b[0;32mIn[40], line 4\u001b[0m\n\u001b[1;32m      1\u001b[0m fig \u001b[38;5;241m=\u001b[39m plt\u001b[38;5;241m.\u001b[39mfigure()\n\u001b[1;32m      2\u001b[0m ax \u001b[38;5;241m=\u001b[39m fig\u001b[38;5;241m.\u001b[39madd_subplot(projection\u001b[38;5;241m=\u001b[39m\u001b[38;5;124m'\u001b[39m\u001b[38;5;124m3d\u001b[39m\u001b[38;5;124m'\u001b[39m)\n\u001b[0;32m----> 4\u001b[0m ax\u001b[38;5;241m.\u001b[39mscatter(\u001b[43mX_reduced3d\u001b[49m[:,\u001b[38;5;241m0\u001b[39m], X_reduced3d[:,\u001b[38;5;241m1\u001b[39m], X_reduced3d[:,\u001b[38;5;241m2\u001b[39m], c \u001b[38;5;241m=\u001b[39m [y_test])\n\u001b[1;32m      5\u001b[0m \u001b[38;5;66;03m#nothing obvious in 3d scatter of PCA\u001b[39;00m\n\u001b[1;32m      6\u001b[0m plt\u001b[38;5;241m.\u001b[39mtitle(\u001b[38;5;124m'\u001b[39m\u001b[38;5;124mUMAP - scaled 3d\u001b[39m\u001b[38;5;124m'\u001b[39m)\n",
      "\u001b[0;31mNameError\u001b[0m: name 'X_reduced3d' is not defined"
     ]
    },
    {
     "data": {
      "image/png": "[encoded data removed]",
      "text/plain": [
       "<Figure size 640x480 with 1 Axes>"
      ]
     },
     "metadata": {},
     "output_type": "display_data"
    }
   ],
   "source": [
    "fig = plt.figure()\n",
    "ax = fig.add_subplot(projection='3d')\n",
    "\n",
    "ax.scatter(X_reduced3d[:,0], X_reduced3d[:,1], X_reduced3d[:,2], c = [y_test])\n",
    "#nothing obvious in 3d scatter of PCA\n",
    "plt.title('UMAP - scaled 3d')\n",
    "plt.show()"
   ]
  },
  {
   "cell_type": "code",
   "execution_count": null,
   "id": "01025eb1-fddd-4611-81bc-796ed28c7b39",
   "metadata": {
    "tags": []
   },
   "outputs": [],
   "source": []
  },
  {
   "cell_type": "code",
   "execution_count": 41,
   "id": "8595763b-206e-43a8-a20f-7a42a56914e7",
   "metadata": {
    "tags": []
   },
   "outputs": [
    {
     "ename": "ValueError",
     "evalue": "X has 1 features, but LinearRegression is expecting 5 features as input.",
     "output_type": "error",
     "traceback": [
      "\u001b[0;31m---------------------------------------------------------------------------\u001b[0m",
      "\u001b[0;31mValueError\u001b[0m                                Traceback (most recent call last)",
      "Cell \u001b[0;32mIn[41], line 1\u001b[0m\n\u001b[0;32m----> 1\u001b[0m predictions \u001b[38;5;241m=\u001b[39m \u001b[43mreg\u001b[49m\u001b[38;5;241;43m.\u001b[39;49m\u001b[43mpredict\u001b[49m\u001b[43m(\u001b[49m\u001b[43mX_test\u001b[49m\u001b[43m)\u001b[49m\n\u001b[1;32m      2\u001b[0m \u001b[38;5;66;03m# plt.scatter(list(range(len(y_test))), y_test, c = 'b', label = 'Actual peak2trough')\u001b[39;00m\n\u001b[1;32m      3\u001b[0m \u001b[38;5;66;03m# plt.scatter(list(range(len(y_test))), predictions, c = 'r', label = 'Predicted peak2trough')\u001b[39;00m\n\u001b[1;32m      4\u001b[0m \u001b[38;5;66;03m# # plt.legend()\u001b[39;00m\n\u001b[1;32m      5\u001b[0m \u001b[38;5;66;03m# plt.show()\u001b[39;00m\n\u001b[1;32m      7\u001b[0m plt\u001b[38;5;241m.\u001b[39mscatter(y_test, predictions, c \u001b[38;5;241m=\u001b[39m \u001b[38;5;124m'\u001b[39m\u001b[38;5;124mr\u001b[39m\u001b[38;5;124m'\u001b[39m, label\u001b[38;5;241m=\u001b[39m\u001b[38;5;124m'\u001b[39m\u001b[38;5;124mprediction\u001b[39m\u001b[38;5;124m'\u001b[39m)\n",
      "File \u001b[0;32m~/mambaforge/envs/ceed2/lib/python3.10/site-packages/sklearn/linear_model/_base.py:386\u001b[0m, in \u001b[0;36mLinearModel.predict\u001b[0;34m(self, X)\u001b[0m\n\u001b[1;32m    372\u001b[0m \u001b[38;5;28;01mdef\u001b[39;00m \u001b[38;5;21mpredict\u001b[39m(\u001b[38;5;28mself\u001b[39m, X):\n\u001b[1;32m    373\u001b[0m \u001b[38;5;250m    \u001b[39m\u001b[38;5;124;03m\"\"\"\u001b[39;00m\n\u001b[1;32m    374\u001b[0m \u001b[38;5;124;03m    Predict using the linear model.\u001b[39;00m\n\u001b[1;32m    375\u001b[0m \n\u001b[0;32m   (...)\u001b[0m\n\u001b[1;32m    384\u001b[0m \u001b[38;5;124;03m        Returns predicted values.\u001b[39;00m\n\u001b[1;32m    385\u001b[0m \u001b[38;5;124;03m    \"\"\"\u001b[39;00m\n\u001b[0;32m--> 386\u001b[0m     \u001b[38;5;28;01mreturn\u001b[39;00m \u001b[38;5;28;43mself\u001b[39;49m\u001b[38;5;241;43m.\u001b[39;49m\u001b[43m_decision_function\u001b[49m\u001b[43m(\u001b[49m\u001b[43mX\u001b[49m\u001b[43m)\u001b[49m\n",
      "File \u001b[0;32m~/mambaforge/envs/ceed2/lib/python3.10/site-packages/sklearn/linear_model/_base.py:369\u001b[0m, in \u001b[0;36mLinearModel._decision_function\u001b[0;34m(self, X)\u001b[0m\n\u001b[1;32m    366\u001b[0m \u001b[38;5;28;01mdef\u001b[39;00m \u001b[38;5;21m_decision_function\u001b[39m(\u001b[38;5;28mself\u001b[39m, X):\n\u001b[1;32m    367\u001b[0m     check_is_fitted(\u001b[38;5;28mself\u001b[39m)\n\u001b[0;32m--> 369\u001b[0m     X \u001b[38;5;241m=\u001b[39m \u001b[38;5;28;43mself\u001b[39;49m\u001b[38;5;241;43m.\u001b[39;49m\u001b[43m_validate_data\u001b[49m\u001b[43m(\u001b[49m\u001b[43mX\u001b[49m\u001b[43m,\u001b[49m\u001b[43m \u001b[49m\u001b[43maccept_sparse\u001b[49m\u001b[38;5;241;43m=\u001b[39;49m\u001b[43m[\u001b[49m\u001b[38;5;124;43m\"\u001b[39;49m\u001b[38;5;124;43mcsr\u001b[39;49m\u001b[38;5;124;43m\"\u001b[39;49m\u001b[43m,\u001b[49m\u001b[43m \u001b[49m\u001b[38;5;124;43m\"\u001b[39;49m\u001b[38;5;124;43mcsc\u001b[39;49m\u001b[38;5;124;43m\"\u001b[39;49m\u001b[43m,\u001b[49m\u001b[43m \u001b[49m\u001b[38;5;124;43m\"\u001b[39;49m\u001b[38;5;124;43mcoo\u001b[39;49m\u001b[38;5;124;43m\"\u001b[39;49m\u001b[43m]\u001b[49m\u001b[43m,\u001b[49m\u001b[43m \u001b[49m\u001b[43mreset\u001b[49m\u001b[38;5;241;43m=\u001b[39;49m\u001b[38;5;28;43;01mFalse\u001b[39;49;00m\u001b[43m)\u001b[49m\n\u001b[1;32m    370\u001b[0m     \u001b[38;5;28;01mreturn\u001b[39;00m safe_sparse_dot(X, \u001b[38;5;28mself\u001b[39m\u001b[38;5;241m.\u001b[39mcoef_\u001b[38;5;241m.\u001b[39mT, dense_output\u001b[38;5;241m=\u001b[39m\u001b[38;5;28;01mTrue\u001b[39;00m) \u001b[38;5;241m+\u001b[39m \u001b[38;5;28mself\u001b[39m\u001b[38;5;241m.\u001b[39mintercept_\n",
      "File \u001b[0;32m~/mambaforge/envs/ceed2/lib/python3.10/site-packages/sklearn/base.py:626\u001b[0m, in \u001b[0;36mBaseEstimator._validate_data\u001b[0;34m(self, X, y, reset, validate_separately, cast_to_ndarray, **check_params)\u001b[0m\n\u001b[1;32m    623\u001b[0m     out \u001b[38;5;241m=\u001b[39m X, y\n\u001b[1;32m    625\u001b[0m \u001b[38;5;28;01mif\u001b[39;00m \u001b[38;5;129;01mnot\u001b[39;00m no_val_X \u001b[38;5;129;01mand\u001b[39;00m check_params\u001b[38;5;241m.\u001b[39mget(\u001b[38;5;124m\"\u001b[39m\u001b[38;5;124mensure_2d\u001b[39m\u001b[38;5;124m\"\u001b[39m, \u001b[38;5;28;01mTrue\u001b[39;00m):\n\u001b[0;32m--> 626\u001b[0m     \u001b[38;5;28;43mself\u001b[39;49m\u001b[38;5;241;43m.\u001b[39;49m\u001b[43m_check_n_features\u001b[49m\u001b[43m(\u001b[49m\u001b[43mX\u001b[49m\u001b[43m,\u001b[49m\u001b[43m \u001b[49m\u001b[43mreset\u001b[49m\u001b[38;5;241;43m=\u001b[39;49m\u001b[43mreset\u001b[49m\u001b[43m)\u001b[49m\n\u001b[1;32m    628\u001b[0m \u001b[38;5;28;01mreturn\u001b[39;00m out\n",
      "File \u001b[0;32m~/mambaforge/envs/ceed2/lib/python3.10/site-packages/sklearn/base.py:415\u001b[0m, in \u001b[0;36mBaseEstimator._check_n_features\u001b[0;34m(self, X, reset)\u001b[0m\n\u001b[1;32m    412\u001b[0m     \u001b[38;5;28;01mreturn\u001b[39;00m\n\u001b[1;32m    414\u001b[0m \u001b[38;5;28;01mif\u001b[39;00m n_features \u001b[38;5;241m!=\u001b[39m \u001b[38;5;28mself\u001b[39m\u001b[38;5;241m.\u001b[39mn_features_in_:\n\u001b[0;32m--> 415\u001b[0m     \u001b[38;5;28;01mraise\u001b[39;00m \u001b[38;5;167;01mValueError\u001b[39;00m(\n\u001b[1;32m    416\u001b[0m         \u001b[38;5;124mf\u001b[39m\u001b[38;5;124m\"\u001b[39m\u001b[38;5;124mX has \u001b[39m\u001b[38;5;132;01m{\u001b[39;00mn_features\u001b[38;5;132;01m}\u001b[39;00m\u001b[38;5;124m features, but \u001b[39m\u001b[38;5;132;01m{\u001b[39;00m\u001b[38;5;28mself\u001b[39m\u001b[38;5;241m.\u001b[39m\u001b[38;5;18m__class__\u001b[39m\u001b[38;5;241m.\u001b[39m\u001b[38;5;18m__name__\u001b[39m\u001b[38;5;132;01m}\u001b[39;00m\u001b[38;5;124m \u001b[39m\u001b[38;5;124m\"\u001b[39m\n\u001b[1;32m    417\u001b[0m         \u001b[38;5;124mf\u001b[39m\u001b[38;5;124m\"\u001b[39m\u001b[38;5;124mis expecting \u001b[39m\u001b[38;5;132;01m{\u001b[39;00m\u001b[38;5;28mself\u001b[39m\u001b[38;5;241m.\u001b[39mn_features_in_\u001b[38;5;132;01m}\u001b[39;00m\u001b[38;5;124m features as input.\u001b[39m\u001b[38;5;124m\"\u001b[39m\n\u001b[1;32m    418\u001b[0m     )\n",
      "\u001b[0;31mValueError\u001b[0m: X has 1 features, but LinearRegression is expecting 5 features as input."
     ]
    }
   ],
   "source": [
    "predictions = reg.predict(X_test)\n",
    "# plt.scatter(list(range(len(y_test))), y_test, c = 'b', label = 'Actual peak2trough')\n",
    "# plt.scatter(list(range(len(y_test))), predictions, c = 'r', label = 'Predicted peak2trough')\n",
    "# # plt.legend()\n",
    "# plt.show()\n",
    "\n",
    "plt.scatter(y_test, predictions, c = 'r', label='prediction')\n",
    "plt.plot(y_test, y_test, c='b', label = 'ideal')\n",
    "# plt.plot(list(range(len(y_test)), predictions,color='k')\n",
    "plt.legend()\n",
    "plt.title('LR prediction of P2T from Embeddings')\n",
    "plt.xlabel('Actual Peak to Trough Amplitude')\n",
    "plt.ylabel('Predicted Peak to Trough Amplitude')\n",
    "plt.text(0, 0.65,'R2 = ~0.65')\n",
    "plt.show()"
   ]
  },
  {
   "cell_type": "code",
   "execution_count": 42,
   "id": "39d31206-eb9b-4e12-8eef-e2186881cd16",
   "metadata": {
    "tags": []
   },
   "outputs": [
    {
     "ename": "NameError",
     "evalue": "name 'predictions' is not defined",
     "output_type": "error",
     "traceback": [
      "\u001b[0;31m---------------------------------------------------------------------------\u001b[0m",
      "\u001b[0;31mNameError\u001b[0m                                 Traceback (most recent call last)",
      "Cell \u001b[0;32mIn[42], line 1\u001b[0m\n\u001b[0;32m----> 1\u001b[0m \u001b[38;5;28mprint\u001b[39m(y_test\u001b[38;5;241m.\u001b[39mshape, \u001b[43mpredictions\u001b[49m\u001b[38;5;241m.\u001b[39mshape)\n",
      "\u001b[0;31mNameError\u001b[0m: name 'predictions' is not defined"
     ]
    }
   ],
   "source": [
    "print(y_test.shape, predictions.shape)"
   ]
  },
  {
   "cell_type": "code",
   "execution_count": null,
   "id": "1156406f-0e5f-4558-aca8-fa7c793ad846",
   "metadata": {},
   "outputs": [],
   "source": []
  },
  {
   "cell_type": "code",
   "execution_count": 167,
   "id": "260ab8b6-69a3-471a-ba2d-7b81ae96ed99",
   "metadata": {
    "tags": []
   },
   "outputs": [
    {
     "data": {
      "text/plain": [
       "795"
      ]
     },
     "execution_count": 167,
     "metadata": {},
     "output_type": "execute_result"
    }
   ],
   "source": [
    "#number of cluster\n",
    "len(dataframe_cells.cluster_id)"
   ]
  },
  {
   "cell_type": "code",
   "execution_count": null,
   "id": "a7290a09-b87c-4a51-a193-2d11f649d9a0",
   "metadata": {
    "tags": []
   },
   "outputs": [],
   "source": [
    "from sklearn.mixture import GaussianMixture\n",
    "import numpy as np\n",
    "\n",
    "num_clust = 13\n",
    "\n",
    "labels = []\n",
    "aic_scores = []\n",
    "bic_scores = []\n",
    "for num_clust in np.arange(795)+1:\n",
    "    gmm = GaussianMixture(num_clust, random_state=0).fit(X)\n",
    "    gmm_labels = gmm.predict(X)\n",
    "    bic_score = gmm.bic(X)\n",
    "    aic_score = gmm.aic(X)\n",
    "    labels.append(gmm_labels)\n",
    "    bic_scores.append(bic_score)\n",
    "    aic_scores.append(aic_score)\n",
    "\n",
    "    "
   ]
  },
  {
   "cell_type": "code",
   "execution_count": null,
   "id": "87d23423-2813-4156-aaea-f7bf5172d9d6",
   "metadata": {
    "tags": []
   },
   "outputs": [],
   "source": [
    "f, arr = plt.subplots()\n",
    "f.set_size_inches(3., 2.)\n",
    "arr.plot(np.arange(10) + 1, bic_scores,c='k', marker='o',fillstyle='full',markerfacecolor='w',linewidth=1,markeredgewidth=1)"
   ]
  },
  {
   "cell_type": "code",
   "execution_count": null,
   "id": "4866960a-87b0-4d0c-9d15-a0f479fa7b93",
   "metadata": {},
   "outputs": [],
   "source": []
  },
  {
   "cell_type": "code",
   "execution_count": 165,
   "id": "a56ddf47-1780-47b2-9f46-235674f36aa7",
   "metadata": {
    "tags": []
   },
   "outputs": [],
   "source": [
    "#TODO:\n",
    "    # brain locs - han code\n",
    "    # localization     \n",
    "    #train a model to predict waveform from embeddings, then interpret"
   ]
  },
  {
   "cell_type": "code",
   "execution_count": null,
   "id": "40ee77ee-c906-41fb-9c08-fa0ee2a9c384",
   "metadata": {
    "tags": []
   },
   "outputs": [],
   "source": [
    "# plt.scatter(X_train, y_train)\n",
    "# plt.plot(X_train, reg.predict(X_train),color='k')"
   ]
  },
  {
   "cell_type": "code",
   "execution_count": null,
   "id": "c1135060-01c0-495a-941c-1f0e2d3c111b",
   "metadata": {
    "tags": []
   },
   "outputs": [],
   "source": [
    "print(reg.predict([X_test[9]]))\n",
    "print(y_test[0])"
   ]
  },
  {
   "cell_type": "code",
   "execution_count": null,
   "id": "64f6dcce-3c4a-4f05-85c8-7d44f6d952b2",
   "metadata": {},
   "outputs": [],
   "source": []
  },
  {
   "cell_type": "code",
   "execution_count": null,
   "id": "6a3169fa-7fa6-42cc-9f5b-49d014a4c4a4",
   "metadata": {
    "tags": []
   },
   "outputs": [],
   "source": [
    "from dartsort.localize import localize_torch as localize"
   ]
  },
  {
   "cell_type": "code",
   "execution_count": null,
   "id": "bf5277fd-3cab-4f26-a699-5606b7b42195",
   "metadata": {},
   "outputs": [],
   "source": [
    "localizations = localize_amplitude_vectors(spike_waveforms"
   ]
  },
  {
   "cell_type": "code",
   "execution_count": null,
   "id": "e8fa7fed-f395-4e30-9ba0-d3563520c553",
   "metadata": {},
   "outputs": [],
   "source": []
  },
  {
   "cell_type": "code",
   "execution_count": null,
   "id": "fcb95330-39c9-498f-949c-83ef3a747820",
   "metadata": {},
   "outputs": [],
   "source": []
  },
  {
   "cell_type": "code",
   "execution_count": null,
   "id": "310c02b3-5a4a-4ab9-bab1-18ba39310972",
   "metadata": {},
   "outputs": [],
   "source": []
  },
  {
   "cell_type": "code",
   "execution_count": null,
   "id": "397862fe-7cc3-418c-8184-8fb708c022f1",
   "metadata": {},
   "outputs": [],
   "source": []
  },
  {
   "cell_type": "code",
   "execution_count": null,
   "id": "e95f8ad8-ef8e-44f2-adaa-e8c575f57613",
   "metadata": {},
   "outputs": [],
   "source": []
  },
  {
   "cell_type": "code",
   "execution_count": null,
   "id": "f93a3b0d-ce34-49e5-8074-0cf31ed09327",
   "metadata": {},
   "outputs": [],
   "source": []
  },
  {
   "cell_type": "code",
   "execution_count": null,
   "id": "f151214c-1cf8-47ea-969e-1bf4b8b942b2",
   "metadata": {},
   "outputs": [],
   "source": []
  },
  {
   "cell_type": "code",
   "execution_count": null,
   "id": "4312e3bb-d6db-4e70-b2ea-7fbcb2fa12f4",
   "metadata": {},
   "outputs": [],
   "source": []
  },
  {
   "cell_type": "code",
   "execution_count": null,
   "id": "9ffe3591-7f6b-4643-aefa-e634e6a89cea",
   "metadata": {
    "tags": []
   },
   "outputs": [],
   "source": [
    "print(spike_waveforms.shape) #spike, time, channel\n",
    "data.shape"
   ]
  },
  {
   "cell_type": "code",
   "execution_count": null,
   "id": "61bd90bb-2852-4c61-804f-7cc7fae4d8e2",
   "metadata": {
    "tags": []
   },
   "outputs": [],
   "source": [
    "data[0].shape"
   ]
  },
  {
   "cell_type": "code",
   "execution_count": null,
   "id": "eccd49e9-5e69-49a6-8f44-1c66475e7c43",
   "metadata": {
    "tags": []
   },
   "outputs": [],
   "source": [
    "# normalize_wf(data[0])"
   ]
  },
  {
   "cell_type": "code",
   "execution_count": null,
   "id": "2ef3584c-d0f4-4dfa-98f9-49ebde60b712",
   "metadata": {
    "tags": []
   },
   "outputs": [],
   "source": [
    "spike_waveforms[0][None,:].shape #look up None vs zero when indexing arrays..."
   ]
  },
  {
   "cell_type": "code",
   "execution_count": null,
   "id": "8370489d-aecd-4def-8ea9-e3bf797de8c8",
   "metadata": {},
   "outputs": [],
   "source": []
  },
  {
   "cell_type": "code",
   "execution_count": null,
   "id": "033bef7f-c356-42c6-b1d9-034f470fdab3",
   "metadata": {},
   "outputs": [],
   "source": []
  },
  {
   "cell_type": "code",
   "execution_count": null,
   "id": "c6a0cf77-4209-4940-8cda-4eff76d2d22a",
   "metadata": {},
   "outputs": [],
   "source": []
  },
  {
   "cell_type": "code",
   "execution_count": null,
   "id": "9ba3883f-087f-4131-8673-998e1408f22e",
   "metadata": {},
   "outputs": [],
   "source": []
  },
  {
   "cell_type": "code",
   "execution_count": null,
   "id": "0654d5d8-4a1e-4fa0-b3e0-ba1904816fee",
   "metadata": {},
   "outputs": [],
   "source": []
  },
  {
   "cell_type": "code",
   "execution_count": null,
   "id": "cea34bb3-c467-4a19-bf89-b49a9d815594",
   "metadata": {},
   "outputs": [],
   "source": [
    "import einops"
   ]
  },
  {
   "cell_type": "code",
   "execution_count": null,
   "id": "a4f675f3-8915-4830-839c-b7cdfbe29a85",
   "metadata": {},
   "outputs": [],
   "source": [
    "print(spikes.shape)\n",
    "spike_data = np.array([neuron[0, :] for neuron in spikes])\n",
    "print(spike_data.shape)"
   ]
  },
  {
   "cell_type": "code",
   "execution_count": null,
   "id": "5641774b-0fdc-4ae5-87e1-33383211ca9f",
   "metadata": {},
   "outputs": [],
   "source": []
  },
  {
   "cell_type": "code",
   "execution_count": null,
   "id": "8dada457-63fc-4441-9839-126f89d1e1b1",
   "metadata": {},
   "outputs": [],
   "source": []
  },
  {
   "cell_type": "code",
   "execution_count": null,
   "id": "7da2081e-396d-4322-ae4b-e6cc769ac26f",
   "metadata": {},
   "outputs": [],
   "source": []
  },
  {
   "cell_type": "code",
   "execution_count": null,
   "id": "e48c4538-42b2-4851-bea0-e8ac3b45ada9",
   "metadata": {},
   "outputs": [],
   "source": []
  },
  {
   "cell_type": "code",
   "execution_count": null,
   "id": "a2d80842-2fe7-44c7-b751-46d631b8db44",
   "metadata": {
    "tags": []
   },
   "outputs": [],
   "source": [
    "import matplotlib.pyplot as plt\n",
    "plt.eventplot(spike_times[0:50])\n",
    "plt.show()"
   ]
  },
  {
   "cell_type": "code",
   "execution_count": null,
   "id": "55445bce-fb26-418c-842a-89a59e1450f0",
   "metadata": {
    "tags": []
   },
   "outputs": [],
   "source": [
    "spike_loader = SpikeSortingLoader(pid=pid, one=one)"
   ]
  },
  {
   "cell_type": "code",
   "execution_count": null,
   "id": "90c3b7f4-8e60-473a-b63a-891fdd1400ff",
   "metadata": {
    "tags": []
   },
   "outputs": [],
   "source": [
    "# Download and load data\n",
    "spikes, clusters, channels = spike_loader.load_spike_sorting()\n",
    "\n",
    "# Assign brain location information from channels to clusters\n",
    "# clusters = spike_loader.merge_clusters(spikes, clusters, channels)"
   ]
  },
  {
   "cell_type": "code",
   "execution_count": null,
   "id": "282c1918-f116-421b-bd21-1a05c4fe0d68",
   "metadata": {
    "tags": []
   },
   "outputs": [],
   "source": [
    "clusters"
   ]
  },
  {
   "cell_type": "code",
   "execution_count": null,
   "id": "7525a86b-08dd-4d90-a22f-d6496a2f9d3f",
   "metadata": {
    "tags": []
   },
   "outputs": [],
   "source": [
    "import dartsort"
   ]
  },
  {
   "cell_type": "code",
   "execution_count": null,
   "id": "58b7a2b1-8754-4969-aaf7-5afea4851fc0",
   "metadata": {
    "tags": []
   },
   "outputs": [],
   "source": []
  },
  {
   "cell_type": "code",
   "execution_count": null,
   "id": "2148620b-5ef6-42e3-a21d-f4611fcb9a63",
   "metadata": {
    "tags": []
   },
   "outputs": [],
   "source": [
    "\n",
    "\n",
    "\n"
   ]
  },
  {
   "cell_type": "code",
   "execution_count": null,
   "id": "9f136a38-06b1-4c18-8d84-206cb154ecb5",
   "metadata": {
    "tags": []
   },
   "outputs": [],
   "source": []
  },
  {
   "cell_type": "code",
   "execution_count": null,
   "id": "262f7ddc-9736-46eb-b4e0-a7707414d079",
   "metadata": {
    "tags": []
   },
   "outputs": [],
   "source": [
    "clusters.keys()"
   ]
  },
  {
   "cell_type": "code",
   "execution_count": null,
   "id": "6b893f47-69c1-491e-9196-2f8f38fb4630",
   "metadata": {},
   "outputs": [],
   "source": []
  }
 ],
 "metadata": {
  "kernelspec": {
   "display_name": "Python [conda env:ceed]",
   "language": "python",
   "name": "conda-env-ceed-py"
  },
  "language_info": {
   "codemirror_mode": {
    "name": "ipython",
    "version": 3
   },
   "file_extension": ".py",
   "mimetype": "text/x-python",
   "name": "python",
   "nbconvert_exporter": "python",
   "pygments_lexer": "ipython3",
   "version": "3.10.13"
  }
 },
 "nbformat": 4,
 "nbformat_minor": 5
}
