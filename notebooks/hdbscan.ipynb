{
 "cells": [
  {
   "cell_type": "code",
   "execution_count": 2,
   "id": "1877c76c-d79f-45f3-8f3b-16d7756f148f",
   "metadata": {
    "tags": []
   },
   "outputs": [],
   "source": [
    "import hdbscan\n",
    "import pandas as pd"
   ]
  },
  {
   "cell_type": "markdown",
   "id": "8069fa7f-95b6-4a3c-b804-544d92f66556",
   "metadata": {},
   "source": [
    "create list of features (scaled)\n",
    "\n",
    "scale is /stddev\n",
    "\n",
    "take distrubutions of ceed features -try to make gaussian\n",
    "\n",
    "scale everything to std dev of x"
   ]
  },
  {
   "cell_type": "code",
   "execution_count": 3,
   "id": "bc1cf84a-826b-4e1b-8bf7-465d690eb57c",
   "metadata": {},
   "outputs": [],
   "source": [
    "# ceed data to be clustered\n"
   ]
  },
  {
   "cell_type": "code",
   "execution_count": null,
   "id": "af0928b8-2b97-4d79-aa85-296c237e0ccb",
   "metadata": {},
   "outputs": [],
   "source": []
  },
  {
   "cell_type": "code",
   "execution_count": null,
   "id": "11d9594e-e922-4877-ab63-b7c4c154e5d9",
   "metadata": {},
   "outputs": [],
   "source": []
  },
  {
   "cell_type": "code",
   "execution_count": null,
   "id": "d7a8ad07-f8d4-4f6b-ad9e-54499fff98b1",
   "metadata": {},
   "outputs": [],
   "source": []
  }
 ],
 "metadata": {
  "kernelspec": {
   "display_name": "Python [conda env:ceed]",
   "language": "python",
   "name": "conda-env-ceed-py"
  },
  "language_info": {
   "codemirror_mode": {
    "name": "ipython",
    "version": 3
   },
   "file_extension": ".py",
   "mimetype": "text/x-python",
   "name": "python",
   "nbconvert_exporter": "python",
   "pygments_lexer": "ipython3",
   "version": "3.10.13"
  }
 },
 "nbformat": 4,
 "nbformat_minor": 5
}
