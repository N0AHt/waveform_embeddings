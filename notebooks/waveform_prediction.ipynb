{
 "cells": [
  {
   "cell_type": "code",
   "execution_count": 1,
   "id": "d53f2829-02eb-4a50-a513-5ac612780b52",
   "metadata": {
    "tags": []
   },
   "outputs": [],
   "source": [
    "import numpy as np\n",
    "import torch\n",
    "import matplotlib.pyplot as plt\n",
    "from sklearn.model_selection import train_test_split\n",
    "\n",
    "import torch.nn as nn\n",
    "import torch.nn.functional as F\n",
    "\n",
    "from torch.utils.data import DataLoader, Dataset, random_split\n"
   ]
  },
  {
   "cell_type": "code",
   "execution_count": 2,
   "id": "8585d81f-ec77-4ea3-b3e6-39a2ef088a45",
   "metadata": {
    "tags": []
   },
   "outputs": [
    {
     "name": "stdout",
     "output_type": "stream",
     "text": [
      "Using cuda device\n"
     ]
    }
   ],
   "source": [
    "if torch.cuda.is_available():\n",
    "    device = 'cuda'\n",
    "else:\n",
    "     device = \"cpu\"\n",
    "\n",
    "print(f\"Using {device} device\")"
   ]
  },
  {
   "cell_type": "code",
   "execution_count": 3,
   "id": "0e4d5fb0-d59e-4258-8f21-8f5ffad1a66f",
   "metadata": {
    "tags": []
   },
   "outputs": [],
   "source": [
    "data = np.load('/home/noah/code/dataset.npy', allow_pickle = True)"
   ]
  },
  {
   "cell_type": "code",
   "execution_count": 4,
   "id": "f6036c6e-3506-4d42-9834-16cd4ff49e3a",
   "metadata": {
    "tags": []
   },
   "outputs": [],
   "source": [
    "# arr = np.vstack(data[:,0])\n",
    "# tens = torch.from_numpy(arr)\n"
   ]
  },
  {
   "cell_type": "code",
   "execution_count": 5,
   "id": "1ac7cfb3-937e-4fad-b125-36bc228ca1f0",
   "metadata": {
    "tags": []
   },
   "outputs": [
    {
     "name": "stdout",
     "output_type": "stream",
     "text": [
      "(795, 2)\n"
     ]
    }
   ],
   "source": [
    "print(data.shape)\n",
    "# plt.plot(data[0][0])\n",
    "# plt.show()"
   ]
  },
  {
   "cell_type": "code",
   "execution_count": 6,
   "id": "173b6653-f86b-462f-b983-623d2eec74f0",
   "metadata": {
    "tags": []
   },
   "outputs": [],
   "source": [
    "#make a model that can predit waveform from ceed embeddings\n",
    "\n",
    "X_data = data[:,1] #embeddings\n",
    "y_data = data[:,0] #waveforms\n",
    "\n",
    "class ceed_dataset(Dataset):\n",
    "    # load the dataset\n",
    "    def __init__(self, data):\n",
    "        # store the inputs and outputs\n",
    "        self.X = torch.from_numpy(np.vstack(data[:,1]).astype(np.float32)).to(device)\n",
    "        self.y = torch.from_numpy(np.vstack(data[:,0]).astype(np.float32)).to(device)\n",
    " \n",
    "    # number of rows in the dataset\n",
    "    def __len__(self):\n",
    "        return len(self.X)\n",
    " \n",
    "    # get a row at an index\n",
    "    def __getitem__(self, idx):\n",
    "        return [self.X[idx], self.y[idx]]\n",
    "\n",
    "dataset = ceed_dataset(data)\n",
    "\n",
    "train_size = 0.9\n",
    "test_size = 0.1\n",
    "train, test = random_split(dataset, [train_size, test_size])\n",
    "\n",
    "batch_size = 64*6\n",
    "dataload = DataLoader(train, batch_size=batch_size, shuffle=True)"
   ]
  },
  {
   "cell_type": "code",
   "execution_count": null,
   "id": "924a28ff-a551-4446-9a2d-35ca0224c8a1",
   "metadata": {
    "tags": []
   },
   "outputs": [],
   "source": []
  },
  {
   "cell_type": "code",
   "execution_count": 7,
   "id": "a921f8f7-07c5-4472-83da-c2171a235837",
   "metadata": {
    "tags": []
   },
   "outputs": [],
   "source": [
    "class Net(nn.Module):\n",
    "    \n",
    "    def __init__(self):\n",
    "        super().__init__()\n",
    "        self.linear1 = nn.Linear(5, 64)\n",
    "        self.linear2 = nn.Linear(64, 64)\n",
    "        self.linear3 = nn.Linear(64, 121)\n",
    "    \n",
    "    def forward(self, x):\n",
    "        x = self.linear1(x)\n",
    "        x = F.relu(x)\n",
    "        x = self.linear2(x)\n",
    "        x = F.relu(x)\n",
    "        logits = self.linear3(x)\n",
    "        return logits #should I update the output activation?\n",
    "    \n",
    "\n",
    "class ExpanderNet(nn.Module):\n",
    "#this model sucks! why does expansion reduce performance?\n",
    "    def __init__(self):\n",
    "        super().__init__()\n",
    "        self.linear1 = nn.Linear(5,64)\n",
    "        self.linear2 = nn.Linear(64,128)\n",
    "        self.linear3 = nn.Linear(128,256)\n",
    "        self.linear4 = nn.Linear(256, 121)\n",
    "        \n",
    "    def forward(self, x):\n",
    "        x = self.linear1(x)\n",
    "        x = F.relu(x)\n",
    "        x = self.linear2(x)\n",
    "        x = F.relu(x)\n",
    "        x = self.linear3(x)\n",
    "        x = F.relu(x)\n",
    "        logits = self.linear4(x)\n",
    "        return logits        \n",
    "    \n",
    "            \n",
    "waveform_gen = Net().to(device)\n",
    "waveform_gen_expander = ExpanderNet().to(device)"
   ]
  },
  {
   "cell_type": "code",
   "execution_count": 8,
   "id": "ebd02582-1d20-4c06-8275-19a89e166237",
   "metadata": {
    "tags": []
   },
   "outputs": [
    {
     "name": "stdout",
     "output_type": "stream",
     "text": [
      "Net(\n",
      "  (linear1): Linear(in_features=5, out_features=64, bias=True)\n",
      "  (linear2): Linear(in_features=64, out_features=64, bias=True)\n",
      "  (linear3): Linear(in_features=64, out_features=121, bias=True)\n",
      ")\n"
     ]
    }
   ],
   "source": [
    "print(waveform_gen)"
   ]
  },
  {
   "cell_type": "code",
   "execution_count": 9,
   "id": "4a0bab97-b260-4de2-b458-02e662a9696e",
   "metadata": {
    "tags": []
   },
   "outputs": [],
   "source": [
    "#training setup\n",
    "\n",
    "from torch.optim import SGD, Adam\n",
    "from torch.nn import BCELoss, MSELoss\n",
    "\n",
    "criterion = MSELoss()\n",
    "optimizer = SGD(waveform_gen.parameters(), lr=0.01, momentum=0.9)"
   ]
  },
  {
   "cell_type": "code",
   "execution_count": 10,
   "id": "12650b37-86b2-4e4f-b9ba-e66ab0512dd4",
   "metadata": {
    "tags": []
   },
   "outputs": [
    {
     "name": "stderr",
     "output_type": "stream",
     "text": [
      "100%|████████████████████████████████████| 20000/20000 [02:30<00:00, 133.19it/s]\n"
     ]
    }
   ],
   "source": [
    "from tqdm import tqdm\n",
    "\n",
    "epochs = 20000 #20000 is good\n",
    "for epoch in tqdm(range(epochs)):\n",
    "    for i, (inputs, targets) in enumerate(dataload):\n",
    "        optimizer.zero_grad()\n",
    "        # compute the model output\n",
    "        yhat = waveform_gen(inputs)\n",
    "        # calculate loss\n",
    "        loss = criterion(yhat, targets)\n",
    "        # credit assignment\n",
    "        loss.backward()\n",
    "        # update model weights\n",
    "        optimizer.step()\n"
   ]
  },
  {
   "cell_type": "code",
   "execution_count": 11,
   "id": "4aa19424-4bb6-4864-bef9-12eef75d73af",
   "metadata": {
    "tags": []
   },
   "outputs": [],
   "source": [
    "#back to cpu\n",
    "\n",
    "waveform_gen = waveform_gen.to('cpu')"
   ]
  },
  {
   "cell_type": "code",
   "execution_count": 12,
   "id": "ef023d31-1227-4ac2-8c6c-f8dbd01d4029",
   "metadata": {
    "tags": []
   },
   "outputs": [
    {
     "data": {
      "image/png": "[encoded data removed]",
      "text/plain": [
       "<Figure size 640x480 with 1 Axes>"
      ]
     },
     "metadata": {},
     "output_type": "display_data"
    }
   ],
   "source": [
    "#are results any good at all\n",
    "\n",
    "\n",
    "wave_number = 0\n",
    "predicted_wave = waveform_gen(test[wave_number][0].to('cpu')).detach().numpy()\n",
    "true_wave = test[wave_number][1].to('cpu').detach().numpy()\n",
    "\n",
    "plt.plot(predicted_wave, label = 'Predicted Wave')\n",
    "plt.plot(true_wave, label = 'True Wave')\n",
    "plt.legend()\n",
    "plt.title('Prediction of Template Waveform from CEED Embeddings')\n",
    "plt.show()"
   ]
  },
  {
   "cell_type": "code",
   "execution_count": null,
   "id": "76d28cd0-8766-439c-81ea-c0ec49367fb9",
   "metadata": {
    "tags": []
   },
   "outputs": [],
   "source": []
  },
  {
   "cell_type": "code",
   "execution_count": 13,
   "id": "09c16eb0-79c4-4935-969b-fcf3646d32d7",
   "metadata": {
    "tags": []
   },
   "outputs": [
    {
     "name": "stdout",
     "output_type": "stream",
     "text": [
      "original embeddings:  tensor([-4.6877, -3.3249, -2.7361,  1.1273, -4.9874])\n",
      "modified embeddings:  tensor([-4.6877, -3.3249, -2.7361,  1.1273, -4.9874])\n",
      "modification (percent):  0  in embedding index:  3\n"
     ]
    },
    {
     "data": {
      "image/png": "[encoded data removed]",
      "text/plain": [
       "<Figure size 640x480 with 1 Axes>"
      ]
     },
     "metadata": {},
     "output_type": "display_data"
    }
   ],
   "source": [
    "#manipulate embeddings\n",
    "import copy\n",
    "\n",
    "wave_number = 14\n",
    "embedding_index = 3\n",
    "percent_change = 0\n",
    "\n",
    "test_embedding = test[wave_number][0].to('cpu').detach()\n",
    "new_embedding = copy.deepcopy(test_embedding)\n",
    "new_embedding[embedding_index] = test_embedding[embedding_index] + np.abs(test_embedding[embedding_index])*percent_change\n",
    "\n",
    "print('original embeddings: ', test_embedding)\n",
    "print('modified embeddings: ', new_embedding)\n",
    "print('modification (percent): ', percent_change, ' in embedding index: ', embedding_index)\n",
    "\n",
    "\n",
    "\n",
    "new_wave = waveform_gen(new_embedding).to('cpu').detach()\n",
    "old_wave = waveform_gen(test_embedding).to('cpu').detach()\n",
    "real_wave = test[wave_number][1].to('cpu').detach()\n",
    "\n",
    "plt.plot(new_wave, label = 'modified predicted wave')\n",
    "plt.plot(old_wave, label = 'original predicted wave')\n",
    "plt.plot(real_wave, label = 'real wave')\n",
    "plt.legend()\n",
    "plt.show()\n"
   ]
  },
  {
   "cell_type": "markdown",
   "id": "14dd6f42-06f1-444a-9479-177a04c1cef7",
   "metadata": {
    "tags": []
   },
   "source": [
    "# embeddings:\n",
    "\n",
    "2 temporal shift, some scaling, noise\n",
    "\n",
    "3 compression of waveform\n",
    "\n",
    "4 another scaling dimention - seems to have less shift than other dims\n",
    "\n",
    "all embeddings seem to add noise when modified too much\n"
   ]
  },
  {
   "cell_type": "code",
   "execution_count": null,
   "id": "5c6b62c3-d707-4486-9524-32389c58d51b",
   "metadata": {
    "tags": []
   },
   "outputs": [],
   "source": []
  },
  {
   "cell_type": "code",
   "execution_count": 14,
   "id": "127bb6ab-d6e2-43a3-aa3e-a4efce361609",
   "metadata": {
    "tags": []
   },
   "outputs": [],
   "source": [
    "#build an opencv visualiser\n",
    "#seems hard to do over ssh... use ipywidgets for now :)"
   ]
  },
  {
   "cell_type": "code",
   "execution_count": 15,
   "id": "9d0397ba-bf7c-48fa-b4dd-2e899875ad14",
   "metadata": {
    "tags": []
   },
   "outputs": [],
   "source": [
    "import ipywidgets as widgets\n",
    "from ipywidgets import interactive\n"
   ]
  },
  {
   "cell_type": "code",
   "execution_count": 16,
   "id": "57124542-9385-4c9e-910b-ecf7fdec4d20",
   "metadata": {
    "tags": []
   },
   "outputs": [
    {
     "data": {
      "application/vnd.jupyter.widget-view+json": {
       "model_id": "8e4e72bc845c4655950ab776ba59bdb5",
       "version_major": 2,
       "version_minor": 0
      },
      "text/plain": [
       "interactive(children=(FloatSlider(value=0.0, description='a', max=7.0, min=-7.0, step=0.01), FloatSlider(value…"
      ]
     },
     "execution_count": 16,
     "metadata": {},
     "output_type": "execute_result"
    }
   ],
   "source": [
    "wave_number = 0\n",
    "test_embedding = test[wave_number][0].to('cpu').detach()\n",
    "new_embedding = copy.deepcopy(test_embedding)\n",
    "\n",
    "old_wave = waveform_gen(test_embedding).to('cpu').detach()\n",
    "real_wave = test[wave_number][1].to('cpu').detach()\n",
    "\n",
    "def embedding_plotter(a, b, c, d, e):\n",
    "    \n",
    "        new_embedding[0] = test_embedding[0] + np.abs(test_embedding[0])*a\n",
    "        new_embedding[1] = test_embedding[1] + np.abs(test_embedding[1])*b\n",
    "        new_embedding[2] = test_embedding[2] + np.abs(test_embedding[2])*c\n",
    "        new_embedding[3] = test_embedding[3] + np.abs(test_embedding[3])*d\n",
    "        new_embedding[4] = test_embedding[4] + np.abs(test_embedding[4])*e\n",
    "\n",
    "        new_wave = waveform_gen(new_embedding).to('cpu').detach()\n",
    "        plt.plot(new_wave, label = 'modified predicted wave')\n",
    "        plt.plot(old_wave, label = 'original predicted wave')\n",
    "        plt.plot(real_wave, label = 'real wavel')\n",
    "        plt.grid(True)\n",
    "        plt.ylim((-1.5,1.2))\n",
    "        plt.legend()\n",
    "        plt.show()\n",
    "        \n",
    "\n",
    "embedding_range = (-7.0, 7.0, 0.01)\n",
    "        \n",
    "interactive_plot = interactive(embedding_plotter, a=embedding_range, b=embedding_range, c=embedding_range, d=embedding_range, e=embedding_range)\n",
    "output = interactive_plot.children[-1]\n",
    "output.layout.height = '550px'\n",
    "\n",
    "interactive_plot"
   ]
  },
  {
   "cell_type": "markdown",
   "id": "b0852adb-c81d-4e17-a9e6-9ebc92b35cc3",
   "metadata": {
    "tags": []
   },
   "source": [
    "## Notes on embedding manipulations:\n",
    "\n",
    "1. changing one embedding often creates noise in the wave - generates a non-natural looking waveform\n",
    "2. changing another embedding can often reduce this noise and return a more natural waveform\n",
    "3. some balance/trajectory in embedding space that contains natural waveforms?\n",
    "\n",
    "4. apparent fixed point in waveforms that changing an embedding will rotate around\n",
    "        \n",
    "        could be segmenting waveforms temporally\n",
    "        \n",
    "5. embedding e (5th) has a fixed point at ~sample 63. when changed the waveform rotates around this point. Seen in many wavenumbers\n",
    "\n",
    "Could use a smoothness metric to find what the trajectory of acceptable waveforms looks like..."
   ]
  },
  {
   "cell_type": "markdown",
   "id": "280c5191-3a80-4ee4-906c-c53769399b89",
   "metadata": {},
   "source": [
    "### wave 4 is interesting: can manipulate the ceed embeddings to produce a much better fit\n",
    "\n",
    "-0.14\n",
    "-0.07\n",
    "-0.10\n",
    "-0.00\n",
    "-0.08\n",
    "\n",
    "or\n",
    "\n",
    "-0.07\n",
    "0.01\n",
    "0.00\n",
    "0.02\n",
    "-0.11"
   ]
  },
  {
   "cell_type": "code",
   "execution_count": 17,
   "id": "5554345d-b050-4619-b771-69539adddb98",
   "metadata": {
    "tags": []
   },
   "outputs": [],
   "source": [
    "#need to get this running on IBL data and get localisation data integrated"
   ]
  },
  {
   "cell_type": "code",
   "execution_count": null,
   "id": "b03382d4-0165-4992-8566-9090b97bc573",
   "metadata": {},
   "outputs": [],
   "source": []
  },
  {
   "cell_type": "code",
   "execution_count": 18,
   "id": "b9cc28fd-9f75-4ef1-871b-ff3c8c6c6d96",
   "metadata": {},
   "outputs": [],
   "source": [
    "#lecture notes:"
   ]
  },
  {
   "cell_type": "code",
   "execution_count": 19,
   "id": "17f7ec61-6f28-42ec-8c1b-0ff1434c9d47",
   "metadata": {
    "tags": []
   },
   "outputs": [],
   "source": [
    "#median absolute deviation to estimate std dev of spikeing neurons noise"
   ]
  },
  {
   "cell_type": "code",
   "execution_count": 20,
   "id": "b1eb4d7d-b6d7-447c-83f7-1acadb3de75b",
   "metadata": {
    "tags": []
   },
   "outputs": [],
   "source": [
    "#GMM for clustering (em clustering??)\n",
    "\n",
    "# spikes last one ms, record at 30kHz"
   ]
  },
  {
   "cell_type": "code",
   "execution_count": 21,
   "id": "84d28316-ea79-441f-a90c-21c6dae9770c",
   "metadata": {},
   "outputs": [],
   "source": [
    "#greedy algo for template macthing"
   ]
  },
  {
   "cell_type": "code",
   "execution_count": 22,
   "id": "e651f098-e91b-4757-94c2-98440396e04a",
   "metadata": {
    "tags": []
   },
   "outputs": [],
   "source": [
    "#amoritized inference (amoritized = offload)"
   ]
  },
  {
   "cell_type": "code",
   "execution_count": 23,
   "id": "f6045b7b-00c1-42c7-a222-a0e7c3cd3815",
   "metadata": {
    "tags": []
   },
   "outputs": [],
   "source": [
    "#max firing rate is a good ground truth for cell typing!!"
   ]
  },
  {
   "cell_type": "code",
   "execution_count": 24,
   "id": "0ef2604b-f274-4f8a-8fbe-17b529f07586",
   "metadata": {
    "tags": []
   },
   "outputs": [],
   "source": [
    "#masked autoencoder\n",
    "\n",
    "#mv would be largest spike seem in neuropixel data"
   ]
  },
  {
   "cell_type": "code",
   "execution_count": null,
   "id": "68b14b29-76af-4b4c-a57f-8dd5a6421054",
   "metadata": {},
   "outputs": [],
   "source": []
  },
  {
   "cell_type": "code",
   "execution_count": 25,
   "id": "30af6cc1-af1b-425d-8a67-876379f78859",
   "metadata": {},
   "outputs": [],
   "source": [
    "#ibl data - loaded from ceed pipeline (alignment), loss curve training and val loss as function of timestep, "
   ]
  }
 ],
 "metadata": {
  "kernelspec": {
   "display_name": "Python [conda env:ceed2]",
   "language": "python",
   "name": "conda-env-ceed2-py"
  },
  "language_info": {
   "codemirror_mode": {
    "name": "ipython",
    "version": 3
   },
   "file_extension": ".py",
   "mimetype": "text/x-python",
   "name": "python",
   "nbconvert_exporter": "python",
   "pygments_lexer": "ipython3",
   "version": "3.10.12"
  }
 },
 "nbformat": 4,
 "nbformat_minor": 5
}
