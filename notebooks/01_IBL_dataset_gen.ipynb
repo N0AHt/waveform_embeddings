{
 "cells": [
  {
   "cell_type": "code",
   "execution_count": 1,
   "metadata": {},
   "outputs": [],
   "source": [
    "%load_ext autoreload\n",
    "%autoreload 2"
   ]
  },
  {
   "cell_type": "markdown",
   "metadata": {
    "tags": []
   },
   "source": [
    "### Download and destripe AP data from an IBL session by its PID."
   ]
  },
  {
   "cell_type": "code",
   "execution_count": 2,
   "metadata": {
    "tags": []
   },
   "outputs": [
    {
     "name": "stderr",
     "output_type": "stream",
     "text": [
      "2023-12-01 00:33:39.414516: I external/local_tsl/tsl/cuda/cudart_stub.cc:31] Could not find cuda drivers on your machine, GPU will not be used.\n",
      "2023-12-01 00:33:39.448611: E external/local_xla/xla/stream_executor/cuda/cuda_dnn.cc:9261] Unable to register cuDNN factory: Attempting to register factory for plugin cuDNN when one has already been registered\n",
      "2023-12-01 00:33:39.448652: E external/local_xla/xla/stream_executor/cuda/cuda_fft.cc:607] Unable to register cuFFT factory: Attempting to register factory for plugin cuFFT when one has already been registered\n",
      "2023-12-01 00:33:39.449362: E external/local_xla/xla/stream_executor/cuda/cuda_blas.cc:1515] Unable to register cuBLAS factory: Attempting to register factory for plugin cuBLAS when one has already been registered\n",
      "2023-12-01 00:33:39.454265: I external/local_tsl/tsl/cuda/cudart_stub.cc:31] Could not find cuda drivers on your machine, GPU will not be used.\n",
      "2023-12-01 00:33:39.454735: I tensorflow/core/platform/cpu_feature_guard.cc:182] This TensorFlow binary is optimized to use available CPU instructions in performance-critical operations.\n",
      "To enable the following instructions: AVX2 FMA, in other operations, rebuild TensorFlow with the appropriate compiler flags.\n",
      "2023-12-01 00:33:40.260585: W tensorflow/compiler/tf2tensorrt/utils/py_utils.cc:38] TF-TRT Warning: Could not find TensorRT\n",
      "/home/noah/miniforge3/envs/ceed/lib/python3.10/site-packages/ibllib/io/raw_data_loaders.py:19: DeprecationWarning: pkg_resources is deprecated as an API. See https://setuptools.pypa.io/en/latest/pkg_resources.html\n",
      "  from pkg_resources import parse_version\n",
      "/home/noah/miniforge3/envs/ceed/lib/python3.10/site-packages/ibllib/atlas/__init__.py:202: DeprecationWarning: ibllib.atlas is deprecated. Please install iblatlas using \"pip install iblatlas\" and use this module instead\n",
      "  warnings.warn('ibllib.atlas is deprecated. Please install iblatlas using \"pip install iblatlas\" and use '\n"
     ]
    }
   ],
   "source": [
    "from analysis.data_gen_utils import download_IBL, extract_IBL, make_dataset, combine_datasets, all_units_except\n",
    "import numpy as np\n",
    "import matplotlib.pyplot as plt\n",
    "import os"
   ]
  },
  {
   "cell_type": "code",
   "execution_count": 4,
   "metadata": {
    "tags": []
   },
   "outputs": [
    {
     "name": "stdout",
     "output_type": "stream",
     "text": [
      "INFO:one.api:cache over 92 day(s) old\n",
      "INFO:one.api:No newer cache available\n",
      "Downloading: /mnt/data/noah/IBL_data_CEED/cache/danlab/Subjects/DY_016/2020-09-12/001/raw_ephys_data/probe00/chunk_000000_to_000999pOymoELgyv/_spikeglx_ephysData_g0_t0.imec0.ap.8cb6749e-846b-4c1e-94da-2d026c410921.cbin Bytes: 9154205766\n"
     ]
    },
    {
     "name": "stderr",
     "output_type": "stream",
     "text": [
      "100%|█████████████| 8730.130926132202/8730.130926132202 [11:59<00:00, 12.13it/s]\n"
     ]
    },
    {
     "name": "stdout",
     "output_type": "stream",
     "text": [
      "Old dir:  ['_spikeglx_ephysData_g0_t0.imec0.ap.stream.cbin', '_spikeglx_ephysData_g0_t0.imec0.ap.stream.meta', '_spikeglx_ephysData_g0_t0.imec0.ap.stream.ch']\n",
      "converting files to drop \"stream\" from path\n",
      "New dir:  ['_spikeglx_ephysData_g0_t0.imec0.ap.ch', '_spikeglx_ephysData_g0_t0.imec0.ap.stream.cbin', '_spikeglx_ephysData_g0_t0.imec0.ap.meta', '_spikeglx_ephysData_g0_t0.imec0.ap.cbin', '_spikeglx_ephysData_g0_t0.imec0.ap.stream.meta', '_spikeglx_ephysData_g0_t0.imec0.ap.stream.ch']\n",
      "Folder '/mnt/data/noah/IBL_data_CEED/dab512bd-a02d-4c1f-8dbc-9155a163efc0' overwritten.\n",
      "tdir:  /mnt/data/noah/IBL_data_CEED/cache/danlab/Subjects/DY_016/2020-09-12/001/raw_ephys_data/probe00/chunk_000000_to_000999pOymoELgyv\n",
      "pth:  [PosixPath('/mnt/data/noah/IBL_data_CEED/cache/danlab/Subjects/DY_016/2020-09-12/001/raw_ephys_data/probe00/chunk_000000_to_000999pOymoELgyv/_spikeglx_ephysData_g0_t0.imec0.ap.stream.cbin'), PosixPath('/mnt/data/noah/IBL_data_CEED/cache/danlab/Subjects/DY_016/2020-09-12/001/raw_ephys_data/probe00/chunk_000000_to_000999pOymoELgyv/_spikeglx_ephysData_g0_t0.imec0.ap.cbin')]\n",
      "preprocessing (mimic IBL's pipeline with spikeinterface)\n",
      "hp\n",
      "badchans\n",
      "write_binary_recording with n_jobs = 5 and chunk_size = 30000\n"
     ]
    },
    {
     "data": {
      "application/vnd.jupyter.widget-view+json": {
       "model_id": "929cf3f7667446e1a09c0d060490a696",
       "version_major": 2,
       "version_minor": 0
      },
      "text/plain": [
       "write_binary_recording:   0%|          | 0/1000 [00:00<?, ?it/s]"
      ]
     },
     "metadata": {},
     "output_type": "display_data"
    },
    {
     "name": "stdout",
     "output_type": "stream",
     "text": [
      "done preprocessing\n",
      "INFO:one.api:cache over 92 day(s) old\n",
      "INFO:one.api:No newer cache available\n",
      "Downloading: /mnt/data/noah/IBL_data_CEED/cache/danlab/Subjects/DY_009/2020-02-27/001/raw_ephys_data/probe00/chunk_000000_to_000999yEpzDrkimO/_spikeglx_ephysData_g0_t0.imec0.ap.628241b1-657d-4854-8dab-c7af86553db4.cbin Bytes: 8890747295\n"
     ]
    },
    {
     "name": "stderr",
     "output_type": "stream",
     "text": [
      "100%|█████████████| 8478.877348899841/8478.877348899841 [13:27<00:00, 10.50it/s]\n"
     ]
    },
    {
     "name": "stdout",
     "output_type": "stream",
     "text": [
      "Old dir:  ['_spikeglx_ephysData_g0_t0.imec0.ap.stream.cbin', '_spikeglx_ephysData_g0_t0.imec0.ap.stream.meta', '_spikeglx_ephysData_g0_t0.imec0.ap.stream.ch']\n",
      "converting files to drop \"stream\" from path\n",
      "New dir:  ['_spikeglx_ephysData_g0_t0.imec0.ap.ch', '_spikeglx_ephysData_g0_t0.imec0.ap.stream.cbin', '_spikeglx_ephysData_g0_t0.imec0.ap.meta', '_spikeglx_ephysData_g0_t0.imec0.ap.cbin', '_spikeglx_ephysData_g0_t0.imec0.ap.stream.meta', '_spikeglx_ephysData_g0_t0.imec0.ap.stream.ch']\n",
      "tdir:  /mnt/data/noah/IBL_data_CEED/cache/danlab/Subjects/DY_009/2020-02-27/001/raw_ephys_data/probe00/chunk_000000_to_000999yEpzDrkimO\n",
      "pth:  [PosixPath('/mnt/data/noah/IBL_data_CEED/cache/danlab/Subjects/DY_009/2020-02-27/001/raw_ephys_data/probe00/chunk_000000_to_000999yEpzDrkimO/_spikeglx_ephysData_g0_t0.imec0.ap.stream.cbin'), PosixPath('/mnt/data/noah/IBL_data_CEED/cache/danlab/Subjects/DY_009/2020-02-27/001/raw_ephys_data/probe00/chunk_000000_to_000999yEpzDrkimO/_spikeglx_ephysData_g0_t0.imec0.ap.cbin')]\n",
      "preprocessing (mimic IBL's pipeline with spikeinterface)\n",
      "hp\n",
      "badchans\n",
      "write_binary_recording with n_jobs = 5 and chunk_size = 30000\n"
     ]
    },
    {
     "data": {
      "application/vnd.jupyter.widget-view+json": {
       "model_id": "4c307cd4a4e4451a8514bc01f147c55b",
       "version_major": 2,
       "version_minor": 0
      },
      "text/plain": [
       "write_binary_recording:   0%|          | 0/1000 [00:00<?, ?it/s]"
      ]
     },
     "metadata": {},
     "output_type": "display_data"
    },
    {
     "name": "stdout",
     "output_type": "stream",
     "text": [
      "done preprocessing\n"
     ]
    }
   ],
   "source": [
    "pid_sess1 = r'dab512bd-a02d-4c1f-8dbc-9155a163efc0'\n",
    "pid_sess2 = r'febb430e-2d50-4f83-87a0-b5ffbb9a4943'\n",
    "\n",
    "save_dir = r'/mnt/data/noah/IBL_data_CEED/'\n",
    "\n",
    "cache_folder = save_dir + r'cache'\n",
    "\n",
    "save_folder_sess1 = save_dir + pid_sess1\n",
    "save_folder_sess2 = save_dir + pid_sess2\n",
    "\n",
    "t_window = [0, 1000] #in seconds\n",
    "overwrite = False\n",
    "rec1, meta_file_sess1 = download_IBL(pid=pid_sess1, cache_folder = cache_folder, t_window=t_window, save_folder=save_folder_sess1, overwrite=overwrite)\n",
    "rec2, meta_file_sess2 = download_IBL(pid=pid_sess2, cache_folder = cache_folder, t_window=t_window, save_folder=save_folder_sess2, overwrite=overwrite)"
   ]
  },
  {
   "cell_type": "code",
   "execution_count": 5,
   "metadata": {
    "tags": []
   },
   "outputs": [
    {
     "name": "stdout",
     "output_type": "stream",
     "text": [
      "INFO:one.api:cache over 92 day(s) old\n",
      "INFO:one.api:No newer cache available\n"
     ]
    },
    {
     "name": "stderr",
     "output_type": "stream",
     "text": [
      "/home/noah/miniforge3/envs/ceed/lib/python3.10/site-packages/ibllib/atlas/atlas.py:13: DeprecationWarning: ibllib.atlas.atlas.AllenAtlas is deprecated. Use iblatlas.atlas.AllenAtlas instead\n",
      "  warnings.warn(warning_text, DeprecationWarning)\n"
     ]
    },
    {
     "name": "stdout",
     "output_type": "stream",
     "text": [
      "8 inactive units\n"
     ]
    },
    {
     "data": {
      "application/vnd.jupyter.widget-view+json": {
       "model_id": "14b2495d9f7642959bace76f80afd9e1",
       "version_major": 2,
       "version_minor": 0
      },
      "text/plain": [
       "Align and get templates:   0%|          | 0/507 [00:00<?, ?it/s]"
      ]
     },
     "metadata": {},
     "output_type": "display_data"
    },
    {
     "data": {
      "application/vnd.jupyter.widget-view+json": {
       "model_id": "7d358def0c7645e7a797f8b6d92952cc",
       "version_major": 2,
       "version_minor": 0
      },
      "text/plain": [
       "Cleaned templates:   0%|          | 0/507 [00:00<?, ?it/s]"
      ]
     },
     "metadata": {},
     "output_type": "display_data"
    },
    {
     "name": "stdout",
     "output_type": "stream",
     "text": [
      "INFO:one.api:cache over 92 day(s) old\n",
      "INFO:one.api:No newer cache available\n"
     ]
    },
    {
     "name": "stderr",
     "output_type": "stream",
     "text": [
      "/home/noah/miniforge3/envs/ceed/lib/python3.10/site-packages/ibllib/atlas/atlas.py:13: DeprecationWarning: ibllib.atlas.atlas.AllenAtlas is deprecated. Use iblatlas.atlas.AllenAtlas instead\n",
      "  warnings.warn(warning_text, DeprecationWarning)\n"
     ]
    },
    {
     "name": "stdout",
     "output_type": "stream",
     "text": [
      "9 inactive units\n"
     ]
    },
    {
     "data": {
      "application/vnd.jupyter.widget-view+json": {
       "model_id": "c74b495f51494ce8bcba46b395365d55",
       "version_major": 2,
       "version_minor": 0
      },
      "text/plain": [
       "Align and get templates:   0%|          | 0/457 [00:00<?, ?it/s]"
      ]
     },
     "metadata": {},
     "output_type": "display_data"
    },
    {
     "data": {
      "application/vnd.jupyter.widget-view+json": {
       "model_id": "6b23accf90554878ba61448e4e8f7a11",
       "version_major": 2,
       "version_minor": 0
      },
      "text/plain": [
       "Cleaned templates:   0%|          | 0/457 [00:00<?, ?it/s]"
      ]
     },
     "metadata": {},
     "output_type": "display_data"
    },
    {
     "ename": "FileExistsError",
     "evalue": "[Errno 17] File exists: '/mnt/data/noah/IBL_data_CEED/dataset/'",
     "output_type": "error",
     "traceback": [
      "\u001b[0;31m---------------------------------------------------------------------------\u001b[0m",
      "\u001b[0;31mFileExistsError\u001b[0m                           Traceback (most recent call last)",
      "Cell \u001b[0;32mIn[5], line 20\u001b[0m\n\u001b[1;32m     10\u001b[0m spike_idx_sess1, geom_sess1, chan_idx_sess1, templates_sess1 \u001b[38;5;241m=\u001b[39m extract_IBL(rec\u001b[38;5;241m=\u001b[39mrec1, \n\u001b[1;32m     11\u001b[0m                                                                            meta_fp\u001b[38;5;241m=\u001b[39mmeta_file_sess1, \n\u001b[1;32m     12\u001b[0m                                                                            pid\u001b[38;5;241m=\u001b[39mpid_sess1, \n\u001b[1;32m     13\u001b[0m                                                                            t_window\u001b[38;5;241m=\u001b[39mt_window, \n\u001b[1;32m     14\u001b[0m                                                                            use_labels\u001b[38;5;241m=\u001b[39m\u001b[38;5;28;01mTrue\u001b[39;00m)\n\u001b[1;32m     15\u001b[0m spike_idx_sess2, geom_sess2, chan_idx_sess2, templates_sess2 \u001b[38;5;241m=\u001b[39m extract_IBL(rec\u001b[38;5;241m=\u001b[39mrec2, \n\u001b[1;32m     16\u001b[0m                                                                            meta_fp\u001b[38;5;241m=\u001b[39mmeta_file_sess2, \n\u001b[1;32m     17\u001b[0m                                                                            pid\u001b[38;5;241m=\u001b[39mpid_sess2, \n\u001b[1;32m     18\u001b[0m                                                                            t_window\u001b[38;5;241m=\u001b[39mt_window,\n\u001b[1;32m     19\u001b[0m                                                                            use_labels\u001b[38;5;241m=\u001b[39m\u001b[38;5;28;01mTrue\u001b[39;00m)\n\u001b[0;32m---> 20\u001b[0m \u001b[43mos\u001b[49m\u001b[38;5;241;43m.\u001b[39;49m\u001b[43mmkdir\u001b[49m\u001b[43m(\u001b[49m\u001b[43msave_dir\u001b[49m\u001b[43m \u001b[49m\u001b[38;5;241;43m+\u001b[39;49m\u001b[43m \u001b[49m\u001b[38;5;124;43m'\u001b[39;49m\u001b[38;5;124;43mdataset/\u001b[39;49m\u001b[38;5;124;43m'\u001b[39;49m\u001b[43m)\u001b[49m\n\u001b[1;32m     21\u001b[0m np\u001b[38;5;241m.\u001b[39msave(save_dir \u001b[38;5;241m+\u001b[39m \u001b[38;5;124m'\u001b[39m\u001b[38;5;124mdataset/\u001b[39m\u001b[38;5;124m'\u001b[39m \u001b[38;5;241m+\u001b[39m \u001b[38;5;124m'\u001b[39m\u001b[38;5;124mspike_idx_sess1.npy\u001b[39m\u001b[38;5;124m'\u001b[39m, spike_idx_sess1)\n\u001b[1;32m     22\u001b[0m np\u001b[38;5;241m.\u001b[39msave(save_dir \u001b[38;5;241m+\u001b[39m \u001b[38;5;124m'\u001b[39m\u001b[38;5;124mdataset/\u001b[39m\u001b[38;5;124m'\u001b[39m \u001b[38;5;241m+\u001b[39m \u001b[38;5;124m'\u001b[39m\u001b[38;5;124mgeom_sess1.npy\u001b[39m\u001b[38;5;124m'\u001b[39m, geom_sess1)\n",
      "\u001b[0;31mFileExistsError\u001b[0m: [Errno 17] File exists: '/mnt/data/noah/IBL_data_CEED/dataset/'"
     ]
    }
   ],
   "source": [
    "'''extract the all data needed to make CEED dataset\n",
    "spike_idx_sess: spike_times, channels, neurons (if use_labels=True)\n",
    "geom_sess: channels x 2\n",
    "chan_idx_sess: waveform extraction channels for each channel\n",
    "templates_sess: templates across all channels for all neurons\n",
    "'''\n",
    "recompute = True\n",
    "\n",
    "if recompute:\n",
    "    spike_idx_sess1, geom_sess1, chan_idx_sess1, templates_sess1 = extract_IBL(rec=rec1, \n",
    "                                                                               meta_fp=meta_file_sess1, \n",
    "                                                                               pid=pid_sess1, \n",
    "                                                                               t_window=t_window, \n",
    "                                                                               use_labels=True)\n",
    "    spike_idx_sess2, geom_sess2, chan_idx_sess2, templates_sess2 = extract_IBL(rec=rec2, \n",
    "                                                                               meta_fp=meta_file_sess2, \n",
    "                                                                               pid=pid_sess2, \n",
    "                                                                               t_window=t_window,\n",
    "                                                                               use_labels=True)\n",
    "    \n",
    "    if os.path.isdir(save_dir + 'dataset/') == False:\n",
    "        os.mkdir(save_dir + 'dataset/')\n",
    "        \n",
    "    np.save(save_dir + 'dataset/' + 'spike_idx_sess1.npy', spike_idx_sess1)\n",
    "    np.save(save_dir + 'dataset/' + 'geom_sess1.npy', geom_sess1)\n",
    "    np.save(save_dir + 'dataset/' + 'chan_idx_sess1.npy', chan_idx_sess1)\n",
    "    np.save(save_dir + 'dataset/' + 'templates_sess1.npy', templates_sess1)\n",
    "    np.save(save_dir + 'dataset/' + 'spike_idx_sess2.npy', spike_idx_sess2)\n",
    "    np.save(save_dir + 'dataset/' + 'geom_sess2.npy', geom_sess2)\n",
    "    np.save(save_dir + 'dataset/' + 'chan_idx_sess2.npy', chan_idx_sess2)\n",
    "    np.save(save_dir + 'dataset/' + 'templates_sess2.npy', templates_sess2)\n",
    "else:\n",
    "    spike_idx_sess1 = np.load(save_dir + 'dataset/' + 'spike_idx_sess1.npy')\n",
    "    geom_sess1 = np.load(save_dir + 'dataset/' + 'geom_sess1.npy')\n",
    "    chan_idx_sess1 = np.load(save_dir + 'dataset/' + 'chan_idx_sess1.npy')\n",
    "    templates_sess1 = np.load(save_dir + 'dataset/' + 'templates_sess1.npy')\n",
    "    spike_idx_sess2 = np.load(save_dir + 'dataset/' + 'spike_idx_sess2.npy')\n",
    "    geom_sess2 = np.load(save_dir + 'dataset/' + 'geom_sess2.npy')\n",
    "    chan_idx_sess2 = np.load(save_dir + 'dataset/' + 'chan_idx_sess2.npy')\n",
    "    templates_sess2 = np.load(save_dir + 'dataset/' + 'templates_sess2.npy')"
   ]
  },
  {
   "cell_type": "markdown",
   "metadata": {},
   "source": [
    "### Look at Unit Template"
   ]
  },
  {
   "cell_type": "code",
   "execution_count": 7,
   "metadata": {},
   "outputs": [
    {
     "data": {
      "image/png": "[encoded data removed]",
      "text/plain": [
       "<Figure size 640x480 with 1 Axes>"
      ]
     },
     "metadata": {},
     "output_type": "display_data"
    }
   ],
   "source": [
    "#plot a denoised template on the 40 extracted channels (not all 40 used to train CEED).\n",
    "template_id = 454\n",
    "template = templates_sess1[template_id]\n",
    "max_channel = np.argmax(np.ptp(template,0))\n",
    "plt.plot(templates_sess1[template_id][:,chan_idx_sess1[max_channel]]);"
   ]
  },
  {
   "cell_type": "markdown",
   "metadata": {},
   "source": [
    "### Create a couple training datasets"
   ]
  },
  {
   "cell_type": "code",
   "execution_count": 8,
   "metadata": {},
   "outputs": [
    {
     "name": "stdout",
     "output_type": "stream",
     "text": [
      "Get Noise Floor\n",
      "Compute Spatial Covariance\n",
      "Compute Temporal Covaraince\n",
      "Starting to search noise snippets...\n"
     ]
    },
    {
     "name": "stderr",
     "output_type": "stream",
     "text": [
      "0it [00:00, ?it/s]"
     ]
    },
    {
     "name": "stdout",
     "output_type": "stream",
     "text": [
      "Unit 0 only has 261 spikes, but 500 are requested. Skipping extraction.\n"
     ]
    },
    {
     "name": "stderr",
     "output_type": "stream",
     "text": [
      "3it [00:15,  5.44s/it]"
     ]
    },
    {
     "name": "stdout",
     "output_type": "stream",
     "text": [
      "Unit 3 only has 3 spikes, but 500 are requested. Skipping extraction.\n"
     ]
    },
    {
     "name": "stderr",
     "output_type": "stream",
     "text": [
      "10it [00:59,  6.79s/it]"
     ]
    },
    {
     "name": "stdout",
     "output_type": "stream",
     "text": [
      "Unit 10 only has 7 spikes, but 500 are requested. Skipping extraction.\n"
     ]
    },
    {
     "name": "stderr",
     "output_type": "stream",
     "text": [
      "12it [01:06,  5.42s/it]"
     ]
    },
    {
     "name": "stdout",
     "output_type": "stream",
     "text": [
      "Unit 12 only has 21 spikes, but 500 are requested. Skipping extraction.\n"
     ]
    },
    {
     "name": "stderr",
     "output_type": "stream",
     "text": [
      "14it [01:14,  4.72s/it]"
     ]
    },
    {
     "name": "stdout",
     "output_type": "stream",
     "text": [
      "Unit 14 only has 3 spikes, but 500 are requested. Skipping extraction.\n",
      "Unit 15 only has 148 spikes, but 500 are requested. Skipping extraction.\n"
     ]
    },
    {
     "name": "stderr",
     "output_type": "stream",
     "text": [
      "18it [01:28,  4.24s/it]"
     ]
    },
    {
     "name": "stdout",
     "output_type": "stream",
     "text": [
      "Unit 18 only has 131 spikes, but 500 are requested. Skipping extraction.\n"
     ]
    },
    {
     "name": "stderr",
     "output_type": "stream",
     "text": [
      "24it [02:00,  5.35s/it]"
     ]
    },
    {
     "name": "stdout",
     "output_type": "stream",
     "text": [
      "Unit 24 only has 283 spikes, but 500 are requested. Skipping extraction.\n"
     ]
    },
    {
     "name": "stderr",
     "output_type": "stream",
     "text": [
      "30it [02:35,  6.08s/it]"
     ]
    },
    {
     "name": "stdout",
     "output_type": "stream",
     "text": [
      "Unit 30 only has 28 spikes, but 500 are requested. Skipping extraction.\n"
     ]
    },
    {
     "name": "stderr",
     "output_type": "stream",
     "text": [
      "38it [03:23,  6.62s/it]"
     ]
    },
    {
     "name": "stdout",
     "output_type": "stream",
     "text": [
      "Unit 38 only has 10 spikes, but 500 are requested. Skipping extraction.\n",
      "Unit 39 only has 6 spikes, but 500 are requested. Skipping extraction.\n"
     ]
    },
    {
     "name": "stderr",
     "output_type": "stream",
     "text": [
      "50it [04:19,  5.17s/it]"
     ]
    },
    {
     "name": "stdout",
     "output_type": "stream",
     "text": [
      "Unit 50 only has 15 spikes, but 500 are requested. Skipping extraction.\n"
     ]
    },
    {
     "name": "stderr",
     "output_type": "stream",
     "text": [
      "52it [04:25,  4.23s/it]"
     ]
    },
    {
     "name": "stdout",
     "output_type": "stream",
     "text": [
      "Unit 52 only has 137 spikes, but 500 are requested. Skipping extraction.\n"
     ]
    },
    {
     "name": "stderr",
     "output_type": "stream",
     "text": [
      "58it [04:55,  4.94s/it]"
     ]
    },
    {
     "name": "stdout",
     "output_type": "stream",
     "text": [
      "Unit 58 only has 272 spikes, but 500 are requested. Skipping extraction.\n",
      "Unit 59 only has 322 spikes, but 500 are requested. Skipping extraction.\n"
     ]
    },
    {
     "name": "stderr",
     "output_type": "stream",
     "text": [
      "62it [05:08,  4.03s/it]"
     ]
    },
    {
     "name": "stdout",
     "output_type": "stream",
     "text": [
      "Unit 62 only has 40 spikes, but 500 are requested. Skipping extraction.\n",
      "Unit 63 only has 195 spikes, but 500 are requested. Skipping extraction.\n"
     ]
    },
    {
     "name": "stderr",
     "output_type": "stream",
     "text": [
      "65it [05:14,  3.17s/it]"
     ]
    },
    {
     "name": "stdout",
     "output_type": "stream",
     "text": [
      "Unit 65 only has 28 spikes, but 500 are requested. Skipping extraction.\n"
     ]
    },
    {
     "name": "stderr",
     "output_type": "stream",
     "text": [
      "76it [06:12,  5.55s/it]"
     ]
    },
    {
     "name": "stdout",
     "output_type": "stream",
     "text": [
      "Unit 76 only has 9 spikes, but 500 are requested. Skipping extraction.\n"
     ]
    },
    {
     "name": "stderr",
     "output_type": "stream",
     "text": [
      "85it [06:58,  5.52s/it]"
     ]
    },
    {
     "name": "stdout",
     "output_type": "stream",
     "text": [
      "Unit 85 only has 3 spikes, but 500 are requested. Skipping extraction.\n"
     ]
    },
    {
     "name": "stderr",
     "output_type": "stream",
     "text": [
      "87it [07:03,  4.10s/it]"
     ]
    },
    {
     "name": "stdout",
     "output_type": "stream",
     "text": [
      "Unit 87 only has 1 spikes, but 500 are requested. Skipping extraction.\n"
     ]
    },
    {
     "name": "stderr",
     "output_type": "stream",
     "text": [
      "110it [08:59,  5.46s/it]"
     ]
    },
    {
     "name": "stdout",
     "output_type": "stream",
     "text": [
      "Unit 110 only has 182 spikes, but 500 are requested. Skipping extraction.\n"
     ]
    },
    {
     "name": "stderr",
     "output_type": "stream",
     "text": [
      "114it [09:15,  4.68s/it]"
     ]
    },
    {
     "name": "stdout",
     "output_type": "stream",
     "text": [
      "Unit 114 only has 27 spikes, but 500 are requested. Skipping extraction.\n"
     ]
    },
    {
     "name": "stderr",
     "output_type": "stream",
     "text": [
      "117it [09:27,  4.29s/it]"
     ]
    },
    {
     "name": "stdout",
     "output_type": "stream",
     "text": [
      "Unit 117 only has 55 spikes, but 500 are requested. Skipping extraction.\n"
     ]
    },
    {
     "name": "stderr",
     "output_type": "stream",
     "text": [
      "121it [09:43,  4.36s/it]"
     ]
    },
    {
     "name": "stdout",
     "output_type": "stream",
     "text": [
      "Unit 121 only has 290 spikes, but 500 are requested. Skipping extraction.\n"
     ]
    },
    {
     "name": "stderr",
     "output_type": "stream",
     "text": [
      "124it [09:53,  3.98s/it]"
     ]
    },
    {
     "name": "stdout",
     "output_type": "stream",
     "text": [
      "Unit 124 only has 270 spikes, but 500 are requested. Skipping extraction.\n"
     ]
    },
    {
     "name": "stderr",
     "output_type": "stream",
     "text": [
      "143it [11:20,  4.50s/it]"
     ]
    },
    {
     "name": "stdout",
     "output_type": "stream",
     "text": [
      "Unit 143 only has 398 spikes, but 500 are requested. Skipping extraction.\n"
     ]
    },
    {
     "name": "stderr",
     "output_type": "stream",
     "text": [
      "145it [11:24,  3.35s/it]"
     ]
    },
    {
     "name": "stdout",
     "output_type": "stream",
     "text": [
      "Unit 145 only has 91 spikes, but 500 are requested. Skipping extraction.\n",
      "Unit 146 only has 12 spikes, but 500 are requested. Skipping extraction.\n"
     ]
    },
    {
     "name": "stderr",
     "output_type": "stream",
     "text": [
      "157it [12:15,  4.95s/it]"
     ]
    },
    {
     "name": "stdout",
     "output_type": "stream",
     "text": [
      "Unit 157 only has 380 spikes, but 500 are requested. Skipping extraction.\n"
     ]
    },
    {
     "name": "stderr",
     "output_type": "stream",
     "text": [
      "171it [13:16,  4.59s/it]"
     ]
    },
    {
     "name": "stdout",
     "output_type": "stream",
     "text": [
      "Unit 171 only has 28 spikes, but 500 are requested. Skipping extraction.\n"
     ]
    },
    {
     "name": "stderr",
     "output_type": "stream",
     "text": [
      "173it [13:20,  3.45s/it]"
     ]
    },
    {
     "name": "stdout",
     "output_type": "stream",
     "text": [
      "Unit 173 only has 275 spikes, but 500 are requested. Skipping extraction.\n",
      "Unit 174 only has 171 spikes, but 500 are requested. Skipping extraction.\n"
     ]
    },
    {
     "name": "stderr",
     "output_type": "stream",
     "text": [
      "193it [14:38,  4.49s/it]"
     ]
    },
    {
     "name": "stdout",
     "output_type": "stream",
     "text": [
      "Unit 193 only has 17 spikes, but 500 are requested. Skipping extraction.\n"
     ]
    },
    {
     "name": "stderr",
     "output_type": "stream",
     "text": [
      "196it [14:47,  3.80s/it]"
     ]
    },
    {
     "name": "stdout",
     "output_type": "stream",
     "text": [
      "Unit 196 only has 104 spikes, but 500 are requested. Skipping extraction.\n"
     ]
    },
    {
     "name": "stderr",
     "output_type": "stream",
     "text": [
      "199it [14:56,  3.46s/it]"
     ]
    },
    {
     "name": "stdout",
     "output_type": "stream",
     "text": [
      "Unit 199 only has 54 spikes, but 500 are requested. Skipping extraction.\n"
     ]
    },
    {
     "name": "stderr",
     "output_type": "stream",
     "text": [
      "209it [15:37,  4.37s/it]"
     ]
    },
    {
     "name": "stdout",
     "output_type": "stream",
     "text": [
      "Unit 209 only has 9 spikes, but 500 are requested. Skipping extraction.\n"
     ]
    },
    {
     "name": "stderr",
     "output_type": "stream",
     "text": [
      "221it [16:20,  3.41s/it]"
     ]
    },
    {
     "name": "stdout",
     "output_type": "stream",
     "text": [
      "Unit 221 only has 13 spikes, but 500 are requested. Skipping extraction.\n"
     ]
    },
    {
     "name": "stderr",
     "output_type": "stream",
     "text": [
      "223it [16:24,  2.77s/it]"
     ]
    },
    {
     "name": "stdout",
     "output_type": "stream",
     "text": [
      "Unit 223 only has 330 spikes, but 500 are requested. Skipping extraction.\n"
     ]
    },
    {
     "name": "stderr",
     "output_type": "stream",
     "text": [
      "226it [16:32,  2.72s/it]"
     ]
    },
    {
     "name": "stdout",
     "output_type": "stream",
     "text": [
      "Unit 226 only has 47 spikes, but 500 are requested. Skipping extraction.\n"
     ]
    },
    {
     "name": "stderr",
     "output_type": "stream",
     "text": [
      "228it [16:34,  2.03s/it]"
     ]
    },
    {
     "name": "stdout",
     "output_type": "stream",
     "text": [
      "Unit 228 only has 92 spikes, but 500 are requested. Skipping extraction.\n"
     ]
    },
    {
     "name": "stderr",
     "output_type": "stream",
     "text": [
      "233it [16:50,  3.31s/it]"
     ]
    },
    {
     "name": "stdout",
     "output_type": "stream",
     "text": [
      "Unit 233 only has 88 spikes, but 500 are requested. Skipping extraction.\n",
      "Unit 234 only has 382 spikes, but 500 are requested. Skipping extraction.\n"
     ]
    },
    {
     "name": "stderr",
     "output_type": "stream",
     "text": [
      "242it [17:20,  3.78s/it]"
     ]
    },
    {
     "name": "stdout",
     "output_type": "stream",
     "text": [
      "Unit 242 only has 20 spikes, but 500 are requested. Skipping extraction.\n"
     ]
    },
    {
     "name": "stderr",
     "output_type": "stream",
     "text": [
      "246it [17:33,  3.47s/it]"
     ]
    },
    {
     "name": "stdout",
     "output_type": "stream",
     "text": [
      "Unit 246 only has 69 spikes, but 500 are requested. Skipping extraction.\n"
     ]
    },
    {
     "name": "stderr",
     "output_type": "stream",
     "text": [
      "248it [17:37,  2.92s/it]"
     ]
    },
    {
     "name": "stdout",
     "output_type": "stream",
     "text": [
      "Unit 248 only has 85 spikes, but 500 are requested. Skipping extraction.\n"
     ]
    },
    {
     "name": "stderr",
     "output_type": "stream",
     "text": [
      "253it [17:51,  2.96s/it]"
     ]
    },
    {
     "name": "stdout",
     "output_type": "stream",
     "text": [
      "Unit 253 only has 133 spikes, but 500 are requested. Skipping extraction.\n"
     ]
    },
    {
     "name": "stderr",
     "output_type": "stream",
     "text": [
      "256it [18:00,  2.92s/it]"
     ]
    },
    {
     "name": "stdout",
     "output_type": "stream",
     "text": [
      "Unit 256 only has 336 spikes, but 500 are requested. Skipping extraction.\n",
      "Unit 257 only has 32 spikes, but 500 are requested. Skipping extraction.\n"
     ]
    },
    {
     "name": "stderr",
     "output_type": "stream",
     "text": [
      "262it [18:10,  2.14s/it]"
     ]
    },
    {
     "name": "stdout",
     "output_type": "stream",
     "text": [
      "Unit 262 only has 1 spikes, but 500 are requested. Skipping extraction.\n",
      "Unit 263 only has 227 spikes, but 500 are requested. Skipping extraction.\n"
     ]
    },
    {
     "name": "stderr",
     "output_type": "stream",
     "text": [
      "267it [18:20,  2.20s/it]"
     ]
    },
    {
     "name": "stdout",
     "output_type": "stream",
     "text": [
      "Unit 267 only has 93 spikes, but 500 are requested. Skipping extraction.\n",
      "Unit 268 only has 353 spikes, but 500 are requested. Skipping extraction.\n"
     ]
    },
    {
     "name": "stderr",
     "output_type": "stream",
     "text": [
      "271it [18:29,  2.27s/it]"
     ]
    },
    {
     "name": "stdout",
     "output_type": "stream",
     "text": [
      "Unit 271 only has 217 spikes, but 500 are requested. Skipping extraction.\n",
      "Unit 272 only has 419 spikes, but 500 are requested. Skipping extraction.\n"
     ]
    },
    {
     "name": "stderr",
     "output_type": "stream",
     "text": [
      "274it [18:33,  1.85s/it]"
     ]
    },
    {
     "name": "stdout",
     "output_type": "stream",
     "text": [
      "Unit 274 only has 1 spikes, but 500 are requested. Skipping extraction.\n"
     ]
    },
    {
     "name": "stderr",
     "output_type": "stream",
     "text": [
      "280it [18:52,  2.99s/it]"
     ]
    },
    {
     "name": "stdout",
     "output_type": "stream",
     "text": [
      "Unit 280 only has 337 spikes, but 500 are requested. Skipping extraction.\n"
     ]
    },
    {
     "name": "stderr",
     "output_type": "stream",
     "text": [
      "283it [18:58,  2.57s/it]"
     ]
    },
    {
     "name": "stdout",
     "output_type": "stream",
     "text": [
      "Unit 283 only has 170 spikes, but 500 are requested. Skipping extraction.\n"
     ]
    },
    {
     "name": "stderr",
     "output_type": "stream",
     "text": [
      "285it [19:01,  2.09s/it]"
     ]
    },
    {
     "name": "stdout",
     "output_type": "stream",
     "text": [
      "Unit 285 only has 106 spikes, but 500 are requested. Skipping extraction.\n",
      "Unit 286 only has 166 spikes, but 500 are requested. Skipping extraction.\n"
     ]
    },
    {
     "name": "stderr",
     "output_type": "stream",
     "text": [
      "291it [19:11,  2.06s/it]"
     ]
    },
    {
     "name": "stdout",
     "output_type": "stream",
     "text": [
      "Unit 291 only has 9 spikes, but 500 are requested. Skipping extraction.\n"
     ]
    },
    {
     "name": "stderr",
     "output_type": "stream",
     "text": [
      "293it [19:14,  1.66s/it]"
     ]
    },
    {
     "name": "stdout",
     "output_type": "stream",
     "text": [
      "Unit 293 only has 1 spikes, but 500 are requested. Skipping extraction.\n"
     ]
    },
    {
     "name": "stderr",
     "output_type": "stream",
     "text": [
      "297it [19:27,  2.83s/it]"
     ]
    },
    {
     "name": "stdout",
     "output_type": "stream",
     "text": [
      "Unit 297 only has 220 spikes, but 500 are requested. Skipping extraction.\n"
     ]
    },
    {
     "name": "stderr",
     "output_type": "stream",
     "text": [
      "299it [19:29,  2.25s/it]"
     ]
    },
    {
     "name": "stdout",
     "output_type": "stream",
     "text": [
      "Unit 299 only has 61 spikes, but 500 are requested. Skipping extraction.\n"
     ]
    },
    {
     "name": "stderr",
     "output_type": "stream",
     "text": [
      "301it [19:32,  1.95s/it]"
     ]
    },
    {
     "name": "stdout",
     "output_type": "stream",
     "text": [
      "Unit 301 only has 294 spikes, but 500 are requested. Skipping extraction.\n"
     ]
    },
    {
     "name": "stderr",
     "output_type": "stream",
     "text": [
      "306it [19:50,  3.26s/it]"
     ]
    },
    {
     "name": "stdout",
     "output_type": "stream",
     "text": [
      "Unit 306 only has 27 spikes, but 500 are requested. Skipping extraction.\n"
     ]
    },
    {
     "name": "stderr",
     "output_type": "stream",
     "text": [
      "312it [20:13,  4.04s/it]"
     ]
    },
    {
     "name": "stdout",
     "output_type": "stream",
     "text": [
      "Unit 312 only has 445 spikes, but 500 are requested. Skipping extraction.\n"
     ]
    },
    {
     "name": "stderr",
     "output_type": "stream",
     "text": [
      "315it [20:21,  3.49s/it]"
     ]
    },
    {
     "name": "stdout",
     "output_type": "stream",
     "text": [
      "Unit 315 only has 285 spikes, but 500 are requested. Skipping extraction.\n"
     ]
    },
    {
     "name": "stderr",
     "output_type": "stream",
     "text": [
      "317it [20:26,  2.92s/it]"
     ]
    },
    {
     "name": "stdout",
     "output_type": "stream",
     "text": [
      "Unit 317 only has 473 spikes, but 500 are requested. Skipping extraction.\n"
     ]
    },
    {
     "name": "stderr",
     "output_type": "stream",
     "text": [
      "327it [21:00,  3.71s/it]"
     ]
    },
    {
     "name": "stdout",
     "output_type": "stream",
     "text": [
      "Unit 327 only has 183 spikes, but 500 are requested. Skipping extraction.\n"
     ]
    },
    {
     "name": "stderr",
     "output_type": "stream",
     "text": [
      "340it [21:49,  3.90s/it]"
     ]
    },
    {
     "name": "stdout",
     "output_type": "stream",
     "text": [
      "Unit 340 only has 352 spikes, but 500 are requested. Skipping extraction.\n"
     ]
    },
    {
     "name": "stderr",
     "output_type": "stream",
     "text": [
      "344it [22:01,  3.35s/it]"
     ]
    },
    {
     "name": "stdout",
     "output_type": "stream",
     "text": [
      "Unit 344 only has 21 spikes, but 500 are requested. Skipping extraction.\n",
      "Unit 345 only has 4 spikes, but 500 are requested. Skipping extraction.\n",
      "Unit 346 only has 53 spikes, but 500 are requested. Skipping extraction.\n"
     ]
    },
    {
     "name": "stderr",
     "output_type": "stream",
     "text": [
      "348it [22:05,  1.98s/it]"
     ]
    },
    {
     "name": "stdout",
     "output_type": "stream",
     "text": [
      "Unit 348 only has 114 spikes, but 500 are requested. Skipping extraction.\n"
     ]
    },
    {
     "name": "stderr",
     "output_type": "stream",
     "text": [
      "350it [22:09,  2.05s/it]"
     ]
    },
    {
     "name": "stdout",
     "output_type": "stream",
     "text": [
      "Unit 350 only has 4 spikes, but 500 are requested. Skipping extraction.\n"
     ]
    },
    {
     "name": "stderr",
     "output_type": "stream",
     "text": [
      "352it [22:14,  2.21s/it]"
     ]
    },
    {
     "name": "stdout",
     "output_type": "stream",
     "text": [
      "Unit 352 only has 47 spikes, but 500 are requested. Skipping extraction.\n"
     ]
    },
    {
     "name": "stderr",
     "output_type": "stream",
     "text": [
      "354it [22:19,  2.26s/it]"
     ]
    },
    {
     "name": "stdout",
     "output_type": "stream",
     "text": [
      "Unit 354 only has 3 spikes, but 500 are requested. Skipping extraction.\n"
     ]
    },
    {
     "name": "stderr",
     "output_type": "stream",
     "text": [
      "361it [22:47,  3.85s/it]"
     ]
    },
    {
     "name": "stdout",
     "output_type": "stream",
     "text": [
      "Unit 361 only has 344 spikes, but 500 are requested. Skipping extraction.\n"
     ]
    },
    {
     "name": "stderr",
     "output_type": "stream",
     "text": [
      "364it [22:52,  2.72s/it]"
     ]
    },
    {
     "name": "stdout",
     "output_type": "stream",
     "text": [
      "Unit 364 only has 18 spikes, but 500 are requested. Skipping extraction.\n"
     ]
    },
    {
     "name": "stderr",
     "output_type": "stream",
     "text": [
      "369it [23:09,  3.64s/it]"
     ]
    },
    {
     "name": "stdout",
     "output_type": "stream",
     "text": [
      "Unit 369 only has 29 spikes, but 500 are requested. Skipping extraction.\n",
      "Unit 370 only has 1 spikes, but 500 are requested. Skipping extraction.\n"
     ]
    },
    {
     "name": "stderr",
     "output_type": "stream",
     "text": [
      "374it [23:22,  3.17s/it]"
     ]
    },
    {
     "name": "stdout",
     "output_type": "stream",
     "text": [
      "Unit 374 only has 3 spikes, but 500 are requested. Skipping extraction.\n",
      "Unit 375 only has 123 spikes, but 500 are requested. Skipping extraction.\n"
     ]
    },
    {
     "name": "stderr",
     "output_type": "stream",
     "text": [
      "380it [23:40,  3.39s/it]"
     ]
    },
    {
     "name": "stdout",
     "output_type": "stream",
     "text": [
      "Unit 380 only has 81 spikes, but 500 are requested. Skipping extraction.\n",
      "Unit 381 only has 3 spikes, but 500 are requested. Skipping extraction.\n"
     ]
    },
    {
     "name": "stderr",
     "output_type": "stream",
     "text": [
      "383it [23:42,  2.05s/it]"
     ]
    },
    {
     "name": "stdout",
     "output_type": "stream",
     "text": [
      "Unit 383 only has 11 spikes, but 500 are requested. Skipping extraction.\n"
     ]
    },
    {
     "name": "stderr",
     "output_type": "stream",
     "text": [
      "387it [23:53,  2.73s/it]"
     ]
    },
    {
     "name": "stdout",
     "output_type": "stream",
     "text": [
      "Unit 387 only has 120 spikes, but 500 are requested. Skipping extraction.\n",
      "Unit 388 only has 51 spikes, but 500 are requested. Skipping extraction.\n"
     ]
    },
    {
     "name": "stderr",
     "output_type": "stream",
     "text": [
      "390it [23:57,  2.00s/it]"
     ]
    },
    {
     "name": "stdout",
     "output_type": "stream",
     "text": [
      "Unit 390 only has 3 spikes, but 500 are requested. Skipping extraction.\n",
      "Unit 391 only has 30 spikes, but 500 are requested. Skipping extraction.\n"
     ]
    },
    {
     "name": "stderr",
     "output_type": "stream",
     "text": [
      "394it [24:03,  1.85s/it]"
     ]
    },
    {
     "name": "stdout",
     "output_type": "stream",
     "text": [
      "Unit 394 only has 120 spikes, but 500 are requested. Skipping extraction.\n",
      "Unit 395 only has 184 spikes, but 500 are requested. Skipping extraction.\n"
     ]
    },
    {
     "name": "stderr",
     "output_type": "stream",
     "text": [
      "397it [24:08,  1.75s/it]"
     ]
    },
    {
     "name": "stdout",
     "output_type": "stream",
     "text": [
      "Unit 397 only has 22 spikes, but 500 are requested. Skipping extraction.\n"
     ]
    },
    {
     "name": "stderr",
     "output_type": "stream",
     "text": [
      "400it [24:12,  3.63s/it]\n"
     ]
    },
    {
     "name": "stdout",
     "output_type": "stream",
     "text": [
      "Unit 399 only has 1 spikes, but 500 are requested. Skipping extraction.\n",
      "making train, val, test splits\n",
      "saving split results\n"
     ]
    }
   ],
   "source": [
    "# session 1 units to get data from and dataset save path\n",
    "# can look at templates of neural units to gauge whether to extract spikes from them for a CEED dataset\n",
    "selected_units_sess1 = np.arange(400)\n",
    "dataset_folder_sess1 = save_folder_sess1 + '/ds'\n",
    "\n",
    "# make a dataset for training\n",
    "# will create a folder with the spike, probe channel number, and corresponding channel location datasets in the train, val, test splits\n",
    "# optionally also saves out spatial and temporal noise covariance matrices\n",
    "inference = False\n",
    "train_num = 400\n",
    "val_num = 0\n",
    "test_num = 100\n",
    "save_covs = True\n",
    "num_chans_extract = 21\n",
    "normalize = False #True for cell-type dataset\n",
    "shift = False\n",
    "save_fewer = False\n",
    "train_set1, val_set1, test_set1, train_geom_locs1, val_geom_locs1, \\\n",
    "test_geom_locs1, train_max_chan1, val_max_chan1, test_max_chan1 = make_dataset(rec=rec1, \n",
    "                                                                               spike_index=spike_idx_sess1,\n",
    "                                                                               geom=geom_sess1, \n",
    "                                                                               save_path=dataset_folder_sess1, \n",
    "                                                                               chan_index=chan_idx_sess1, \n",
    "                                                                               templates=templates_sess1, \n",
    "                                                                               unit_ids=selected_units_sess1, \n",
    "                                                                               train_num=train_num, \n",
    "                                                                               val_num=val_num, \n",
    "                                                                               test_num=test_num, \n",
    "                                                                               save_covs=save_covs, \n",
    "                                                                               num_chans_extract=num_chans_extract, \n",
    "                                                                               normalize=normalize, \n",
    "                                                                               shift=shift, \n",
    "                                                                               inference=inference,\n",
    "                                                                               save_fewer=save_fewer)"
   ]
  },
  {
   "cell_type": "code",
   "execution_count": 11,
   "metadata": {},
   "outputs": [
    {
     "name": "stdout",
     "output_type": "stream",
     "text": [
      "Get Noise Floor\n",
      "Compute Spatial Covariance\n",
      "Compute Temporal Covaraince\n",
      "Starting to search noise snippets...\n"
     ]
    },
    {
     "name": "stderr",
     "output_type": "stream",
     "text": [
      "10it [00:56,  5.78s/it]"
     ]
    },
    {
     "name": "stdout",
     "output_type": "stream",
     "text": [
      "Unit 10 only has 386 spikes, but 500 are requested. Skipping extraction.\n",
      "Unit 11 only has 153 spikes, but 500 are requested. Skipping extraction.\n"
     ]
    },
    {
     "name": "stderr",
     "output_type": "stream",
     "text": [
      "18it [01:33,  5.44s/it]"
     ]
    },
    {
     "name": "stdout",
     "output_type": "stream",
     "text": [
      "Unit 18 only has 13 spikes, but 500 are requested. Skipping extraction.\n"
     ]
    },
    {
     "name": "stderr",
     "output_type": "stream",
     "text": [
      "20it [01:37,  4.10s/it]"
     ]
    },
    {
     "name": "stdout",
     "output_type": "stream",
     "text": [
      "Unit 20 only has 72 spikes, but 500 are requested. Skipping extraction.\n",
      "Unit 21 only has 113 spikes, but 500 are requested. Skipping extraction.\n",
      "Unit 22 only has 295 spikes, but 500 are requested. Skipping extraction.\n",
      "Unit 23 only has 10 spikes, but 500 are requested. Skipping extraction.\n"
     ]
    },
    {
     "name": "stderr",
     "output_type": "stream",
     "text": [
      "25it [01:43,  2.30s/it]"
     ]
    },
    {
     "name": "stdout",
     "output_type": "stream",
     "text": [
      "Unit 25 only has 196 spikes, but 500 are requested. Skipping extraction.\n"
     ]
    },
    {
     "name": "stderr",
     "output_type": "stream",
     "text": [
      "27it [01:49,  2.45s/it]"
     ]
    },
    {
     "name": "stdout",
     "output_type": "stream",
     "text": [
      "Unit 27 only has 243 spikes, but 500 are requested. Skipping extraction.\n"
     ]
    },
    {
     "name": "stderr",
     "output_type": "stream",
     "text": [
      "32it [02:08,  3.51s/it]"
     ]
    },
    {
     "name": "stdout",
     "output_type": "stream",
     "text": [
      "Unit 32 only has 439 spikes, but 500 are requested. Skipping extraction.\n"
     ]
    },
    {
     "name": "stderr",
     "output_type": "stream",
     "text": [
      "37it [02:30,  4.51s/it]"
     ]
    },
    {
     "name": "stdout",
     "output_type": "stream",
     "text": [
      "Unit 37 only has 48 spikes, but 500 are requested. Skipping extraction.\n"
     ]
    },
    {
     "name": "stderr",
     "output_type": "stream",
     "text": [
      "44it [02:56,  4.56s/it]"
     ]
    },
    {
     "name": "stdout",
     "output_type": "stream",
     "text": [
      "Unit 44 only has 1 spikes, but 500 are requested. Skipping extraction.\n"
     ]
    },
    {
     "name": "stderr",
     "output_type": "stream",
     "text": [
      "53it [03:32,  4.98s/it]"
     ]
    },
    {
     "name": "stdout",
     "output_type": "stream",
     "text": [
      "Unit 53 only has 134 spikes, but 500 are requested. Skipping extraction.\n"
     ]
    },
    {
     "name": "stderr",
     "output_type": "stream",
     "text": [
      "55it [03:37,  3.83s/it]"
     ]
    },
    {
     "name": "stdout",
     "output_type": "stream",
     "text": [
      "Unit 55 only has 1 spikes, but 500 are requested. Skipping extraction.\n",
      "Unit 56 only has 1 spikes, but 500 are requested. Skipping extraction.\n"
     ]
    },
    {
     "name": "stderr",
     "output_type": "stream",
     "text": [
      "58it [03:43,  2.91s/it]"
     ]
    },
    {
     "name": "stdout",
     "output_type": "stream",
     "text": [
      "Unit 58 only has 153 spikes, but 500 are requested. Skipping extraction.\n",
      "Unit 59 only has 5 spikes, but 500 are requested. Skipping extraction.\n"
     ]
    },
    {
     "name": "stderr",
     "output_type": "stream",
     "text": [
      "61it [03:46,  2.21s/it]"
     ]
    },
    {
     "name": "stdout",
     "output_type": "stream",
     "text": [
      "Unit 61 only has 47 spikes, but 500 are requested. Skipping extraction.\n"
     ]
    },
    {
     "name": "stderr",
     "output_type": "stream",
     "text": [
      "63it [03:50,  2.05s/it]"
     ]
    },
    {
     "name": "stdout",
     "output_type": "stream",
     "text": [
      "Unit 63 only has 151 spikes, but 500 are requested. Skipping extraction.\n",
      "Unit 64 only has 30 spikes, but 500 are requested. Skipping extraction.\n"
     ]
    },
    {
     "name": "stderr",
     "output_type": "stream",
     "text": [
      "67it [03:59,  2.24s/it]"
     ]
    },
    {
     "name": "stdout",
     "output_type": "stream",
     "text": [
      "Unit 67 only has 40 spikes, but 500 are requested. Skipping extraction.\n"
     ]
    },
    {
     "name": "stderr",
     "output_type": "stream",
     "text": [
      "70it [04:05,  2.40s/it]"
     ]
    },
    {
     "name": "stdout",
     "output_type": "stream",
     "text": [
      "Unit 70 only has 377 spikes, but 500 are requested. Skipping extraction.\n"
     ]
    },
    {
     "name": "stderr",
     "output_type": "stream",
     "text": [
      "73it [04:11,  2.27s/it]"
     ]
    },
    {
     "name": "stdout",
     "output_type": "stream",
     "text": [
      "Unit 73 only has 12 spikes, but 500 are requested. Skipping extraction.\n"
     ]
    },
    {
     "name": "stderr",
     "output_type": "stream",
     "text": [
      "75it [04:16,  2.31s/it]"
     ]
    },
    {
     "name": "stdout",
     "output_type": "stream",
     "text": [
      "Unit 75 only has 86 spikes, but 500 are requested. Skipping extraction.\n"
     ]
    },
    {
     "name": "stderr",
     "output_type": "stream",
     "text": [
      "79it [04:30,  3.07s/it]"
     ]
    },
    {
     "name": "stdout",
     "output_type": "stream",
     "text": [
      "Unit 79 only has 23 spikes, but 500 are requested. Skipping extraction.\n",
      "Unit 80 only has 60 spikes, but 500 are requested. Skipping extraction.\n",
      "Unit 81 only has 44 spikes, but 500 are requested. Skipping extraction.\n"
     ]
    },
    {
     "name": "stderr",
     "output_type": "stream",
     "text": [
      "83it [04:33,  1.91s/it]"
     ]
    },
    {
     "name": "stdout",
     "output_type": "stream",
     "text": [
      "Unit 83 only has 49 spikes, but 500 are requested. Skipping extraction.\n"
     ]
    },
    {
     "name": "stderr",
     "output_type": "stream",
     "text": [
      "85it [04:36,  1.69s/it]"
     ]
    },
    {
     "name": "stdout",
     "output_type": "stream",
     "text": [
      "Unit 85 only has 9 spikes, but 500 are requested. Skipping extraction.\n"
     ]
    },
    {
     "name": "stderr",
     "output_type": "stream",
     "text": [
      "90it [04:56,  3.47s/it]"
     ]
    },
    {
     "name": "stdout",
     "output_type": "stream",
     "text": [
      "Unit 90 only has 289 spikes, but 500 are requested. Skipping extraction.\n"
     ]
    },
    {
     "name": "stderr",
     "output_type": "stream",
     "text": [
      "93it [05:04,  3.02s/it]"
     ]
    },
    {
     "name": "stdout",
     "output_type": "stream",
     "text": [
      "Unit 93 only has 318 spikes, but 500 are requested. Skipping extraction.\n"
     ]
    },
    {
     "name": "stderr",
     "output_type": "stream",
     "text": [
      "96it [05:13,  3.26s/it]"
     ]
    },
    {
     "name": "stdout",
     "output_type": "stream",
     "text": [
      "Unit 96 only has 3 spikes, but 500 are requested. Skipping extraction.\n",
      "Unit 97 only has 25 spikes, but 500 are requested. Skipping extraction.\n"
     ]
    },
    {
     "name": "stderr",
     "output_type": "stream",
     "text": [
      "99it [05:19,  2.55s/it]"
     ]
    },
    {
     "name": "stdout",
     "output_type": "stream",
     "text": [
      "Unit 99 only has 9 spikes, but 500 are requested. Skipping extraction.\n"
     ]
    },
    {
     "name": "stderr",
     "output_type": "stream",
     "text": [
      "101it [05:21,  2.09s/it]"
     ]
    },
    {
     "name": "stdout",
     "output_type": "stream",
     "text": [
      "Unit 101 only has 15 spikes, but 500 are requested. Skipping extraction.\n",
      "Unit 102 only has 1 spikes, but 500 are requested. Skipping extraction.\n",
      "Unit 103 only has 452 spikes, but 500 are requested. Skipping extraction.\n"
     ]
    },
    {
     "name": "stderr",
     "output_type": "stream",
     "text": [
      "112it [06:00,  4.28s/it]"
     ]
    },
    {
     "name": "stdout",
     "output_type": "stream",
     "text": [
      "Unit 112 only has 6 spikes, but 500 are requested. Skipping extraction.\n"
     ]
    },
    {
     "name": "stderr",
     "output_type": "stream",
     "text": [
      "119it [06:27,  4.15s/it]"
     ]
    },
    {
     "name": "stdout",
     "output_type": "stream",
     "text": [
      "Unit 119 only has 78 spikes, but 500 are requested. Skipping extraction.\n"
     ]
    },
    {
     "name": "stderr",
     "output_type": "stream",
     "text": [
      "131it [07:15,  4.31s/it]"
     ]
    },
    {
     "name": "stdout",
     "output_type": "stream",
     "text": [
      "Unit 131 only has 420 spikes, but 500 are requested. Skipping extraction.\n"
     ]
    },
    {
     "name": "stderr",
     "output_type": "stream",
     "text": [
      "133it [07:20,  3.48s/it]"
     ]
    },
    {
     "name": "stdout",
     "output_type": "stream",
     "text": [
      "Unit 133 only has 258 spikes, but 500 are requested. Skipping extraction.\n"
     ]
    },
    {
     "name": "stderr",
     "output_type": "stream",
     "text": [
      "139it [07:40,  3.74s/it]"
     ]
    },
    {
     "name": "stdout",
     "output_type": "stream",
     "text": [
      "Unit 139 only has 271 spikes, but 500 are requested. Skipping extraction.\n",
      "Unit 140 only has 69 spikes, but 500 are requested. Skipping extraction.\n"
     ]
    },
    {
     "name": "stderr",
     "output_type": "stream",
     "text": [
      "142it [07:45,  2.64s/it]"
     ]
    },
    {
     "name": "stdout",
     "output_type": "stream",
     "text": [
      "Unit 142 only has 84 spikes, but 500 are requested. Skipping extraction.\n",
      "Unit 143 only has 11 spikes, but 500 are requested. Skipping extraction.\n",
      "Unit 144 only has 245 spikes, but 500 are requested. Skipping extraction.\n",
      "Unit 145 only has 337 spikes, but 500 are requested. Skipping extraction.\n",
      "Unit 146 only has 260 spikes, but 500 are requested. Skipping extraction.\n"
     ]
    },
    {
     "name": "stderr",
     "output_type": "stream",
     "text": [
      "150it [07:59,  2.42s/it]"
     ]
    },
    {
     "name": "stdout",
     "output_type": "stream",
     "text": [
      "Unit 150 only has 24 spikes, but 500 are requested. Skipping extraction.\n",
      "Unit 151 only has 271 spikes, but 500 are requested. Skipping extraction.\n",
      "Unit 152 only has 98 spikes, but 500 are requested. Skipping extraction.\n"
     ]
    },
    {
     "name": "stderr",
     "output_type": "stream",
     "text": [
      "155it [08:08,  2.22s/it]"
     ]
    },
    {
     "name": "stdout",
     "output_type": "stream",
     "text": [
      "Unit 155 only has 83 spikes, but 500 are requested. Skipping extraction.\n"
     ]
    },
    {
     "name": "stderr",
     "output_type": "stream",
     "text": [
      "158it [08:18,  2.67s/it]"
     ]
    },
    {
     "name": "stdout",
     "output_type": "stream",
     "text": [
      "Unit 158 only has 94 spikes, but 500 are requested. Skipping extraction.\n"
     ]
    },
    {
     "name": "stderr",
     "output_type": "stream",
     "text": [
      "163it [08:39,  3.97s/it]"
     ]
    },
    {
     "name": "stdout",
     "output_type": "stream",
     "text": [
      "Unit 163 only has 169 spikes, but 500 are requested. Skipping extraction.\n"
     ]
    },
    {
     "name": "stderr",
     "output_type": "stream",
     "text": [
      "167it [08:51,  3.51s/it]"
     ]
    },
    {
     "name": "stdout",
     "output_type": "stream",
     "text": [
      "Unit 167 only has 72 spikes, but 500 are requested. Skipping extraction.\n"
     ]
    },
    {
     "name": "stderr",
     "output_type": "stream",
     "text": [
      "169it [08:57,  3.21s/it]"
     ]
    },
    {
     "name": "stdout",
     "output_type": "stream",
     "text": [
      "Unit 169 only has 37 spikes, but 500 are requested. Skipping extraction.\n",
      "Unit 170 only has 477 spikes, but 500 are requested. Skipping extraction.\n"
     ]
    },
    {
     "name": "stderr",
     "output_type": "stream",
     "text": [
      "173it [09:03,  2.46s/it]"
     ]
    },
    {
     "name": "stdout",
     "output_type": "stream",
     "text": [
      "Unit 173 only has 69 spikes, but 500 are requested. Skipping extraction.\n",
      "Unit 174 only has 5 spikes, but 500 are requested. Skipping extraction.\n"
     ]
    },
    {
     "name": "stderr",
     "output_type": "stream",
     "text": [
      "178it [09:16,  2.85s/it]"
     ]
    },
    {
     "name": "stdout",
     "output_type": "stream",
     "text": [
      "Unit 178 only has 378 spikes, but 500 are requested. Skipping extraction.\n"
     ]
    },
    {
     "name": "stderr",
     "output_type": "stream",
     "text": [
      "182it [09:29,  3.13s/it]"
     ]
    },
    {
     "name": "stdout",
     "output_type": "stream",
     "text": [
      "Unit 182 only has 9 spikes, but 500 are requested. Skipping extraction.\n",
      "Unit 183 only has 1 spikes, but 500 are requested. Skipping extraction.\n",
      "Unit 184 only has 497 spikes, but 500 are requested. Skipping extraction.\n"
     ]
    },
    {
     "name": "stderr",
     "output_type": "stream",
     "text": [
      "189it [09:43,  2.73s/it]"
     ]
    },
    {
     "name": "stdout",
     "output_type": "stream",
     "text": [
      "Unit 189 only has 16 spikes, but 500 are requested. Skipping extraction.\n"
     ]
    },
    {
     "name": "stderr",
     "output_type": "stream",
     "text": [
      "191it [09:47,  2.54s/it]"
     ]
    },
    {
     "name": "stdout",
     "output_type": "stream",
     "text": [
      "Unit 191 only has 207 spikes, but 500 are requested. Skipping extraction.\n"
     ]
    },
    {
     "name": "stderr",
     "output_type": "stream",
     "text": [
      "195it [10:02,  3.49s/it]"
     ]
    },
    {
     "name": "stdout",
     "output_type": "stream",
     "text": [
      "Unit 195 only has 21 spikes, but 500 are requested. Skipping extraction.\n"
     ]
    },
    {
     "name": "stderr",
     "output_type": "stream",
     "text": [
      "205it [10:46,  4.94s/it]"
     ]
    },
    {
     "name": "stdout",
     "output_type": "stream",
     "text": [
      "Unit 205 only has 106 spikes, but 500 are requested. Skipping extraction.\n"
     ]
    },
    {
     "name": "stderr",
     "output_type": "stream",
     "text": [
      "211it [11:06,  3.56s/it]"
     ]
    },
    {
     "name": "stdout",
     "output_type": "stream",
     "text": [
      "Unit 211 only has 4 spikes, but 500 are requested. Skipping extraction.\n"
     ]
    },
    {
     "name": "stderr",
     "output_type": "stream",
     "text": [
      "215it [11:20,  3.75s/it]"
     ]
    },
    {
     "name": "stdout",
     "output_type": "stream",
     "text": [
      "Unit 215 only has 438 spikes, but 500 are requested. Skipping extraction.\n"
     ]
    },
    {
     "name": "stderr",
     "output_type": "stream",
     "text": [
      "218it [11:27,  3.21s/it]"
     ]
    },
    {
     "name": "stdout",
     "output_type": "stream",
     "text": [
      "Unit 218 only has 157 spikes, but 500 are requested. Skipping extraction.\n"
     ]
    },
    {
     "name": "stderr",
     "output_type": "stream",
     "text": [
      "222it [11:36,  2.74s/it]"
     ]
    },
    {
     "name": "stdout",
     "output_type": "stream",
     "text": [
      "Unit 222 only has 270 spikes, but 500 are requested. Skipping extraction.\n",
      "Unit 223 only has 95 spikes, but 500 are requested. Skipping extraction.\n",
      "Unit 224 only has 103 spikes, but 500 are requested. Skipping extraction.\n"
     ]
    },
    {
     "name": "stderr",
     "output_type": "stream",
     "text": [
      "231it [12:02,  3.83s/it]"
     ]
    },
    {
     "name": "stdout",
     "output_type": "stream",
     "text": [
      "Unit 231 only has 6 spikes, but 500 are requested. Skipping extraction.\n"
     ]
    },
    {
     "name": "stderr",
     "output_type": "stream",
     "text": [
      "235it [12:16,  3.81s/it]"
     ]
    },
    {
     "name": "stdout",
     "output_type": "stream",
     "text": [
      "Unit 235 only has 376 spikes, but 500 are requested. Skipping extraction.\n"
     ]
    },
    {
     "name": "stderr",
     "output_type": "stream",
     "text": [
      "239it [12:33,  4.30s/it]"
     ]
    },
    {
     "name": "stdout",
     "output_type": "stream",
     "text": [
      "Unit 239 only has 453 spikes, but 500 are requested. Skipping extraction.\n"
     ]
    },
    {
     "name": "stderr",
     "output_type": "stream",
     "text": [
      "250it [13:19,  3.90s/it]"
     ]
    },
    {
     "name": "stdout",
     "output_type": "stream",
     "text": [
      "Unit 250 only has 155 spikes, but 500 are requested. Skipping extraction.\n"
     ]
    },
    {
     "name": "stderr",
     "output_type": "stream",
     "text": [
      "260it [13:44,  2.29s/it]"
     ]
    },
    {
     "name": "stdout",
     "output_type": "stream",
     "text": [
      "Unit 260 only has 2 spikes, but 500 are requested. Skipping extraction.\n"
     ]
    },
    {
     "name": "stderr",
     "output_type": "stream",
     "text": [
      "263it [13:51,  2.10s/it]"
     ]
    },
    {
     "name": "stdout",
     "output_type": "stream",
     "text": [
      "Unit 263 only has 3 spikes, but 500 are requested. Skipping extraction.\n"
     ]
    },
    {
     "name": "stderr",
     "output_type": "stream",
     "text": [
      "265it [13:54,  1.91s/it]"
     ]
    },
    {
     "name": "stdout",
     "output_type": "stream",
     "text": [
      "Unit 265 only has 152 spikes, but 500 are requested. Skipping extraction.\n"
     ]
    },
    {
     "name": "stderr",
     "output_type": "stream",
     "text": [
      "267it [13:59,  2.13s/it]"
     ]
    },
    {
     "name": "stdout",
     "output_type": "stream",
     "text": [
      "Unit 267 only has 153 spikes, but 500 are requested. Skipping extraction.\n"
     ]
    },
    {
     "name": "stderr",
     "output_type": "stream",
     "text": [
      "270it [14:06,  2.43s/it]"
     ]
    },
    {
     "name": "stdout",
     "output_type": "stream",
     "text": [
      "Unit 270 only has 4 spikes, but 500 are requested. Skipping extraction.\n",
      "Unit 271 only has 53 spikes, but 500 are requested. Skipping extraction.\n",
      "Unit 272 only has 15 spikes, but 500 are requested. Skipping extraction.\n"
     ]
    },
    {
     "name": "stderr",
     "output_type": "stream",
     "text": [
      "278it [14:31,  3.56s/it]"
     ]
    },
    {
     "name": "stdout",
     "output_type": "stream",
     "text": [
      "Unit 278 only has 57 spikes, but 500 are requested. Skipping extraction.\n"
     ]
    },
    {
     "name": "stderr",
     "output_type": "stream",
     "text": [
      "282it [14:45,  3.81s/it]"
     ]
    },
    {
     "name": "stdout",
     "output_type": "stream",
     "text": [
      "Unit 282 only has 119 spikes, but 500 are requested. Skipping extraction.\n"
     ]
    },
    {
     "name": "stderr",
     "output_type": "stream",
     "text": [
      "284it [14:49,  3.13s/it]"
     ]
    },
    {
     "name": "stdout",
     "output_type": "stream",
     "text": [
      "Unit 284 only has 301 spikes, but 500 are requested. Skipping extraction.\n"
     ]
    },
    {
     "name": "stderr",
     "output_type": "stream",
     "text": [
      "286it [14:55,  3.03s/it]"
     ]
    },
    {
     "name": "stdout",
     "output_type": "stream",
     "text": [
      "Unit 286 only has 282 spikes, but 500 are requested. Skipping extraction.\n"
     ]
    },
    {
     "name": "stderr",
     "output_type": "stream",
     "text": [
      "291it [15:12,  3.42s/it]"
     ]
    },
    {
     "name": "stdout",
     "output_type": "stream",
     "text": [
      "Unit 291 only has 32 spikes, but 500 are requested. Skipping extraction.\n",
      "Unit 292 only has 169 spikes, but 500 are requested. Skipping extraction.\n"
     ]
    },
    {
     "name": "stderr",
     "output_type": "stream",
     "text": [
      "295it [15:21,  2.86s/it]"
     ]
    },
    {
     "name": "stdout",
     "output_type": "stream",
     "text": [
      "Unit 295 only has 106 spikes, but 500 are requested. Skipping extraction.\n",
      "Unit 296 only has 320 spikes, but 500 are requested. Skipping extraction.\n"
     ]
    },
    {
     "name": "stderr",
     "output_type": "stream",
     "text": [
      "298it [15:25,  2.22s/it]"
     ]
    },
    {
     "name": "stdout",
     "output_type": "stream",
     "text": [
      "Unit 298 only has 207 spikes, but 500 are requested. Skipping extraction.\n"
     ]
    },
    {
     "name": "stderr",
     "output_type": "stream",
     "text": [
      "301it [15:34,  2.62s/it]"
     ]
    },
    {
     "name": "stdout",
     "output_type": "stream",
     "text": [
      "Unit 301 only has 28 spikes, but 500 are requested. Skipping extraction.\n",
      "Unit 302 only has 34 spikes, but 500 are requested. Skipping extraction.\n"
     ]
    },
    {
     "name": "stderr",
     "output_type": "stream",
     "text": [
      "304it [15:39,  2.23s/it]"
     ]
    },
    {
     "name": "stdout",
     "output_type": "stream",
     "text": [
      "Unit 304 only has 13 spikes, but 500 are requested. Skipping extraction.\n",
      "Unit 305 only has 262 spikes, but 500 are requested. Skipping extraction.\n"
     ]
    },
    {
     "name": "stderr",
     "output_type": "stream",
     "text": [
      "311it [16:02,  3.41s/it]"
     ]
    },
    {
     "name": "stdout",
     "output_type": "stream",
     "text": [
      "Unit 311 only has 2 spikes, but 500 are requested. Skipping extraction.\n"
     ]
    },
    {
     "name": "stderr",
     "output_type": "stream",
     "text": [
      "313it [16:04,  2.58s/it]"
     ]
    },
    {
     "name": "stdout",
     "output_type": "stream",
     "text": [
      "Unit 313 only has 55 spikes, but 500 are requested. Skipping extraction.\n"
     ]
    },
    {
     "name": "stderr",
     "output_type": "stream",
     "text": [
      "329it [17:16,  5.09s/it]"
     ]
    },
    {
     "name": "stdout",
     "output_type": "stream",
     "text": [
      "Unit 329 only has 372 spikes, but 500 are requested. Skipping extraction.\n",
      "Unit 330 only has 45 spikes, but 500 are requested. Skipping extraction.\n",
      "Unit 331 only has 18 spikes, but 500 are requested. Skipping extraction.\n"
     ]
    },
    {
     "name": "stderr",
     "output_type": "stream",
     "text": [
      "335it [17:25,  2.56s/it]"
     ]
    },
    {
     "name": "stdout",
     "output_type": "stream",
     "text": [
      "Unit 335 only has 311 spikes, but 500 are requested. Skipping extraction.\n"
     ]
    },
    {
     "name": "stderr",
     "output_type": "stream",
     "text": [
      "340it [17:44,  3.73s/it]"
     ]
    },
    {
     "name": "stdout",
     "output_type": "stream",
     "text": [
      "Unit 340 only has 196 spikes, but 500 are requested. Skipping extraction.\n"
     ]
    },
    {
     "name": "stderr",
     "output_type": "stream",
     "text": [
      "343it [17:53,  3.36s/it]"
     ]
    },
    {
     "name": "stdout",
     "output_type": "stream",
     "text": [
      "Unit 343 only has 101 spikes, but 500 are requested. Skipping extraction.\n"
     ]
    },
    {
     "name": "stderr",
     "output_type": "stream",
     "text": [
      "347it [18:07,  3.81s/it]"
     ]
    },
    {
     "name": "stdout",
     "output_type": "stream",
     "text": [
      "Unit 347 only has 148 spikes, but 500 are requested. Skipping extraction.\n",
      "Unit 348 only has 8 spikes, but 500 are requested. Skipping extraction.\n",
      "Unit 349 only has 179 spikes, but 500 are requested. Skipping extraction.\n"
     ]
    },
    {
     "name": "stderr",
     "output_type": "stream",
     "text": [
      "355it [18:28,  3.05s/it]"
     ]
    },
    {
     "name": "stdout",
     "output_type": "stream",
     "text": [
      "Unit 355 only has 89 spikes, but 500 are requested. Skipping extraction.\n",
      "Unit 356 only has 494 spikes, but 500 are requested. Skipping extraction.\n"
     ]
    },
    {
     "name": "stderr",
     "output_type": "stream",
     "text": [
      "358it [18:33,  2.25s/it]"
     ]
    },
    {
     "name": "stdout",
     "output_type": "stream",
     "text": [
      "Unit 358 only has 204 spikes, but 500 are requested. Skipping extraction.\n"
     ]
    },
    {
     "name": "stderr",
     "output_type": "stream",
     "text": [
      "360it [18:38,  2.37s/it]"
     ]
    },
    {
     "name": "stdout",
     "output_type": "stream",
     "text": [
      "Unit 360 only has 1 spikes, but 500 are requested. Skipping extraction.\n",
      "Unit 361 only has 1 spikes, but 500 are requested. Skipping extraction.\n",
      "Unit 362 only has 37 spikes, but 500 are requested. Skipping extraction.\n",
      "Unit 363 only has 12 spikes, but 500 are requested. Skipping extraction.\n",
      "Unit 364 only has 139 spikes, but 500 are requested. Skipping extraction.\n",
      "Unit 365 only has 3 spikes, but 500 are requested. Skipping extraction.\n",
      "Unit 366 only has 140 spikes, but 500 are requested. Skipping extraction.\n",
      "Unit 367 only has 174 spikes, but 500 are requested. Skipping extraction.\n",
      "Unit 368 only has 19 spikes, but 500 are requested. Skipping extraction.\n",
      "Unit 369 only has 3 spikes, but 500 are requested. Skipping extraction.\n"
     ]
    },
    {
     "name": "stderr",
     "output_type": "stream",
     "text": [
      "372it [18:49,  1.38s/it]"
     ]
    },
    {
     "name": "stdout",
     "output_type": "stream",
     "text": [
      "Unit 372 only has 15 spikes, but 500 are requested. Skipping extraction.\n",
      "Unit 373 only has 334 spikes, but 500 are requested. Skipping extraction.\n",
      "Unit 374 only has 102 spikes, but 500 are requested. Skipping extraction.\n",
      "Unit 375 only has 15 spikes, but 500 are requested. Skipping extraction.\n",
      "Unit 376 only has 5 spikes, but 500 are requested. Skipping extraction.\n",
      "Unit 377 only has 38 spikes, but 500 are requested. Skipping extraction.\n",
      "Unit 378 only has 63 spikes, but 500 are requested. Skipping extraction.\n",
      "Unit 379 only has 105 spikes, but 500 are requested. Skipping extraction.\n",
      "Unit 380 only has 1 spikes, but 500 are requested. Skipping extraction.\n",
      "Unit 381 only has 266 spikes, but 500 are requested. Skipping extraction.\n"
     ]
    },
    {
     "name": "stderr",
     "output_type": "stream",
     "text": [
      "383it [18:51,  1.40it/s]"
     ]
    },
    {
     "name": "stdout",
     "output_type": "stream",
     "text": [
      "Unit 383 only has 160 spikes, but 500 are requested. Skipping extraction.\n"
     ]
    },
    {
     "name": "stderr",
     "output_type": "stream",
     "text": [
      "385it [18:55,  1.16it/s]"
     ]
    },
    {
     "name": "stdout",
     "output_type": "stream",
     "text": [
      "Unit 385 only has 36 spikes, but 500 are requested. Skipping extraction.\n"
     ]
    },
    {
     "name": "stderr",
     "output_type": "stream",
     "text": [
      "389it [19:05,  1.41s/it]"
     ]
    },
    {
     "name": "stdout",
     "output_type": "stream",
     "text": [
      "Unit 389 only has 345 spikes, but 500 are requested. Skipping extraction.\n"
     ]
    },
    {
     "name": "stderr",
     "output_type": "stream",
     "text": [
      "392it [19:15,  2.21s/it]"
     ]
    },
    {
     "name": "stdout",
     "output_type": "stream",
     "text": [
      "Unit 392 only has 3 spikes, but 500 are requested. Skipping extraction.\n",
      "Unit 393 only has 465 spikes, but 500 are requested. Skipping extraction.\n",
      "Unit 394 only has 49 spikes, but 500 are requested. Skipping extraction.\n",
      "Unit 395 only has 26 spikes, but 500 are requested. Skipping extraction.\n"
     ]
    },
    {
     "name": "stderr",
     "output_type": "stream",
     "text": [
      "400it [19:24,  2.91s/it]\n"
     ]
    },
    {
     "name": "stdout",
     "output_type": "stream",
     "text": [
      "Unit 398 only has 448 spikes, but 500 are requested. Skipping extraction.\n",
      "Unit 399 only has 61 spikes, but 500 are requested. Skipping extraction.\n",
      "making train, val, test splits\n",
      "saving split results\n"
     ]
    }
   ],
   "source": [
    "# suppose for session 2 we want a larger dataset comprised of most of the units in the recording, \n",
    "# but excluding some units that might have poor spikes in the recording or which kilosort did a poor job of recognizing. \n",
    "# then we can save out all of the units in the recording to the dataset and plot some spikes from the units (with plot=True)\n",
    "# and then we can go through and look at which units look like they have good, useful spikes for training. for this we'll\n",
    "# save out all units at first by specifying no unit ids.\n",
    "selected_units_sess2 = np.arange(400)\n",
    "dataset_folder_sess2 = save_folder_sess2 + '/ds'\n",
    "\n",
    "# make a dataset for training\n",
    "# will create a folder with the spike, probe channel number, and corresponding channel location datasets in the train, val, test splits\n",
    "# optionally also saves out spatial and temporal noise covariance matrices\n",
    "inference = False\n",
    "train_num = 400\n",
    "val_num = 0\n",
    "test_num = 100\n",
    "save_covs = True\n",
    "num_chans_extract = 21\n",
    "normalize = False #True for cell-type dataset\n",
    "shift = False\n",
    "save_fewer = False\n",
    "\n",
    "train_set2, val_set2, test_set2, train_geom_locs, val_geom_locs2, \\\n",
    "test_geom_locs2, train_max_chan2, val_max_chan2, test_max_chan2 = make_dataset(rec=rec2, \n",
    "                                                                               spike_index=spike_idx_sess2,\n",
    "                                                                               geom=geom_sess2, \n",
    "                                                                               save_path=dataset_folder_sess2, \n",
    "                                                                               chan_index=chan_idx_sess2, \n",
    "                                                                               templates=templates_sess2, \n",
    "                                                                               unit_ids=selected_units_sess2, \n",
    "                                                                               train_num=train_num, \n",
    "                                                                               val_num=val_num, \n",
    "                                                                               test_num=test_num, \n",
    "                                                                               save_covs=save_covs, \n",
    "                                                                               num_chans_extract=num_chans_extract, \n",
    "                                                                               plot=False,\n",
    "                                                                               normalize=normalize, \n",
    "                                                                               shift=shift, \n",
    "                                                                               inference=inference,\n",
    "                                                                               save_fewer=save_fewer)"
   ]
  },
  {
   "cell_type": "code",
   "execution_count": 12,
   "metadata": {},
   "outputs": [
    {
     "name": "stdout",
     "output_type": "stream",
     "text": [
      "Get Noise Floor\n",
      "Compute Spatial Covariance\n",
      "Compute Temporal Covaraince\n",
      "Starting to search noise snippets...\n"
     ]
    },
    {
     "name": "stderr",
     "output_type": "stream",
     "text": [
      "10it [00:55,  5.21s/it]"
     ]
    },
    {
     "name": "stdout",
     "output_type": "stream",
     "text": [
      "Unit 10 only has 386 spikes, but 500 are requested. Skipping extraction.\n",
      "Unit 11 only has 153 spikes, but 500 are requested. Skipping extraction.\n"
     ]
    },
    {
     "name": "stderr",
     "output_type": "stream",
     "text": [
      "18it [01:27,  4.73s/it]"
     ]
    },
    {
     "name": "stdout",
     "output_type": "stream",
     "text": [
      "Unit 18 only has 13 spikes, but 500 are requested. Skipping extraction.\n"
     ]
    },
    {
     "name": "stderr",
     "output_type": "stream",
     "text": [
      "20it [01:32,  3.86s/it]"
     ]
    },
    {
     "name": "stdout",
     "output_type": "stream",
     "text": [
      "Unit 20 only has 72 spikes, but 500 are requested. Skipping extraction.\n",
      "Unit 21 only has 113 spikes, but 500 are requested. Skipping extraction.\n",
      "Unit 22 only has 295 spikes, but 500 are requested. Skipping extraction.\n",
      "Unit 23 only has 10 spikes, but 500 are requested. Skipping extraction.\n"
     ]
    },
    {
     "name": "stderr",
     "output_type": "stream",
     "text": [
      "25it [01:37,  2.09s/it]"
     ]
    },
    {
     "name": "stdout",
     "output_type": "stream",
     "text": [
      "Unit 25 only has 196 spikes, but 500 are requested. Skipping extraction.\n"
     ]
    },
    {
     "name": "stderr",
     "output_type": "stream",
     "text": [
      "27it [01:42,  2.21s/it]"
     ]
    },
    {
     "name": "stdout",
     "output_type": "stream",
     "text": [
      "Unit 27 only has 243 spikes, but 500 are requested. Skipping extraction.\n"
     ]
    },
    {
     "name": "stderr",
     "output_type": "stream",
     "text": [
      "32it [02:01,  3.42s/it]"
     ]
    },
    {
     "name": "stdout",
     "output_type": "stream",
     "text": [
      "Unit 32 only has 439 spikes, but 500 are requested. Skipping extraction.\n"
     ]
    },
    {
     "name": "stderr",
     "output_type": "stream",
     "text": [
      "37it [02:22,  4.16s/it]"
     ]
    },
    {
     "name": "stdout",
     "output_type": "stream",
     "text": [
      "Unit 37 only has 48 spikes, but 500 are requested. Skipping extraction.\n"
     ]
    },
    {
     "name": "stderr",
     "output_type": "stream",
     "text": [
      "44it [02:48,  4.25s/it]"
     ]
    },
    {
     "name": "stdout",
     "output_type": "stream",
     "text": [
      "Unit 44 only has 1 spikes, but 500 are requested. Skipping extraction.\n"
     ]
    },
    {
     "name": "stderr",
     "output_type": "stream",
     "text": [
      "53it [03:23,  4.53s/it]"
     ]
    },
    {
     "name": "stdout",
     "output_type": "stream",
     "text": [
      "Unit 53 only has 134 spikes, but 500 are requested. Skipping extraction.\n"
     ]
    },
    {
     "name": "stderr",
     "output_type": "stream",
     "text": [
      "55it [03:27,  3.48s/it]"
     ]
    },
    {
     "name": "stdout",
     "output_type": "stream",
     "text": [
      "Unit 55 only has 1 spikes, but 500 are requested. Skipping extraction.\n",
      "Unit 56 only has 1 spikes, but 500 are requested. Skipping extraction.\n"
     ]
    },
    {
     "name": "stderr",
     "output_type": "stream",
     "text": [
      "58it [03:32,  2.57s/it]"
     ]
    },
    {
     "name": "stdout",
     "output_type": "stream",
     "text": [
      "Unit 58 only has 153 spikes, but 500 are requested. Skipping extraction.\n",
      "Unit 59 only has 5 spikes, but 500 are requested. Skipping extraction.\n"
     ]
    },
    {
     "name": "stderr",
     "output_type": "stream",
     "text": [
      "61it [03:37,  2.13s/it]"
     ]
    },
    {
     "name": "stdout",
     "output_type": "stream",
     "text": [
      "Unit 61 only has 47 spikes, but 500 are requested. Skipping extraction.\n"
     ]
    },
    {
     "name": "stderr",
     "output_type": "stream",
     "text": [
      "63it [03:41,  2.09s/it]"
     ]
    },
    {
     "name": "stdout",
     "output_type": "stream",
     "text": [
      "Unit 63 only has 151 spikes, but 500 are requested. Skipping extraction.\n",
      "Unit 64 only has 30 spikes, but 500 are requested. Skipping extraction.\n"
     ]
    },
    {
     "name": "stderr",
     "output_type": "stream",
     "text": [
      "67it [03:50,  2.38s/it]"
     ]
    },
    {
     "name": "stdout",
     "output_type": "stream",
     "text": [
      "Unit 67 only has 40 spikes, but 500 are requested. Skipping extraction.\n"
     ]
    },
    {
     "name": "stderr",
     "output_type": "stream",
     "text": [
      "70it [03:58,  2.64s/it]"
     ]
    },
    {
     "name": "stdout",
     "output_type": "stream",
     "text": [
      "Unit 70 only has 377 spikes, but 500 are requested. Skipping extraction.\n"
     ]
    },
    {
     "name": "stderr",
     "output_type": "stream",
     "text": [
      "73it [04:06,  2.66s/it]"
     ]
    },
    {
     "name": "stdout",
     "output_type": "stream",
     "text": [
      "Unit 73 only has 12 spikes, but 500 are requested. Skipping extraction.\n"
     ]
    },
    {
     "name": "stderr",
     "output_type": "stream",
     "text": [
      "75it [04:11,  2.53s/it]"
     ]
    },
    {
     "name": "stdout",
     "output_type": "stream",
     "text": [
      "Unit 75 only has 86 spikes, but 500 are requested. Skipping extraction.\n"
     ]
    },
    {
     "name": "stderr",
     "output_type": "stream",
     "text": [
      "79it [04:26,  3.44s/it]"
     ]
    },
    {
     "name": "stdout",
     "output_type": "stream",
     "text": [
      "Unit 79 only has 23 spikes, but 500 are requested. Skipping extraction.\n",
      "Unit 80 only has 60 spikes, but 500 are requested. Skipping extraction.\n",
      "Unit 81 only has 44 spikes, but 500 are requested. Skipping extraction.\n"
     ]
    },
    {
     "name": "stderr",
     "output_type": "stream",
     "text": [
      "83it [04:31,  2.25s/it]"
     ]
    },
    {
     "name": "stdout",
     "output_type": "stream",
     "text": [
      "Unit 83 only has 49 spikes, but 500 are requested. Skipping extraction.\n"
     ]
    },
    {
     "name": "stderr",
     "output_type": "stream",
     "text": [
      "85it [04:35,  2.16s/it]"
     ]
    },
    {
     "name": "stdout",
     "output_type": "stream",
     "text": [
      "Unit 85 only has 9 spikes, but 500 are requested. Skipping extraction.\n"
     ]
    },
    {
     "name": "stderr",
     "output_type": "stream",
     "text": [
      "90it [04:54,  3.54s/it]"
     ]
    },
    {
     "name": "stdout",
     "output_type": "stream",
     "text": [
      "Unit 90 only has 289 spikes, but 500 are requested. Skipping extraction.\n"
     ]
    },
    {
     "name": "stderr",
     "output_type": "stream",
     "text": [
      "93it [05:03,  3.40s/it]"
     ]
    },
    {
     "name": "stdout",
     "output_type": "stream",
     "text": [
      "Unit 93 only has 318 spikes, but 500 are requested. Skipping extraction.\n"
     ]
    },
    {
     "name": "stderr",
     "output_type": "stream",
     "text": [
      "96it [05:14,  3.51s/it]"
     ]
    },
    {
     "name": "stdout",
     "output_type": "stream",
     "text": [
      "Unit 96 only has 3 spikes, but 500 are requested. Skipping extraction.\n",
      "Unit 97 only has 25 spikes, but 500 are requested. Skipping extraction.\n"
     ]
    },
    {
     "name": "stderr",
     "output_type": "stream",
     "text": [
      "99it [05:19,  2.68s/it]"
     ]
    },
    {
     "name": "stdout",
     "output_type": "stream",
     "text": [
      "Unit 99 only has 9 spikes, but 500 are requested. Skipping extraction.\n"
     ]
    },
    {
     "name": "stderr",
     "output_type": "stream",
     "text": [
      "101it [05:22,  2.31s/it]"
     ]
    },
    {
     "name": "stdout",
     "output_type": "stream",
     "text": [
      "Unit 101 only has 15 spikes, but 500 are requested. Skipping extraction.\n",
      "Unit 102 only has 1 spikes, but 500 are requested. Skipping extraction.\n",
      "Unit 103 only has 452 spikes, but 500 are requested. Skipping extraction.\n"
     ]
    },
    {
     "name": "stderr",
     "output_type": "stream",
     "text": [
      "112it [06:01,  4.25s/it]"
     ]
    },
    {
     "name": "stdout",
     "output_type": "stream",
     "text": [
      "Unit 112 only has 6 spikes, but 500 are requested. Skipping extraction.\n"
     ]
    },
    {
     "name": "stderr",
     "output_type": "stream",
     "text": [
      "119it [06:28,  4.34s/it]"
     ]
    },
    {
     "name": "stdout",
     "output_type": "stream",
     "text": [
      "Unit 119 only has 78 spikes, but 500 are requested. Skipping extraction.\n"
     ]
    },
    {
     "name": "stderr",
     "output_type": "stream",
     "text": [
      "130it [07:15,  4.74s/it]"
     ]
    },
    {
     "name": "stdout",
     "output_type": "stream",
     "text": [
      "Unit 131 only has 420 spikes, but 500 are requested. Skipping extraction.\n"
     ]
    },
    {
     "name": "stderr",
     "output_type": "stream",
     "text": [
      "132it [07:20,  3.85s/it]"
     ]
    },
    {
     "name": "stdout",
     "output_type": "stream",
     "text": [
      "Unit 133 only has 258 spikes, but 500 are requested. Skipping extraction.\n"
     ]
    },
    {
     "name": "stderr",
     "output_type": "stream",
     "text": [
      "138it [07:43,  4.30s/it]"
     ]
    },
    {
     "name": "stdout",
     "output_type": "stream",
     "text": [
      "Unit 139 only has 271 spikes, but 500 are requested. Skipping extraction.\n",
      "Unit 140 only has 69 spikes, but 500 are requested. Skipping extraction.\n"
     ]
    },
    {
     "name": "stderr",
     "output_type": "stream",
     "text": [
      "141it [07:49,  3.01s/it]"
     ]
    },
    {
     "name": "stdout",
     "output_type": "stream",
     "text": [
      "Unit 142 only has 84 spikes, but 500 are requested. Skipping extraction.\n",
      "Unit 143 only has 11 spikes, but 500 are requested. Skipping extraction.\n",
      "Unit 144 only has 245 spikes, but 500 are requested. Skipping extraction.\n",
      "Unit 145 only has 337 spikes, but 500 are requested. Skipping extraction.\n",
      "Unit 146 only has 260 spikes, but 500 are requested. Skipping extraction.\n"
     ]
    },
    {
     "name": "stderr",
     "output_type": "stream",
     "text": [
      "149it [08:05,  2.69s/it]"
     ]
    },
    {
     "name": "stdout",
     "output_type": "stream",
     "text": [
      "Unit 150 only has 24 spikes, but 500 are requested. Skipping extraction.\n",
      "Unit 151 only has 271 spikes, but 500 are requested. Skipping extraction.\n",
      "Unit 152 only has 98 spikes, but 500 are requested. Skipping extraction.\n"
     ]
    },
    {
     "name": "stderr",
     "output_type": "stream",
     "text": [
      "154it [08:15,  2.51s/it]"
     ]
    },
    {
     "name": "stdout",
     "output_type": "stream",
     "text": [
      "Unit 155 only has 83 spikes, but 500 are requested. Skipping extraction.\n"
     ]
    },
    {
     "name": "stderr",
     "output_type": "stream",
     "text": [
      "157it [08:26,  3.00s/it]"
     ]
    },
    {
     "name": "stdout",
     "output_type": "stream",
     "text": [
      "Unit 158 only has 94 spikes, but 500 are requested. Skipping extraction.\n"
     ]
    },
    {
     "name": "stderr",
     "output_type": "stream",
     "text": [
      "162it [08:48,  4.35s/it]"
     ]
    },
    {
     "name": "stdout",
     "output_type": "stream",
     "text": [
      "Unit 163 only has 169 spikes, but 500 are requested. Skipping extraction.\n"
     ]
    },
    {
     "name": "stderr",
     "output_type": "stream",
     "text": [
      "166it [09:02,  3.93s/it]"
     ]
    },
    {
     "name": "stdout",
     "output_type": "stream",
     "text": [
      "Unit 167 only has 72 spikes, but 500 are requested. Skipping extraction.\n"
     ]
    },
    {
     "name": "stderr",
     "output_type": "stream",
     "text": [
      "168it [09:08,  3.48s/it]"
     ]
    },
    {
     "name": "stdout",
     "output_type": "stream",
     "text": [
      "Unit 169 only has 37 spikes, but 500 are requested. Skipping extraction.\n",
      "Unit 170 only has 477 spikes, but 500 are requested. Skipping extraction.\n"
     ]
    },
    {
     "name": "stderr",
     "output_type": "stream",
     "text": [
      "172it [09:15,  2.72s/it]"
     ]
    },
    {
     "name": "stdout",
     "output_type": "stream",
     "text": [
      "Unit 173 only has 69 spikes, but 500 are requested. Skipping extraction.\n",
      "Unit 174 only has 5 spikes, but 500 are requested. Skipping extraction.\n"
     ]
    },
    {
     "name": "stderr",
     "output_type": "stream",
     "text": [
      "177it [09:29,  3.15s/it]"
     ]
    },
    {
     "name": "stdout",
     "output_type": "stream",
     "text": [
      "Unit 178 only has 378 spikes, but 500 are requested. Skipping extraction.\n"
     ]
    },
    {
     "name": "stderr",
     "output_type": "stream",
     "text": [
      "181it [09:43,  3.39s/it]"
     ]
    },
    {
     "name": "stdout",
     "output_type": "stream",
     "text": [
      "Unit 182 only has 9 spikes, but 500 are requested. Skipping extraction.\n",
      "Unit 183 only has 1 spikes, but 500 are requested. Skipping extraction.\n",
      "Unit 184 only has 497 spikes, but 500 are requested. Skipping extraction.\n"
     ]
    },
    {
     "name": "stderr",
     "output_type": "stream",
     "text": [
      "188it [09:58,  2.91s/it]"
     ]
    },
    {
     "name": "stdout",
     "output_type": "stream",
     "text": [
      "Unit 189 only has 16 spikes, but 500 are requested. Skipping extraction.\n"
     ]
    },
    {
     "name": "stderr",
     "output_type": "stream",
     "text": [
      "190it [10:02,  2.63s/it]"
     ]
    },
    {
     "name": "stdout",
     "output_type": "stream",
     "text": [
      "Unit 191 only has 207 spikes, but 500 are requested. Skipping extraction.\n"
     ]
    },
    {
     "name": "stderr",
     "output_type": "stream",
     "text": [
      "194it [10:18,  3.58s/it]"
     ]
    },
    {
     "name": "stdout",
     "output_type": "stream",
     "text": [
      "Unit 195 only has 21 spikes, but 500 are requested. Skipping extraction.\n"
     ]
    },
    {
     "name": "stderr",
     "output_type": "stream",
     "text": [
      "204it [11:02,  4.91s/it]"
     ]
    },
    {
     "name": "stdout",
     "output_type": "stream",
     "text": [
      "Unit 205 only has 106 spikes, but 500 are requested. Skipping extraction.\n"
     ]
    },
    {
     "name": "stderr",
     "output_type": "stream",
     "text": [
      "210it [11:22,  3.61s/it]"
     ]
    },
    {
     "name": "stdout",
     "output_type": "stream",
     "text": [
      "Unit 211 only has 4 spikes, but 500 are requested. Skipping extraction.\n"
     ]
    },
    {
     "name": "stderr",
     "output_type": "stream",
     "text": [
      "214it [11:35,  3.51s/it]"
     ]
    },
    {
     "name": "stdout",
     "output_type": "stream",
     "text": [
      "Unit 215 only has 438 spikes, but 500 are requested. Skipping extraction.\n"
     ]
    },
    {
     "name": "stderr",
     "output_type": "stream",
     "text": [
      "217it [11:42,  2.92s/it]"
     ]
    },
    {
     "name": "stdout",
     "output_type": "stream",
     "text": [
      "Unit 218 only has 157 spikes, but 500 are requested. Skipping extraction.\n"
     ]
    },
    {
     "name": "stderr",
     "output_type": "stream",
     "text": [
      "221it [11:49,  2.55s/it]"
     ]
    },
    {
     "name": "stdout",
     "output_type": "stream",
     "text": [
      "Unit 222 only has 270 spikes, but 500 are requested. Skipping extraction.\n",
      "Unit 223 only has 95 spikes, but 500 are requested. Skipping extraction.\n",
      "Unit 224 only has 103 spikes, but 500 are requested. Skipping extraction.\n"
     ]
    },
    {
     "name": "stderr",
     "output_type": "stream",
     "text": [
      "230it [12:14,  3.58s/it]"
     ]
    },
    {
     "name": "stdout",
     "output_type": "stream",
     "text": [
      "Unit 231 only has 6 spikes, but 500 are requested. Skipping extraction.\n"
     ]
    },
    {
     "name": "stderr",
     "output_type": "stream",
     "text": [
      "234it [12:27,  3.57s/it]"
     ]
    },
    {
     "name": "stdout",
     "output_type": "stream",
     "text": [
      "Unit 235 only has 376 spikes, but 500 are requested. Skipping extraction.\n"
     ]
    },
    {
     "name": "stderr",
     "output_type": "stream",
     "text": [
      "238it [12:43,  3.96s/it]"
     ]
    },
    {
     "name": "stdout",
     "output_type": "stream",
     "text": [
      "Unit 239 only has 453 spikes, but 500 are requested. Skipping extraction.\n"
     ]
    },
    {
     "name": "stderr",
     "output_type": "stream",
     "text": [
      "258it [13:48,  2.14s/it]"
     ]
    },
    {
     "name": "stdout",
     "output_type": "stream",
     "text": [
      "Unit 260 only has 2 spikes, but 500 are requested. Skipping extraction.\n"
     ]
    },
    {
     "name": "stderr",
     "output_type": "stream",
     "text": [
      "261it [13:53,  1.94s/it]"
     ]
    },
    {
     "name": "stdout",
     "output_type": "stream",
     "text": [
      "Unit 263 only has 3 spikes, but 500 are requested. Skipping extraction.\n"
     ]
    },
    {
     "name": "stderr",
     "output_type": "stream",
     "text": [
      "263it [13:56,  1.76s/it]"
     ]
    },
    {
     "name": "stdout",
     "output_type": "stream",
     "text": [
      "Unit 265 only has 152 spikes, but 500 are requested. Skipping extraction.\n"
     ]
    },
    {
     "name": "stderr",
     "output_type": "stream",
     "text": [
      "265it [14:00,  1.89s/it]"
     ]
    },
    {
     "name": "stdout",
     "output_type": "stream",
     "text": [
      "Unit 267 only has 153 spikes, but 500 are requested. Skipping extraction.\n"
     ]
    },
    {
     "name": "stderr",
     "output_type": "stream",
     "text": [
      "268it [14:07,  2.17s/it]"
     ]
    },
    {
     "name": "stdout",
     "output_type": "stream",
     "text": [
      "Unit 270 only has 4 spikes, but 500 are requested. Skipping extraction.\n",
      "Unit 271 only has 53 spikes, but 500 are requested. Skipping extraction.\n",
      "Unit 272 only has 15 spikes, but 500 are requested. Skipping extraction.\n"
     ]
    },
    {
     "name": "stderr",
     "output_type": "stream",
     "text": [
      "276it [14:27,  2.99s/it]"
     ]
    },
    {
     "name": "stdout",
     "output_type": "stream",
     "text": [
      "Unit 278 only has 57 spikes, but 500 are requested. Skipping extraction.\n"
     ]
    },
    {
     "name": "stderr",
     "output_type": "stream",
     "text": [
      "280it [14:40,  3.25s/it]"
     ]
    },
    {
     "name": "stdout",
     "output_type": "stream",
     "text": [
      "Unit 282 only has 119 spikes, but 500 are requested. Skipping extraction.\n"
     ]
    },
    {
     "name": "stderr",
     "output_type": "stream",
     "text": [
      "282it [14:43,  2.63s/it]"
     ]
    },
    {
     "name": "stdout",
     "output_type": "stream",
     "text": [
      "Unit 284 only has 301 spikes, but 500 are requested. Skipping extraction.\n"
     ]
    },
    {
     "name": "stderr",
     "output_type": "stream",
     "text": [
      "284it [14:48,  2.56s/it]"
     ]
    },
    {
     "name": "stdout",
     "output_type": "stream",
     "text": [
      "Unit 286 only has 282 spikes, but 500 are requested. Skipping extraction.\n"
     ]
    },
    {
     "name": "stderr",
     "output_type": "stream",
     "text": [
      "289it [15:02,  2.91s/it]"
     ]
    },
    {
     "name": "stdout",
     "output_type": "stream",
     "text": [
      "Unit 291 only has 32 spikes, but 500 are requested. Skipping extraction.\n",
      "Unit 292 only has 169 spikes, but 500 are requested. Skipping extraction.\n"
     ]
    },
    {
     "name": "stderr",
     "output_type": "stream",
     "text": [
      "293it [15:10,  2.43s/it]"
     ]
    },
    {
     "name": "stdout",
     "output_type": "stream",
     "text": [
      "Unit 295 only has 106 spikes, but 500 are requested. Skipping extraction.\n",
      "Unit 296 only has 320 spikes, but 500 are requested. Skipping extraction.\n"
     ]
    },
    {
     "name": "stderr",
     "output_type": "stream",
     "text": [
      "296it [15:13,  1.83s/it]"
     ]
    },
    {
     "name": "stdout",
     "output_type": "stream",
     "text": [
      "Unit 298 only has 207 spikes, but 500 are requested. Skipping extraction.\n"
     ]
    },
    {
     "name": "stderr",
     "output_type": "stream",
     "text": [
      "299it [15:21,  2.20s/it]"
     ]
    },
    {
     "name": "stdout",
     "output_type": "stream",
     "text": [
      "Unit 301 only has 28 spikes, but 500 are requested. Skipping extraction.\n",
      "Unit 302 only has 34 spikes, but 500 are requested. Skipping extraction.\n"
     ]
    },
    {
     "name": "stderr",
     "output_type": "stream",
     "text": [
      "302it [15:25,  1.89s/it]"
     ]
    },
    {
     "name": "stdout",
     "output_type": "stream",
     "text": [
      "Unit 304 only has 13 spikes, but 500 are requested. Skipping extraction.\n",
      "Unit 305 only has 262 spikes, but 500 are requested. Skipping extraction.\n"
     ]
    },
    {
     "name": "stderr",
     "output_type": "stream",
     "text": [
      "309it [15:44,  2.86s/it]"
     ]
    },
    {
     "name": "stdout",
     "output_type": "stream",
     "text": [
      "Unit 311 only has 2 spikes, but 500 are requested. Skipping extraction.\n"
     ]
    },
    {
     "name": "stderr",
     "output_type": "stream",
     "text": [
      "311it [15:46,  2.19s/it]"
     ]
    },
    {
     "name": "stdout",
     "output_type": "stream",
     "text": [
      "Unit 313 only has 55 spikes, but 500 are requested. Skipping extraction.\n"
     ]
    },
    {
     "name": "stderr",
     "output_type": "stream",
     "text": [
      "327it [16:44,  4.04s/it]"
     ]
    },
    {
     "name": "stdout",
     "output_type": "stream",
     "text": [
      "Unit 329 only has 372 spikes, but 500 are requested. Skipping extraction.\n",
      "Unit 330 only has 45 spikes, but 500 are requested. Skipping extraction.\n",
      "Unit 331 only has 18 spikes, but 500 are requested. Skipping extraction.\n"
     ]
    },
    {
     "name": "stderr",
     "output_type": "stream",
     "text": [
      "333it [16:52,  2.09s/it]"
     ]
    },
    {
     "name": "stdout",
     "output_type": "stream",
     "text": [
      "Unit 335 only has 311 spikes, but 500 are requested. Skipping extraction.\n"
     ]
    },
    {
     "name": "stderr",
     "output_type": "stream",
     "text": [
      "340it [17:12,  2.97s/it]"
     ]
    },
    {
     "name": "stdout",
     "output_type": "stream",
     "text": [
      "Unit 343 only has 101 spikes, but 500 are requested. Skipping extraction.\n"
     ]
    },
    {
     "name": "stderr",
     "output_type": "stream",
     "text": [
      "344it [17:22,  2.85s/it]"
     ]
    },
    {
     "name": "stdout",
     "output_type": "stream",
     "text": [
      "Unit 347 only has 148 spikes, but 500 are requested. Skipping extraction.\n",
      "Unit 348 only has 8 spikes, but 500 are requested. Skipping extraction.\n",
      "Unit 349 only has 179 spikes, but 500 are requested. Skipping extraction.\n"
     ]
    },
    {
     "name": "stderr",
     "output_type": "stream",
     "text": [
      "352it [17:37,  2.25s/it]"
     ]
    },
    {
     "name": "stdout",
     "output_type": "stream",
     "text": [
      "Unit 355 only has 89 spikes, but 500 are requested. Skipping extraction.\n",
      "Unit 356 only has 494 spikes, but 500 are requested. Skipping extraction.\n"
     ]
    },
    {
     "name": "stderr",
     "output_type": "stream",
     "text": [
      "355it [17:40,  1.58s/it]"
     ]
    },
    {
     "name": "stdout",
     "output_type": "stream",
     "text": [
      "Unit 358 only has 204 spikes, but 500 are requested. Skipping extraction.\n"
     ]
    },
    {
     "name": "stderr",
     "output_type": "stream",
     "text": [
      "357it [17:44,  1.66s/it]"
     ]
    },
    {
     "name": "stdout",
     "output_type": "stream",
     "text": [
      "Unit 360 only has 1 spikes, but 500 are requested. Skipping extraction.\n",
      "Unit 361 only has 1 spikes, but 500 are requested. Skipping extraction.\n",
      "Unit 362 only has 37 spikes, but 500 are requested. Skipping extraction.\n",
      "Unit 363 only has 12 spikes, but 500 are requested. Skipping extraction.\n",
      "Unit 364 only has 139 spikes, but 500 are requested. Skipping extraction.\n",
      "Unit 365 only has 3 spikes, but 500 are requested. Skipping extraction.\n",
      "Unit 366 only has 140 spikes, but 500 are requested. Skipping extraction.\n",
      "Unit 367 only has 174 spikes, but 500 are requested. Skipping extraction.\n",
      "Unit 368 only has 19 spikes, but 500 are requested. Skipping extraction.\n",
      "Unit 369 only has 3 spikes, but 500 are requested. Skipping extraction.\n"
     ]
    },
    {
     "name": "stderr",
     "output_type": "stream",
     "text": [
      "369it [17:51,  1.03it/s]"
     ]
    },
    {
     "name": "stdout",
     "output_type": "stream",
     "text": [
      "Unit 372 only has 15 spikes, but 500 are requested. Skipping extraction.\n",
      "Unit 373 only has 334 spikes, but 500 are requested. Skipping extraction.\n",
      "Unit 374 only has 102 spikes, but 500 are requested. Skipping extraction.\n",
      "Unit 375 only has 15 spikes, but 500 are requested. Skipping extraction.\n",
      "Unit 376 only has 5 spikes, but 500 are requested. Skipping extraction.\n",
      "Unit 377 only has 38 spikes, but 500 are requested. Skipping extraction.\n",
      "Unit 378 only has 63 spikes, but 500 are requested. Skipping extraction.\n",
      "Unit 379 only has 105 spikes, but 500 are requested. Skipping extraction.\n",
      "Unit 380 only has 1 spikes, but 500 are requested. Skipping extraction.\n",
      "Unit 381 only has 266 spikes, but 500 are requested. Skipping extraction.\n"
     ]
    },
    {
     "name": "stderr",
     "output_type": "stream",
     "text": [
      "380it [17:53,  1.91it/s]"
     ]
    },
    {
     "name": "stdout",
     "output_type": "stream",
     "text": [
      "Unit 383 only has 160 spikes, but 500 are requested. Skipping extraction.\n"
     ]
    },
    {
     "name": "stderr",
     "output_type": "stream",
     "text": [
      "382it [17:56,  1.56it/s]"
     ]
    },
    {
     "name": "stdout",
     "output_type": "stream",
     "text": [
      "Unit 385 only has 36 spikes, but 500 are requested. Skipping extraction.\n"
     ]
    },
    {
     "name": "stderr",
     "output_type": "stream",
     "text": [
      "386it [18:03,  1.06s/it]"
     ]
    },
    {
     "name": "stdout",
     "output_type": "stream",
     "text": [
      "Unit 389 only has 345 spikes, but 500 are requested. Skipping extraction.\n"
     ]
    },
    {
     "name": "stderr",
     "output_type": "stream",
     "text": [
      "389it [18:10,  1.56s/it]"
     ]
    },
    {
     "name": "stdout",
     "output_type": "stream",
     "text": [
      "Unit 392 only has 3 spikes, but 500 are requested. Skipping extraction.\n",
      "Unit 393 only has 465 spikes, but 500 are requested. Skipping extraction.\n",
      "Unit 394 only has 49 spikes, but 500 are requested. Skipping extraction.\n",
      "Unit 395 only has 26 spikes, but 500 are requested. Skipping extraction.\n"
     ]
    },
    {
     "name": "stderr",
     "output_type": "stream",
     "text": [
      "395it [18:17,  1.36s/it]"
     ]
    },
    {
     "name": "stdout",
     "output_type": "stream",
     "text": [
      "Unit 398 only has 448 spikes, but 500 are requested. Skipping extraction.\n",
      "Unit 399 only has 61 spikes, but 500 are requested. Skipping extraction.\n"
     ]
    },
    {
     "name": "stderr",
     "output_type": "stream",
     "text": [
      "398it [18:20,  1.33s/it]"
     ]
    },
    {
     "name": "stdout",
     "output_type": "stream",
     "text": [
      "Unit 401 only has 76 spikes, but 500 are requested. Skipping extraction.\n",
      "Unit 402 only has 56 spikes, but 500 are requested. Skipping extraction.\n",
      "Unit 403 only has 22 spikes, but 500 are requested. Skipping extraction.\n"
     ]
    },
    {
     "name": "stderr",
     "output_type": "stream",
     "text": [
      "407it [18:40,  2.49s/it]"
     ]
    },
    {
     "name": "stdout",
     "output_type": "stream",
     "text": [
      "Unit 410 only has 40 spikes, but 500 are requested. Skipping extraction.\n"
     ]
    },
    {
     "name": "stderr",
     "output_type": "stream",
     "text": [
      "409it [18:41,  1.88s/it]"
     ]
    },
    {
     "name": "stdout",
     "output_type": "stream",
     "text": [
      "Unit 412 only has 225 spikes, but 500 are requested. Skipping extraction.\n",
      "Unit 413 only has 101 spikes, but 500 are requested. Skipping extraction.\n"
     ]
    },
    {
     "name": "stderr",
     "output_type": "stream",
     "text": [
      "414it [18:51,  2.13s/it]"
     ]
    },
    {
     "name": "stdout",
     "output_type": "stream",
     "text": [
      "Unit 417 only has 204 spikes, but 500 are requested. Skipping extraction.\n"
     ]
    },
    {
     "name": "stderr",
     "output_type": "stream",
     "text": [
      "416it [18:55,  2.05s/it]"
     ]
    },
    {
     "name": "stdout",
     "output_type": "stream",
     "text": [
      "Unit 419 only has 245 spikes, but 500 are requested. Skipping extraction.\n",
      "Unit 420 only has 3 spikes, but 500 are requested. Skipping extraction.\n",
      "Unit 421 only has 84 spikes, but 500 are requested. Skipping extraction.\n",
      "Unit 422 only has 93 spikes, but 500 are requested. Skipping extraction.\n"
     ]
    },
    {
     "name": "stderr",
     "output_type": "stream",
     "text": [
      "421it [19:00,  1.38s/it]"
     ]
    },
    {
     "name": "stdout",
     "output_type": "stream",
     "text": [
      "Unit 424 only has 13 spikes, but 500 are requested. Skipping extraction.\n",
      "Unit 425 only has 316 spikes, but 500 are requested. Skipping extraction.\n",
      "Unit 426 only has 61 spikes, but 500 are requested. Skipping extraction.\n",
      "Unit 427 only has 42 spikes, but 500 are requested. Skipping extraction.\n"
     ]
    },
    {
     "name": "stderr",
     "output_type": "stream",
     "text": [
      "426it [19:04,  1.11s/it]"
     ]
    },
    {
     "name": "stdout",
     "output_type": "stream",
     "text": [
      "Unit 429 only has 6 spikes, but 500 are requested. Skipping extraction.\n"
     ]
    },
    {
     "name": "stderr",
     "output_type": "stream",
     "text": [
      "429it [19:10,  1.39s/it]"
     ]
    },
    {
     "name": "stdout",
     "output_type": "stream",
     "text": [
      "Unit 432 only has 203 spikes, but 500 are requested. Skipping extraction.\n"
     ]
    },
    {
     "name": "stderr",
     "output_type": "stream",
     "text": [
      "431it [19:14,  1.57s/it]"
     ]
    },
    {
     "name": "stdout",
     "output_type": "stream",
     "text": [
      "Unit 434 only has 123 spikes, but 500 are requested. Skipping extraction.\n",
      "Unit 435 only has 42 spikes, but 500 are requested. Skipping extraction.\n"
     ]
    },
    {
     "name": "stderr",
     "output_type": "stream",
     "text": [
      "434it [19:17,  1.32s/it]"
     ]
    },
    {
     "name": "stdout",
     "output_type": "stream",
     "text": [
      "Unit 437 only has 160 spikes, but 500 are requested. Skipping extraction.\n",
      "Unit 438 only has 57 spikes, but 500 are requested. Skipping extraction.\n",
      "Unit 439 only has 16 spikes, but 500 are requested. Skipping extraction.\n",
      "Unit 440 only has 204 spikes, but 500 are requested. Skipping extraction.\n",
      "Unit 441 only has 82 spikes, but 500 are requested. Skipping extraction.\n",
      "Unit 442 only has 3 spikes, but 500 are requested. Skipping extraction.\n",
      "Unit 443 only has 485 spikes, but 500 are requested. Skipping extraction.\n",
      "Unit 444 only has 443 spikes, but 500 are requested. Skipping extraction.\n",
      "Unit 445 only has 5 spikes, but 500 are requested. Skipping extraction.\n",
      "Unit 446 only has 1 spikes, but 500 are requested. Skipping extraction.\n"
     ]
    },
    {
     "name": "stderr",
     "output_type": "stream",
     "text": [
      "445it [19:20,  1.47it/s]"
     ]
    },
    {
     "name": "stdout",
     "output_type": "stream",
     "text": [
      "Unit 448 only has 480 spikes, but 500 are requested. Skipping extraction.\n",
      "Unit 449 only has 210 spikes, but 500 are requested. Skipping extraction.\n",
      "Unit 450 only has 57 spikes, but 500 are requested. Skipping extraction.\n"
     ]
    },
    {
     "name": "stderr",
     "output_type": "stream",
     "text": [
      "454it [19:25,  2.57s/it]\n"
     ]
    },
    {
     "name": "stdout",
     "output_type": "stream",
     "text": [
      "Unit 452 only has 149 spikes, but 500 are requested. Skipping extraction.\n",
      "Unit 453 only has 55 spikes, but 500 are requested. Skipping extraction.\n",
      "Unit 454 only has 2 spikes, but 500 are requested. Skipping extraction.\n",
      "Unit 455 only has 76 spikes, but 500 are requested. Skipping extraction.\n",
      "Unit 456 only has 174 spikes, but 500 are requested. Skipping extraction.\n",
      "making train, val, test splits\n",
      "saving split results\n"
     ]
    }
   ],
   "source": [
    "# after looking at all of the plotted units in session 2's dataset folder (under wf_plots) we decide to exclude certain units.\n",
    "# we can also decide to make selected_units_sess2 out of the units we decide are good rather than exclude units \n",
    "# if we find too many bad units (we would just define it as a list of units in this latter case).\n",
    "bad_units_sess2 = [130, 250, 340]\n",
    "selected_units_sess2 = all_units_except(spike_index=spike_idx_sess2, exclude_units=bad_units_sess2)\n",
    "\n",
    "# now we can create the same dataset, but overwrite the previous files with the new ones that exclude the unit ids we don't want\n",
    "train_set2, val_set2, test_set2, train_geom_locs, val_geom_locs2, \\\n",
    "test_geom_locs2, train_max_chan2, val_max_chan2, test_max_chan2 = make_dataset(rec=rec2, \n",
    "                                                                               spike_index=spike_idx_sess2,\n",
    "                                                                               geom=geom_sess2, \n",
    "                                                                               save_path=dataset_folder_sess2, \n",
    "                                                                               chan_index=chan_idx_sess2, \n",
    "                                                                               templates=templates_sess2, \n",
    "                                                                               unit_ids=selected_units_sess2, \n",
    "                                                                               train_num=train_num, \n",
    "                                                                               val_num=val_num, \n",
    "                                                                               test_num=test_num, \n",
    "                                                                               save_covs=save_covs, \n",
    "                                                                               num_chans_extract=num_chans_extract, \n",
    "                                                                               plot=False,\n",
    "                                                                               normalize=normalize, \n",
    "                                                                               shift=shift, \n",
    "                                                                               inference=inference,\n",
    "                                                                               save_fewer=save_fewer)"
   ]
  },
  {
   "cell_type": "markdown",
   "metadata": {},
   "source": [
    "### Combine the datasets"
   ]
  },
  {
   "cell_type": "code",
   "execution_count": 13,
   "metadata": {},
   "outputs": [],
   "source": [
    "combined_ds_path = save_dir + 'combined_dataset/'\n",
    "\n",
    "# combine the two training datasets into a larger one for more unit diversity\n",
    "dataset_list = [dataset_folder_sess1, dataset_folder_sess2]\n",
    "combine_datasets(dataset_list, combined_ds_path)"
   ]
  },
  {
   "cell_type": "markdown",
   "metadata": {},
   "source": [
    "### Make an inference dataset"
   ]
  },
  {
   "cell_type": "code",
   "execution_count": 14,
   "metadata": {},
   "outputs": [
    {
     "name": "stderr",
     "output_type": "stream",
     "text": [
      "0it [00:00, ?it/s]"
     ]
    },
    {
     "name": "stdout",
     "output_type": "stream",
     "text": [
      "Unit 0 only has 261 spikes, but 900 are requested. Skipping extraction.\n"
     ]
    },
    {
     "name": "stderr",
     "output_type": "stream",
     "text": [
      "3it [00:43, 15.29s/it]"
     ]
    },
    {
     "name": "stdout",
     "output_type": "stream",
     "text": [
      "Unit 3 only has 3 spikes, but 900 are requested. Skipping extraction.\n"
     ]
    },
    {
     "name": "stderr",
     "output_type": "stream",
     "text": [
      "7it [01:32, 13.35s/it]"
     ]
    },
    {
     "name": "stdout",
     "output_type": "stream",
     "text": [
      "Unit 7 only has 740 spikes, but 900 are requested. Skipping extraction.\n"
     ]
    },
    {
     "name": "stderr",
     "output_type": "stream",
     "text": [
      "10it [01:55, 10.33s/it]"
     ]
    },
    {
     "name": "stdout",
     "output_type": "stream",
     "text": [
      "Unit 10 only has 7 spikes, but 900 are requested. Skipping extraction.\n"
     ]
    },
    {
     "name": "stderr",
     "output_type": "stream",
     "text": [
      "12it [02:07,  8.60s/it]"
     ]
    },
    {
     "name": "stdout",
     "output_type": "stream",
     "text": [
      "Unit 12 only has 21 spikes, but 900 are requested. Skipping extraction.\n"
     ]
    },
    {
     "name": "stderr",
     "output_type": "stream",
     "text": [
      "14it [02:19,  7.61s/it]"
     ]
    },
    {
     "name": "stdout",
     "output_type": "stream",
     "text": [
      "Unit 14 only has 3 spikes, but 900 are requested. Skipping extraction.\n",
      "Unit 15 only has 148 spikes, but 900 are requested. Skipping extraction.\n"
     ]
    },
    {
     "name": "stderr",
     "output_type": "stream",
     "text": [
      "18it [02:38,  6.31s/it]"
     ]
    },
    {
     "name": "stdout",
     "output_type": "stream",
     "text": [
      "Unit 18 only has 131 spikes, but 900 are requested. Skipping extraction.\n"
     ]
    },
    {
     "name": "stderr",
     "output_type": "stream",
     "text": [
      "24it [03:19,  6.98s/it]"
     ]
    },
    {
     "name": "stdout",
     "output_type": "stream",
     "text": [
      "Unit 24 only has 283 spikes, but 900 are requested. Skipping extraction.\n"
     ]
    },
    {
     "name": "stderr",
     "output_type": "stream",
     "text": [
      "30it [04:13,  9.32s/it]"
     ]
    },
    {
     "name": "stdout",
     "output_type": "stream",
     "text": [
      "Unit 30 only has 28 spikes, but 900 are requested. Skipping extraction.\n"
     ]
    },
    {
     "name": "stderr",
     "output_type": "stream",
     "text": [
      "38it [05:28, 10.18s/it]"
     ]
    },
    {
     "name": "stdout",
     "output_type": "stream",
     "text": [
      "Unit 38 only has 10 spikes, but 900 are requested. Skipping extraction.\n",
      "Unit 39 only has 6 spikes, but 900 are requested. Skipping extraction.\n"
     ]
    },
    {
     "name": "stderr",
     "output_type": "stream",
     "text": [
      "41it [05:39,  6.50s/it]"
     ]
    },
    {
     "name": "stdout",
     "output_type": "stream",
     "text": [
      "Unit 41 only has 684 spikes, but 900 are requested. Skipping extraction.\n"
     ]
    },
    {
     "name": "stderr",
     "output_type": "stream",
     "text": [
      "46it [06:17,  7.78s/it]"
     ]
    },
    {
     "name": "stdout",
     "output_type": "stream",
     "text": [
      "Unit 46 only has 812 spikes, but 900 are requested. Skipping extraction.\n"
     ]
    },
    {
     "name": "stderr",
     "output_type": "stream",
     "text": [
      "49it [06:36,  7.22s/it]"
     ]
    },
    {
     "name": "stdout",
     "output_type": "stream",
     "text": [
      "Unit 49 only has 803 spikes, but 900 are requested. Skipping extraction.\n",
      "Unit 50 only has 15 spikes, but 900 are requested. Skipping extraction.\n"
     ]
    },
    {
     "name": "stderr",
     "output_type": "stream",
     "text": [
      "52it [06:45,  5.20s/it]"
     ]
    },
    {
     "name": "stdout",
     "output_type": "stream",
     "text": [
      "Unit 52 only has 137 spikes, but 900 are requested. Skipping extraction.\n"
     ]
    },
    {
     "name": "stderr",
     "output_type": "stream",
     "text": [
      "58it [07:28,  6.74s/it]"
     ]
    },
    {
     "name": "stdout",
     "output_type": "stream",
     "text": [
      "Unit 58 only has 272 spikes, but 900 are requested. Skipping extraction.\n",
      "Unit 59 only has 322 spikes, but 900 are requested. Skipping extraction.\n"
     ]
    },
    {
     "name": "stderr",
     "output_type": "stream",
     "text": [
      "62it [07:48,  5.84s/it]"
     ]
    },
    {
     "name": "stdout",
     "output_type": "stream",
     "text": [
      "Unit 62 only has 40 spikes, but 900 are requested. Skipping extraction.\n",
      "Unit 63 only has 195 spikes, but 900 are requested. Skipping extraction.\n"
     ]
    },
    {
     "name": "stderr",
     "output_type": "stream",
     "text": [
      "65it [07:58,  4.67s/it]"
     ]
    },
    {
     "name": "stdout",
     "output_type": "stream",
     "text": [
      "Unit 65 only has 28 spikes, but 900 are requested. Skipping extraction.\n"
     ]
    },
    {
     "name": "stderr",
     "output_type": "stream",
     "text": [
      "76it [09:33,  9.24s/it]"
     ]
    },
    {
     "name": "stdout",
     "output_type": "stream",
     "text": [
      "Unit 76 only has 9 spikes, but 900 are requested. Skipping extraction.\n"
     ]
    },
    {
     "name": "stderr",
     "output_type": "stream",
     "text": [
      "85it [10:46,  8.61s/it]"
     ]
    },
    {
     "name": "stdout",
     "output_type": "stream",
     "text": [
      "Unit 85 only has 3 spikes, but 900 are requested. Skipping extraction.\n"
     ]
    },
    {
     "name": "stderr",
     "output_type": "stream",
     "text": [
      "87it [10:54,  6.49s/it]"
     ]
    },
    {
     "name": "stdout",
     "output_type": "stream",
     "text": [
      "Unit 87 only has 1 spikes, but 900 are requested. Skipping extraction.\n"
     ]
    },
    {
     "name": "stderr",
     "output_type": "stream",
     "text": [
      "92it [11:31,  7.67s/it]"
     ]
    },
    {
     "name": "stdout",
     "output_type": "stream",
     "text": [
      "Unit 92 only has 724 spikes, but 900 are requested. Skipping extraction.\n"
     ]
    },
    {
     "name": "stderr",
     "output_type": "stream",
     "text": [
      "110it [14:10,  9.46s/it]"
     ]
    },
    {
     "name": "stdout",
     "output_type": "stream",
     "text": [
      "Unit 110 only has 182 spikes, but 900 are requested. Skipping extraction.\n"
     ]
    },
    {
     "name": "stderr",
     "output_type": "stream",
     "text": [
      "114it [14:36,  7.59s/it]"
     ]
    },
    {
     "name": "stdout",
     "output_type": "stream",
     "text": [
      "Unit 114 only has 27 spikes, but 900 are requested. Skipping extraction.\n"
     ]
    },
    {
     "name": "stderr",
     "output_type": "stream",
     "text": [
      "117it [14:55,  7.20s/it]"
     ]
    },
    {
     "name": "stdout",
     "output_type": "stream",
     "text": [
      "Unit 117 only has 55 spikes, but 900 are requested. Skipping extraction.\n"
     ]
    },
    {
     "name": "stderr",
     "output_type": "stream",
     "text": [
      "121it [15:25,  7.69s/it]"
     ]
    },
    {
     "name": "stdout",
     "output_type": "stream",
     "text": [
      "Unit 121 only has 290 spikes, but 900 are requested. Skipping extraction.\n"
     ]
    },
    {
     "name": "stderr",
     "output_type": "stream",
     "text": [
      "124it [15:44,  7.21s/it]"
     ]
    },
    {
     "name": "stdout",
     "output_type": "stream",
     "text": [
      "Unit 124 only has 270 spikes, but 900 are requested. Skipping extraction.\n"
     ]
    },
    {
     "name": "stderr",
     "output_type": "stream",
     "text": [
      "140it [17:57,  8.90s/it]"
     ]
    },
    {
     "name": "stdout",
     "output_type": "stream",
     "text": [
      "Unit 140 only has 731 spikes, but 900 are requested. Skipping extraction.\n"
     ]
    },
    {
     "name": "stderr",
     "output_type": "stream",
     "text": [
      "143it [18:13,  6.95s/it]"
     ]
    },
    {
     "name": "stdout",
     "output_type": "stream",
     "text": [
      "Unit 143 only has 398 spikes, but 900 are requested. Skipping extraction.\n"
     ]
    },
    {
     "name": "stderr",
     "output_type": "stream",
     "text": [
      "145it [18:18,  5.23s/it]"
     ]
    },
    {
     "name": "stdout",
     "output_type": "stream",
     "text": [
      "Unit 145 only has 91 spikes, but 900 are requested. Skipping extraction.\n",
      "Unit 146 only has 12 spikes, but 900 are requested. Skipping extraction.\n"
     ]
    },
    {
     "name": "stderr",
     "output_type": "stream",
     "text": [
      "157it [19:54,  9.11s/it]"
     ]
    },
    {
     "name": "stdout",
     "output_type": "stream",
     "text": [
      "Unit 157 only has 380 spikes, but 900 are requested. Skipping extraction.\n"
     ]
    },
    {
     "name": "stderr",
     "output_type": "stream",
     "text": [
      "171it [21:47,  8.57s/it]"
     ]
    },
    {
     "name": "stdout",
     "output_type": "stream",
     "text": [
      "Unit 171 only has 28 spikes, but 900 are requested. Skipping extraction.\n"
     ]
    },
    {
     "name": "stderr",
     "output_type": "stream",
     "text": [
      "173it [21:55,  6.48s/it]"
     ]
    },
    {
     "name": "stdout",
     "output_type": "stream",
     "text": [
      "Unit 173 only has 275 spikes, but 900 are requested. Skipping extraction.\n",
      "Unit 174 only has 171 spikes, but 900 are requested. Skipping extraction.\n",
      "Unit 175 only has 524 spikes, but 900 are requested. Skipping extraction.\n"
     ]
    },
    {
     "name": "stderr",
     "output_type": "stream",
     "text": [
      "180it [22:32,  6.51s/it]"
     ]
    },
    {
     "name": "stdout",
     "output_type": "stream",
     "text": [
      "Unit 180 only has 813 spikes, but 900 are requested. Skipping extraction.\n"
     ]
    },
    {
     "name": "stderr",
     "output_type": "stream",
     "text": [
      "187it [23:28,  8.43s/it]"
     ]
    },
    {
     "name": "stdout",
     "output_type": "stream",
     "text": [
      "Unit 187 only has 662 spikes, but 900 are requested. Skipping extraction.\n"
     ]
    },
    {
     "name": "stderr",
     "output_type": "stream",
     "text": [
      "193it [24:14,  8.40s/it]"
     ]
    },
    {
     "name": "stdout",
     "output_type": "stream",
     "text": [
      "Unit 193 only has 17 spikes, but 900 are requested. Skipping extraction.\n"
     ]
    },
    {
     "name": "stderr",
     "output_type": "stream",
     "text": [
      "196it [24:32,  7.27s/it]"
     ]
    },
    {
     "name": "stdout",
     "output_type": "stream",
     "text": [
      "Unit 196 only has 104 spikes, but 900 are requested. Skipping extraction.\n"
     ]
    },
    {
     "name": "stderr",
     "output_type": "stream",
     "text": [
      "199it [24:49,  6.69s/it]"
     ]
    },
    {
     "name": "stdout",
     "output_type": "stream",
     "text": [
      "Unit 199 only has 54 spikes, but 900 are requested. Skipping extraction.\n"
     ]
    },
    {
     "name": "stderr",
     "output_type": "stream",
     "text": [
      "209it [26:07,  8.49s/it]"
     ]
    },
    {
     "name": "stdout",
     "output_type": "stream",
     "text": [
      "Unit 209 only has 9 spikes, but 900 are requested. Skipping extraction.\n"
     ]
    },
    {
     "name": "stderr",
     "output_type": "stream",
     "text": [
      "216it [26:54,  7.69s/it]"
     ]
    },
    {
     "name": "stdout",
     "output_type": "stream",
     "text": [
      "Unit 216 only has 506 spikes, but 900 are requested. Skipping extraction.\n"
     ]
    },
    {
     "name": "stderr",
     "output_type": "stream",
     "text": [
      "220it [27:20,  7.26s/it]"
     ]
    },
    {
     "name": "stdout",
     "output_type": "stream",
     "text": [
      "Unit 220 only has 534 spikes, but 900 are requested. Skipping extraction.\n",
      "Unit 221 only has 13 spikes, but 900 are requested. Skipping extraction.\n"
     ]
    },
    {
     "name": "stderr",
     "output_type": "stream",
     "text": [
      "223it [27:26,  4.55s/it]"
     ]
    },
    {
     "name": "stdout",
     "output_type": "stream",
     "text": [
      "Unit 223 only has 330 spikes, but 900 are requested. Skipping extraction.\n"
     ]
    },
    {
     "name": "stderr",
     "output_type": "stream",
     "text": [
      "226it [27:42,  4.99s/it]"
     ]
    },
    {
     "name": "stdout",
     "output_type": "stream",
     "text": [
      "Unit 226 only has 47 spikes, but 900 are requested. Skipping extraction.\n",
      "Unit 227 only has 523 spikes, but 900 are requested. Skipping extraction.\n",
      "Unit 228 only has 92 spikes, but 900 are requested. Skipping extraction.\n"
     ]
    },
    {
     "name": "stderr",
     "output_type": "stream",
     "text": [
      "233it [28:13,  5.55s/it]"
     ]
    },
    {
     "name": "stdout",
     "output_type": "stream",
     "text": [
      "Unit 233 only has 88 spikes, but 900 are requested. Skipping extraction.\n",
      "Unit 234 only has 382 spikes, but 900 are requested. Skipping extraction.\n"
     ]
    },
    {
     "name": "stderr",
     "output_type": "stream",
     "text": [
      "242it [29:10,  7.23s/it]"
     ]
    },
    {
     "name": "stdout",
     "output_type": "stream",
     "text": [
      "Unit 242 only has 20 spikes, but 900 are requested. Skipping extraction.\n"
     ]
    },
    {
     "name": "stderr",
     "output_type": "stream",
     "text": [
      "246it [29:33,  6.58s/it]"
     ]
    },
    {
     "name": "stdout",
     "output_type": "stream",
     "text": [
      "Unit 246 only has 69 spikes, but 900 are requested. Skipping extraction.\n"
     ]
    },
    {
     "name": "stderr",
     "output_type": "stream",
     "text": [
      "248it [29:42,  5.58s/it]"
     ]
    },
    {
     "name": "stdout",
     "output_type": "stream",
     "text": [
      "Unit 248 only has 85 spikes, but 900 are requested. Skipping extraction.\n"
     ]
    },
    {
     "name": "stderr",
     "output_type": "stream",
     "text": [
      "252it [30:02,  5.59s/it]"
     ]
    },
    {
     "name": "stdout",
     "output_type": "stream",
     "text": [
      "Unit 252 only has 802 spikes, but 900 are requested. Skipping extraction.\n",
      "Unit 253 only has 133 spikes, but 900 are requested. Skipping extraction.\n"
     ]
    },
    {
     "name": "stderr",
     "output_type": "stream",
     "text": [
      "256it [30:16,  4.44s/it]"
     ]
    },
    {
     "name": "stdout",
     "output_type": "stream",
     "text": [
      "Unit 256 only has 336 spikes, but 900 are requested. Skipping extraction.\n",
      "Unit 257 only has 32 spikes, but 900 are requested. Skipping extraction.\n"
     ]
    },
    {
     "name": "stderr",
     "output_type": "stream",
     "text": [
      "260it [30:28,  4.01s/it]"
     ]
    },
    {
     "name": "stdout",
     "output_type": "stream",
     "text": [
      "Unit 260 only has 821 spikes, but 900 are requested. Skipping extraction.\n",
      "Unit 261 only has 717 spikes, but 900 are requested. Skipping extraction.\n",
      "Unit 262 only has 1 spikes, but 900 are requested. Skipping extraction.\n",
      "Unit 263 only has 227 spikes, but 900 are requested. Skipping extraction.\n"
     ]
    },
    {
     "name": "stderr",
     "output_type": "stream",
     "text": [
      "265it [30:36,  2.70s/it]"
     ]
    },
    {
     "name": "stdout",
     "output_type": "stream",
     "text": [
      "Unit 265 only has 577 spikes, but 900 are requested. Skipping extraction.\n"
     ]
    },
    {
     "name": "stderr",
     "output_type": "stream",
     "text": [
      "267it [30:44,  2.92s/it]"
     ]
    },
    {
     "name": "stdout",
     "output_type": "stream",
     "text": [
      "Unit 267 only has 93 spikes, but 900 are requested. Skipping extraction.\n",
      "Unit 268 only has 353 spikes, but 900 are requested. Skipping extraction.\n"
     ]
    },
    {
     "name": "stderr",
     "output_type": "stream",
     "text": [
      "271it [31:00,  3.63s/it]"
     ]
    },
    {
     "name": "stdout",
     "output_type": "stream",
     "text": [
      "Unit 271 only has 217 spikes, but 900 are requested. Skipping extraction.\n",
      "Unit 272 only has 419 spikes, but 900 are requested. Skipping extraction.\n"
     ]
    },
    {
     "name": "stderr",
     "output_type": "stream",
     "text": [
      "274it [31:07,  3.19s/it]"
     ]
    },
    {
     "name": "stdout",
     "output_type": "stream",
     "text": [
      "Unit 274 only has 1 spikes, but 900 are requested. Skipping extraction.\n"
     ]
    },
    {
     "name": "stderr",
     "output_type": "stream",
     "text": [
      "280it [31:43,  5.28s/it]"
     ]
    },
    {
     "name": "stdout",
     "output_type": "stream",
     "text": [
      "Unit 280 only has 337 spikes, but 900 are requested. Skipping extraction.\n"
     ]
    },
    {
     "name": "stderr",
     "output_type": "stream",
     "text": [
      "283it [31:56,  4.90s/it]"
     ]
    },
    {
     "name": "stdout",
     "output_type": "stream",
     "text": [
      "Unit 283 only has 170 spikes, but 900 are requested. Skipping extraction.\n"
     ]
    },
    {
     "name": "stderr",
     "output_type": "stream",
     "text": [
      "285it [32:02,  4.10s/it]"
     ]
    },
    {
     "name": "stdout",
     "output_type": "stream",
     "text": [
      "Unit 285 only has 106 spikes, but 900 are requested. Skipping extraction.\n",
      "Unit 286 only has 166 spikes, but 900 are requested. Skipping extraction.\n"
     ]
    },
    {
     "name": "stderr",
     "output_type": "stream",
     "text": [
      "288it [32:08,  3.13s/it]"
     ]
    },
    {
     "name": "stdout",
     "output_type": "stream",
     "text": [
      "Unit 288 only has 601 spikes, but 900 are requested. Skipping extraction.\n"
     ]
    },
    {
     "name": "stderr",
     "output_type": "stream",
     "text": [
      "291it [32:19,  3.47s/it]"
     ]
    },
    {
     "name": "stdout",
     "output_type": "stream",
     "text": [
      "Unit 291 only has 9 spikes, but 900 are requested. Skipping extraction.\n",
      "Unit 292 only has 660 spikes, but 900 are requested. Skipping extraction.\n",
      "Unit 293 only has 1 spikes, but 900 are requested. Skipping extraction.\n"
     ]
    },
    {
     "name": "stderr",
     "output_type": "stream",
     "text": [
      "297it [32:42,  4.22s/it]"
     ]
    },
    {
     "name": "stdout",
     "output_type": "stream",
     "text": [
      "Unit 297 only has 220 spikes, but 900 are requested. Skipping extraction.\n",
      "Unit 298 only has 818 spikes, but 900 are requested. Skipping extraction.\n",
      "Unit 299 only has 61 spikes, but 900 are requested. Skipping extraction.\n"
     ]
    },
    {
     "name": "stderr",
     "output_type": "stream",
     "text": [
      "301it [32:46,  2.68s/it]"
     ]
    },
    {
     "name": "stdout",
     "output_type": "stream",
     "text": [
      "Unit 301 only has 294 spikes, but 900 are requested. Skipping extraction.\n"
     ]
    },
    {
     "name": "stderr",
     "output_type": "stream",
     "text": [
      "306it [33:15,  4.72s/it]"
     ]
    },
    {
     "name": "stdout",
     "output_type": "stream",
     "text": [
      "Unit 306 only has 27 spikes, but 900 are requested. Skipping extraction.\n"
     ]
    },
    {
     "name": "stderr",
     "output_type": "stream",
     "text": [
      "312it [33:55,  6.76s/it]"
     ]
    },
    {
     "name": "stdout",
     "output_type": "stream",
     "text": [
      "Unit 312 only has 445 spikes, but 900 are requested. Skipping extraction.\n"
     ]
    },
    {
     "name": "stderr",
     "output_type": "stream",
     "text": [
      "315it [34:10,  5.97s/it]"
     ]
    },
    {
     "name": "stdout",
     "output_type": "stream",
     "text": [
      "Unit 315 only has 285 spikes, but 900 are requested. Skipping extraction.\n"
     ]
    },
    {
     "name": "stderr",
     "output_type": "stream",
     "text": [
      "317it [34:17,  4.97s/it]"
     ]
    },
    {
     "name": "stdout",
     "output_type": "stream",
     "text": [
      "Unit 317 only has 473 spikes, but 900 are requested. Skipping extraction.\n"
     ]
    },
    {
     "name": "stderr",
     "output_type": "stream",
     "text": [
      "319it [34:23,  4.37s/it]"
     ]
    },
    {
     "name": "stdout",
     "output_type": "stream",
     "text": [
      "Unit 319 only has 894 spikes, but 900 are requested. Skipping extraction.\n"
     ]
    },
    {
     "name": "stderr",
     "output_type": "stream",
     "text": [
      "327it [35:11,  6.12s/it]"
     ]
    },
    {
     "name": "stdout",
     "output_type": "stream",
     "text": [
      "Unit 327 only has 183 spikes, but 900 are requested. Skipping extraction.\n"
     ]
    },
    {
     "name": "stderr",
     "output_type": "stream",
     "text": [
      "338it [36:16,  6.21s/it]"
     ]
    },
    {
     "name": "stdout",
     "output_type": "stream",
     "text": [
      "Unit 338 only has 675 spikes, but 900 are requested. Skipping extraction.\n"
     ]
    },
    {
     "name": "stderr",
     "output_type": "stream",
     "text": [
      "340it [36:23,  4.98s/it]"
     ]
    },
    {
     "name": "stdout",
     "output_type": "stream",
     "text": [
      "Unit 340 only has 352 spikes, but 900 are requested. Skipping extraction.\n"
     ]
    },
    {
     "name": "stderr",
     "output_type": "stream",
     "text": [
      "344it [36:42,  5.00s/it]"
     ]
    },
    {
     "name": "stdout",
     "output_type": "stream",
     "text": [
      "Unit 344 only has 21 spikes, but 900 are requested. Skipping extraction.\n",
      "Unit 345 only has 4 spikes, but 900 are requested. Skipping extraction.\n",
      "Unit 346 only has 53 spikes, but 900 are requested. Skipping extraction.\n"
     ]
    },
    {
     "name": "stderr",
     "output_type": "stream",
     "text": [
      "348it [36:47,  2.84s/it]"
     ]
    },
    {
     "name": "stdout",
     "output_type": "stream",
     "text": [
      "Unit 348 only has 114 spikes, but 900 are requested. Skipping extraction.\n"
     ]
    },
    {
     "name": "stderr",
     "output_type": "stream",
     "text": [
      "350it [36:55,  3.11s/it]"
     ]
    },
    {
     "name": "stdout",
     "output_type": "stream",
     "text": [
      "Unit 350 only has 4 spikes, but 900 are requested. Skipping extraction.\n"
     ]
    },
    {
     "name": "stderr",
     "output_type": "stream",
     "text": [
      "352it [37:02,  3.26s/it]"
     ]
    },
    {
     "name": "stdout",
     "output_type": "stream",
     "text": [
      "Unit 352 only has 47 spikes, but 900 are requested. Skipping extraction.\n"
     ]
    },
    {
     "name": "stderr",
     "output_type": "stream",
     "text": [
      "354it [37:09,  3.34s/it]"
     ]
    },
    {
     "name": "stdout",
     "output_type": "stream",
     "text": [
      "Unit 354 only has 3 spikes, but 900 are requested. Skipping extraction.\n"
     ]
    },
    {
     "name": "stderr",
     "output_type": "stream",
     "text": [
      "361it [37:51,  5.85s/it]"
     ]
    },
    {
     "name": "stdout",
     "output_type": "stream",
     "text": [
      "Unit 361 only has 344 spikes, but 900 are requested. Skipping extraction.\n"
     ]
    },
    {
     "name": "stderr",
     "output_type": "stream",
     "text": [
      "363it [37:57,  4.66s/it]"
     ]
    },
    {
     "name": "stdout",
     "output_type": "stream",
     "text": [
      "Unit 363 only has 751 spikes, but 900 are requested. Skipping extraction.\n",
      "Unit 364 only has 18 spikes, but 900 are requested. Skipping extraction.\n",
      "Unit 365 only has 599 spikes, but 900 are requested. Skipping extraction.\n"
     ]
    },
    {
     "name": "stderr",
     "output_type": "stream",
     "text": [
      "369it [38:19,  4.50s/it]"
     ]
    },
    {
     "name": "stdout",
     "output_type": "stream",
     "text": [
      "Unit 369 only has 29 spikes, but 900 are requested. Skipping extraction.\n",
      "Unit 370 only has 1 spikes, but 900 are requested. Skipping extraction.\n"
     ]
    },
    {
     "name": "stderr",
     "output_type": "stream",
     "text": [
      "374it [38:37,  4.22s/it]"
     ]
    },
    {
     "name": "stdout",
     "output_type": "stream",
     "text": [
      "Unit 374 only has 3 spikes, but 900 are requested. Skipping extraction.\n",
      "Unit 375 only has 123 spikes, but 900 are requested. Skipping extraction.\n"
     ]
    },
    {
     "name": "stderr",
     "output_type": "stream",
     "text": [
      "380it [39:02,  4.74s/it]"
     ]
    },
    {
     "name": "stdout",
     "output_type": "stream",
     "text": [
      "Unit 380 only has 81 spikes, but 900 are requested. Skipping extraction.\n",
      "Unit 381 only has 3 spikes, but 900 are requested. Skipping extraction.\n",
      "Unit 382 only has 617 spikes, but 900 are requested. Skipping extraction.\n",
      "Unit 383 only has 11 spikes, but 900 are requested. Skipping extraction.\n"
     ]
    },
    {
     "name": "stderr",
     "output_type": "stream",
     "text": [
      "385it [39:08,  2.58s/it]"
     ]
    },
    {
     "name": "stdout",
     "output_type": "stream",
     "text": [
      "Unit 385 only has 757 spikes, but 900 are requested. Skipping extraction.\n"
     ]
    },
    {
     "name": "stderr",
     "output_type": "stream",
     "text": [
      "387it [39:15,  2.77s/it]"
     ]
    },
    {
     "name": "stdout",
     "output_type": "stream",
     "text": [
      "Unit 387 only has 120 spikes, but 900 are requested. Skipping extraction.\n",
      "Unit 388 only has 51 spikes, but 900 are requested. Skipping extraction.\n"
     ]
    },
    {
     "name": "stderr",
     "output_type": "stream",
     "text": [
      "390it [39:19,  2.23s/it]"
     ]
    },
    {
     "name": "stdout",
     "output_type": "stream",
     "text": [
      "Unit 390 only has 3 spikes, but 900 are requested. Skipping extraction.\n",
      "Unit 391 only has 30 spikes, but 900 are requested. Skipping extraction.\n",
      "Unit 392 only has 563 spikes, but 900 are requested. Skipping extraction.\n"
     ]
    },
    {
     "name": "stderr",
     "output_type": "stream",
     "text": [
      "394it [39:25,  1.90s/it]"
     ]
    },
    {
     "name": "stdout",
     "output_type": "stream",
     "text": [
      "Unit 394 only has 120 spikes, but 900 are requested. Skipping extraction.\n",
      "Unit 395 only has 184 spikes, but 900 are requested. Skipping extraction.\n"
     ]
    },
    {
     "name": "stderr",
     "output_type": "stream",
     "text": [
      "397it [39:31,  2.00s/it]"
     ]
    },
    {
     "name": "stdout",
     "output_type": "stream",
     "text": [
      "Unit 397 only has 22 spikes, but 900 are requested. Skipping extraction.\n"
     ]
    },
    {
     "name": "stderr",
     "output_type": "stream",
     "text": [
      "400it [39:38,  5.95s/it]\n"
     ]
    },
    {
     "name": "stdout",
     "output_type": "stream",
     "text": [
      "Unit 399 only has 1 spikes, but 900 are requested. Skipping extraction.\n",
      "saving no split results\n"
     ]
    }
   ],
   "source": [
    "# session 1 units to get data from and dataset save path\n",
    "selected_units_inference = np.arange(400)\n",
    "inference_ds_path = save_folder_sess1 + '/ds_inference'\n",
    "\n",
    "# make a dataset for inference (testing)\n",
    "# will create a folder with the spike, probe channel number, and corresponding channel location datasets in the train, val, test splits\n",
    "# optionally also saves out spatial and temporal noise covariance matrices\n",
    "inference = True\n",
    "test_num = 500\n",
    "save_covs = True\n",
    "num_chans_extract = 21\n",
    "normalize = False\n",
    "shift = False\n",
    "\n",
    "test_set, test_geom_locs, test_max_chan = make_dataset(rec=rec1, \n",
    "                                                       spike_index=spike_idx_sess1,\n",
    "                                                       geom=geom_sess1, \n",
    "                                                       save_path=inference_ds_path, \n",
    "                                                       chan_index=chan_idx_sess1, \n",
    "                                                       templates=templates_sess1, \n",
    "                                                       unit_ids=selected_units_inference, \n",
    "                                                       train_num=train_num, \n",
    "                                                       val_num=val_num, \n",
    "                                                       test_num=test_num, \n",
    "                                                       save_covs=save_covs, \n",
    "                                                       num_chans_extract=num_chans_extract, \n",
    "                                                       normalize=normalize, \n",
    "                                                       shift=shift, \n",
    "                                                       inference=inference,\n",
    "                                                       save_fewer=save_fewer)"
   ]
  },
  {
   "cell_type": "code",
   "execution_count": null,
   "metadata": {},
   "outputs": [],
   "source": []
  }
 ],
 "metadata": {
  "kernelspec": {
   "display_name": "Python [conda env:ceed]",
   "language": "python",
   "name": "conda-env-ceed-py"
  },
  "language_info": {
   "codemirror_mode": {
    "name": "ipython",
    "version": 3
   },
   "file_extension": ".py",
   "mimetype": "text/x-python",
   "name": "python",
   "nbconvert_exporter": "python",
   "pygments_lexer": "ipython3",
   "version": "3.10.13"
  }
 },
 "nbformat": 4,
 "nbformat_minor": 4
}
