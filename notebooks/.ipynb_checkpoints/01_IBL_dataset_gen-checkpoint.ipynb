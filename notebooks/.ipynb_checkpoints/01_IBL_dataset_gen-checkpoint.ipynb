{
 "cells": [
  {
   "cell_type": "code",
   "execution_count": 1,
   "metadata": {},
   "outputs": [],
   "source": [
    "%load_ext autoreload\n",
    "%autoreload 2"
   ]
  },
  {
   "cell_type": "markdown",
   "metadata": {
    "tags": []
   },
   "source": [
    "### Download and destripe AP data from an IBL session by its PID."
   ]
  },
  {
   "cell_type": "code",
   "execution_count": 2,
   "metadata": {
    "tags": []
   },
   "outputs": [
    {
     "name": "stderr",
     "output_type": "stream",
     "text": [
      "2023-12-01 00:33:39.414516: I external/local_tsl/tsl/cuda/cudart_stub.cc:31] Could not find cuda drivers on your machine, GPU will not be used.\n",
      "2023-12-01 00:33:39.448611: E external/local_xla/xla/stream_executor/cuda/cuda_dnn.cc:9261] Unable to register cuDNN factory: Attempting to register factory for plugin cuDNN when one has already been registered\n",
      "2023-12-01 00:33:39.448652: E external/local_xla/xla/stream_executor/cuda/cuda_fft.cc:607] Unable to register cuFFT factory: Attempting to register factory for plugin cuFFT when one has already been registered\n",
      "2023-12-01 00:33:39.449362: E external/local_xla/xla/stream_executor/cuda/cuda_blas.cc:1515] Unable to register cuBLAS factory: Attempting to register factory for plugin cuBLAS when one has already been registered\n",
      "2023-12-01 00:33:39.454265: I external/local_tsl/tsl/cuda/cudart_stub.cc:31] Could not find cuda drivers on your machine, GPU will not be used.\n",
      "2023-12-01 00:33:39.454735: I tensorflow/core/platform/cpu_feature_guard.cc:182] This TensorFlow binary is optimized to use available CPU instructions in performance-critical operations.\n",
      "To enable the following instructions: AVX2 FMA, in other operations, rebuild TensorFlow with the appropriate compiler flags.\n",
      "2023-12-01 00:33:40.260585: W tensorflow/compiler/tf2tensorrt/utils/py_utils.cc:38] TF-TRT Warning: Could not find TensorRT\n",
      "/home/noah/miniforge3/envs/ceed/lib/python3.10/site-packages/ibllib/io/raw_data_loaders.py:19: DeprecationWarning: pkg_resources is deprecated as an API. See https://setuptools.pypa.io/en/latest/pkg_resources.html\n",
      "  from pkg_resources import parse_version\n",
      "/home/noah/miniforge3/envs/ceed/lib/python3.10/site-packages/ibllib/atlas/__init__.py:202: DeprecationWarning: ibllib.atlas is deprecated. Please install iblatlas using \"pip install iblatlas\" and use this module instead\n",
      "  warnings.warn('ibllib.atlas is deprecated. Please install iblatlas using \"pip install iblatlas\" and use '\n"
     ]
    }
   ],
   "source": [
    "from analysis.data_gen_utils import download_IBL, extract_IBL, make_dataset, combine_datasets, all_units_except\n",
    "import numpy as np\n",
    "import matplotlib.pyplot as plt\n",
    "import os"
   ]
  },
  {
   "cell_type": "code",
   "execution_count": 4,
   "metadata": {
    "tags": []
   },
   "outputs": [
    {
     "name": "stdout",
     "output_type": "stream",
     "text": [
      "INFO:one.api:cache over 92 day(s) old\n",
      "INFO:one.api:No newer cache available\n",
      "Downloading: /mnt/data/noah/IBL_data_CEED/cache/danlab/Subjects/DY_016/2020-09-12/001/raw_ephys_data/probe00/chunk_000000_to_000999pOymoELgyv/_spikeglx_ephysData_g0_t0.imec0.ap.8cb6749e-846b-4c1e-94da-2d026c410921.cbin Bytes: 9154205766\n"
     ]
    },
    {
     "name": "stderr",
     "output_type": "stream",
     "text": [
      "100%|█████████████| 8730.130926132202/8730.130926132202 [11:59<00:00, 12.13it/s]\n"
     ]
    },
    {
     "name": "stdout",
     "output_type": "stream",
     "text": [
      "Old dir:  ['_spikeglx_ephysData_g0_t0.imec0.ap.stream.cbin', '_spikeglx_ephysData_g0_t0.imec0.ap.stream.meta', '_spikeglx_ephysData_g0_t0.imec0.ap.stream.ch']\n",
      "converting files to drop \"stream\" from path\n",
      "New dir:  ['_spikeglx_ephysData_g0_t0.imec0.ap.ch', '_spikeglx_ephysData_g0_t0.imec0.ap.stream.cbin', '_spikeglx_ephysData_g0_t0.imec0.ap.meta', '_spikeglx_ephysData_g0_t0.imec0.ap.cbin', '_spikeglx_ephysData_g0_t0.imec0.ap.stream.meta', '_spikeglx_ephysData_g0_t0.imec0.ap.stream.ch']\n",
      "Folder '/mnt/data/noah/IBL_data_CEED/dab512bd-a02d-4c1f-8dbc-9155a163efc0' overwritten.\n",
      "tdir:  /mnt/data/noah/IBL_data_CEED/cache/danlab/Subjects/DY_016/2020-09-12/001/raw_ephys_data/probe00/chunk_000000_to_000999pOymoELgyv\n",
      "pth:  [PosixPath('/mnt/data/noah/IBL_data_CEED/cache/danlab/Subjects/DY_016/2020-09-12/001/raw_ephys_data/probe00/chunk_000000_to_000999pOymoELgyv/_spikeglx_ephysData_g0_t0.imec0.ap.stream.cbin'), PosixPath('/mnt/data/noah/IBL_data_CEED/cache/danlab/Subjects/DY_016/2020-09-12/001/raw_ephys_data/probe00/chunk_000000_to_000999pOymoELgyv/_spikeglx_ephysData_g0_t0.imec0.ap.cbin')]\n",
      "preprocessing (mimic IBL's pipeline with spikeinterface)\n",
      "hp\n",
      "badchans\n",
      "write_binary_recording with n_jobs = 5 and chunk_size = 30000\n"
     ]
    },
    {
     "data": {
      "application/vnd.jupyter.widget-view+json": {
       "model_id": "929cf3f7667446e1a09c0d060490a696",
       "version_major": 2,
       "version_minor": 0
      },
      "text/plain": [
       "write_binary_recording:   0%|          | 0/1000 [00:00<?, ?it/s]"
      ]
     },
     "metadata": {},
     "output_type": "display_data"
    },
    {
     "name": "stdout",
     "output_type": "stream",
     "text": [
      "done preprocessing\n",
      "INFO:one.api:cache over 92 day(s) old\n",
      "INFO:one.api:No newer cache available\n",
      "Downloading: /mnt/data/noah/IBL_data_CEED/cache/danlab/Subjects/DY_009/2020-02-27/001/raw_ephys_data/probe00/chunk_000000_to_000999yEpzDrkimO/_spikeglx_ephysData_g0_t0.imec0.ap.628241b1-657d-4854-8dab-c7af86553db4.cbin Bytes: 8890747295\n"
     ]
    },
    {
     "name": "stderr",
     "output_type": "stream",
     "text": [
      "100%|█████████████| 8478.877348899841/8478.877348899841 [13:27<00:00, 10.50it/s]\n"
     ]
    },
    {
     "name": "stdout",
     "output_type": "stream",
     "text": [
      "Old dir:  ['_spikeglx_ephysData_g0_t0.imec0.ap.stream.cbin', '_spikeglx_ephysData_g0_t0.imec0.ap.stream.meta', '_spikeglx_ephysData_g0_t0.imec0.ap.stream.ch']\n",
      "converting files to drop \"stream\" from path\n",
      "New dir:  ['_spikeglx_ephysData_g0_t0.imec0.ap.ch', '_spikeglx_ephysData_g0_t0.imec0.ap.stream.cbin', '_spikeglx_ephysData_g0_t0.imec0.ap.meta', '_spikeglx_ephysData_g0_t0.imec0.ap.cbin', '_spikeglx_ephysData_g0_t0.imec0.ap.stream.meta', '_spikeglx_ephysData_g0_t0.imec0.ap.stream.ch']\n",
      "tdir:  /mnt/data/noah/IBL_data_CEED/cache/danlab/Subjects/DY_009/2020-02-27/001/raw_ephys_data/probe00/chunk_000000_to_000999yEpzDrkimO\n",
      "pth:  [PosixPath('/mnt/data/noah/IBL_data_CEED/cache/danlab/Subjects/DY_009/2020-02-27/001/raw_ephys_data/probe00/chunk_000000_to_000999yEpzDrkimO/_spikeglx_ephysData_g0_t0.imec0.ap.stream.cbin'), PosixPath('/mnt/data/noah/IBL_data_CEED/cache/danlab/Subjects/DY_009/2020-02-27/001/raw_ephys_data/probe00/chunk_000000_to_000999yEpzDrkimO/_spikeglx_ephysData_g0_t0.imec0.ap.cbin')]\n",
      "preprocessing (mimic IBL's pipeline with spikeinterface)\n",
      "hp\n",
      "badchans\n",
      "write_binary_recording with n_jobs = 5 and chunk_size = 30000\n"
     ]
    },
    {
     "data": {
      "application/vnd.jupyter.widget-view+json": {
       "model_id": "4c307cd4a4e4451a8514bc01f147c55b",
       "version_major": 2,
       "version_minor": 0
      },
      "text/plain": [
       "write_binary_recording:   0%|          | 0/1000 [00:00<?, ?it/s]"
      ]
     },
     "metadata": {},
     "output_type": "display_data"
    },
    {
     "name": "stdout",
     "output_type": "stream",
     "text": [
      "done preprocessing\n"
     ]
    }
   ],
   "source": [
    "pid_sess1 = r'dab512bd-a02d-4c1f-8dbc-9155a163efc0'\n",
    "pid_sess2 = r'febb430e-2d50-4f83-87a0-b5ffbb9a4943'\n",
    "\n",
    "save_dir = r'/mnt/data/noah/IBL_data_CEED/'\n",
    "\n",
    "cache_folder = save_dir + r'cache'\n",
    "\n",
    "save_folder_sess1 = save_dir + pid_sess1\n",
    "save_folder_sess2 = save_dir + pid_sess2\n",
    "\n",
    "t_window = [0, 1000] #in seconds\n",
    "overwrite = False\n",
    "rec1, meta_file_sess1 = download_IBL(pid=pid_sess1, cache_folder = cache_folder, t_window=t_window, save_folder=save_folder_sess1, overwrite=overwrite)\n",
    "rec2, meta_file_sess2 = download_IBL(pid=pid_sess2, cache_folder = cache_folder, t_window=t_window, save_folder=save_folder_sess2, overwrite=overwrite)"
   ]
  },
  {
   "cell_type": "code",
   "execution_count": 5,
   "metadata": {
    "tags": []
   },
   "outputs": [
    {
     "name": "stdout",
     "output_type": "stream",
     "text": [
      "INFO:one.api:cache over 92 day(s) old\n",
      "INFO:one.api:No newer cache available\n"
     ]
    },
    {
     "name": "stderr",
     "output_type": "stream",
     "text": [
      "/home/noah/miniforge3/envs/ceed/lib/python3.10/site-packages/ibllib/atlas/atlas.py:13: DeprecationWarning: ibllib.atlas.atlas.AllenAtlas is deprecated. Use iblatlas.atlas.AllenAtlas instead\n",
      "  warnings.warn(warning_text, DeprecationWarning)\n"
     ]
    },
    {
     "name": "stdout",
     "output_type": "stream",
     "text": [
      "8 inactive units\n"
     ]
    },
    {
     "data": {
      "application/vnd.jupyter.widget-view+json": {
       "model_id": "14b2495d9f7642959bace76f80afd9e1",
       "version_major": 2,
       "version_minor": 0
      },
      "text/plain": [
       "Align and get templates:   0%|          | 0/507 [00:00<?, ?it/s]"
      ]
     },
     "metadata": {},
     "output_type": "display_data"
    },
    {
     "data": {
      "application/vnd.jupyter.widget-view+json": {
       "model_id": "7d358def0c7645e7a797f8b6d92952cc",
       "version_major": 2,
       "version_minor": 0
      },
      "text/plain": [
       "Cleaned templates:   0%|          | 0/507 [00:00<?, ?it/s]"
      ]
     },
     "metadata": {},
     "output_type": "display_data"
    },
    {
     "name": "stdout",
     "output_type": "stream",
     "text": [
      "INFO:one.api:cache over 92 day(s) old\n",
      "INFO:one.api:No newer cache available\n"
     ]
    },
    {
     "name": "stderr",
     "output_type": "stream",
     "text": [
      "/home/noah/miniforge3/envs/ceed/lib/python3.10/site-packages/ibllib/atlas/atlas.py:13: DeprecationWarning: ibllib.atlas.atlas.AllenAtlas is deprecated. Use iblatlas.atlas.AllenAtlas instead\n",
      "  warnings.warn(warning_text, DeprecationWarning)\n"
     ]
    },
    {
     "name": "stdout",
     "output_type": "stream",
     "text": [
      "9 inactive units\n"
     ]
    },
    {
     "data": {
      "application/vnd.jupyter.widget-view+json": {
       "model_id": "c74b495f51494ce8bcba46b395365d55",
       "version_major": 2,
       "version_minor": 0
      },
      "text/plain": [
       "Align and get templates:   0%|          | 0/457 [00:00<?, ?it/s]"
      ]
     },
     "metadata": {},
     "output_type": "display_data"
    },
    {
     "data": {
      "application/vnd.jupyter.widget-view+json": {
       "model_id": "6b23accf90554878ba61448e4e8f7a11",
       "version_major": 2,
       "version_minor": 0
      },
      "text/plain": [
       "Cleaned templates:   0%|          | 0/457 [00:00<?, ?it/s]"
      ]
     },
     "metadata": {},
     "output_type": "display_data"
    },
    {
     "ename": "FileExistsError",
     "evalue": "[Errno 17] File exists: '/mnt/data/noah/IBL_data_CEED/dataset/'",
     "output_type": "error",
     "traceback": [
      "\u001b[0;31m---------------------------------------------------------------------------\u001b[0m",
      "\u001b[0;31mFileExistsError\u001b[0m                           Traceback (most recent call last)",
      "Cell \u001b[0;32mIn[5], line 20\u001b[0m\n\u001b[1;32m     10\u001b[0m spike_idx_sess1, geom_sess1, chan_idx_sess1, templates_sess1 \u001b[38;5;241m=\u001b[39m extract_IBL(rec\u001b[38;5;241m=\u001b[39mrec1, \n\u001b[1;32m     11\u001b[0m                                                                            meta_fp\u001b[38;5;241m=\u001b[39mmeta_file_sess1, \n\u001b[1;32m     12\u001b[0m                                                                            pid\u001b[38;5;241m=\u001b[39mpid_sess1, \n\u001b[1;32m     13\u001b[0m                                                                            t_window\u001b[38;5;241m=\u001b[39mt_window, \n\u001b[1;32m     14\u001b[0m                                                                            use_labels\u001b[38;5;241m=\u001b[39m\u001b[38;5;28;01mTrue\u001b[39;00m)\n\u001b[1;32m     15\u001b[0m spike_idx_sess2, geom_sess2, chan_idx_sess2, templates_sess2 \u001b[38;5;241m=\u001b[39m extract_IBL(rec\u001b[38;5;241m=\u001b[39mrec2, \n\u001b[1;32m     16\u001b[0m                                                                            meta_fp\u001b[38;5;241m=\u001b[39mmeta_file_sess2, \n\u001b[1;32m     17\u001b[0m                                                                            pid\u001b[38;5;241m=\u001b[39mpid_sess2, \n\u001b[1;32m     18\u001b[0m                                                                            t_window\u001b[38;5;241m=\u001b[39mt_window,\n\u001b[1;32m     19\u001b[0m                                                                            use_labels\u001b[38;5;241m=\u001b[39m\u001b[38;5;28;01mTrue\u001b[39;00m)\n\u001b[0;32m---> 20\u001b[0m \u001b[43mos\u001b[49m\u001b[38;5;241;43m.\u001b[39;49m\u001b[43mmkdir\u001b[49m\u001b[43m(\u001b[49m\u001b[43msave_dir\u001b[49m\u001b[43m \u001b[49m\u001b[38;5;241;43m+\u001b[39;49m\u001b[43m \u001b[49m\u001b[38;5;124;43m'\u001b[39;49m\u001b[38;5;124;43mdataset/\u001b[39;49m\u001b[38;5;124;43m'\u001b[39;49m\u001b[43m)\u001b[49m\n\u001b[1;32m     21\u001b[0m np\u001b[38;5;241m.\u001b[39msave(save_dir \u001b[38;5;241m+\u001b[39m \u001b[38;5;124m'\u001b[39m\u001b[38;5;124mdataset/\u001b[39m\u001b[38;5;124m'\u001b[39m \u001b[38;5;241m+\u001b[39m \u001b[38;5;124m'\u001b[39m\u001b[38;5;124mspike_idx_sess1.npy\u001b[39m\u001b[38;5;124m'\u001b[39m, spike_idx_sess1)\n\u001b[1;32m     22\u001b[0m np\u001b[38;5;241m.\u001b[39msave(save_dir \u001b[38;5;241m+\u001b[39m \u001b[38;5;124m'\u001b[39m\u001b[38;5;124mdataset/\u001b[39m\u001b[38;5;124m'\u001b[39m \u001b[38;5;241m+\u001b[39m \u001b[38;5;124m'\u001b[39m\u001b[38;5;124mgeom_sess1.npy\u001b[39m\u001b[38;5;124m'\u001b[39m, geom_sess1)\n",
      "\u001b[0;31mFileExistsError\u001b[0m: [Errno 17] File exists: '/mnt/data/noah/IBL_data_CEED/dataset/'"
     ]
    }
   ],
   "source": [
    "'''extract the all data needed to make CEED dataset\n",
    "spike_idx_sess: spike_times, channels, neurons (if use_labels=True)\n",
    "geom_sess: channels x 2\n",
    "chan_idx_sess: waveform extraction channels for each channel\n",
    "templates_sess: templates across all channels for all neurons\n",
    "'''\n",
    "recompute = True\n",
    "\n",
    "if recompute:\n",
    "    spike_idx_sess1, geom_sess1, chan_idx_sess1, templates_sess1 = extract_IBL(rec=rec1, \n",
    "                                                                               meta_fp=meta_file_sess1, \n",
    "                                                                               pid=pid_sess1, \n",
    "                                                                               t_window=t_window, \n",
    "                                                                               use_labels=True)\n",
    "    spike_idx_sess2, geom_sess2, chan_idx_sess2, templates_sess2 = extract_IBL(rec=rec2, \n",
    "                                                                               meta_fp=meta_file_sess2, \n",
    "                                                                               pid=pid_sess2, \n",
    "                                                                               t_window=t_window,\n",
    "                                                                               use_labels=True)\n",
    "    \n",
    "    if os.path.isdir(save_dir + 'dataset/') == False:\n",
    "        os.mkdir(save_dir + 'dataset/')\n",
    "        \n",
    "    np.save(save_dir + 'dataset/' + 'spike_idx_sess1.npy', spike_idx_sess1)\n",
    "    np.save(save_dir + 'dataset/' + 'geom_sess1.npy', geom_sess1)\n",
    "    np.save(save_dir + 'dataset/' + 'chan_idx_sess1.npy', chan_idx_sess1)\n",
    "    np.save(save_dir + 'dataset/' + 'templates_sess1.npy', templates_sess1)\n",
    "    np.save(save_dir + 'dataset/' + 'spike_idx_sess2.npy', spike_idx_sess2)\n",
    "    np.save(save_dir + 'dataset/' + 'geom_sess2.npy', geom_sess2)\n",
    "    np.save(save_dir + 'dataset/' + 'chan_idx_sess2.npy', chan_idx_sess2)\n",
    "    np.save(save_dir + 'dataset/' + 'templates_sess2.npy', templates_sess2)\n",
    "else:\n",
    "    spike_idx_sess1 = np.load(save_dir + 'dataset/' + 'spike_idx_sess1.npy')\n",
    "    geom_sess1 = np.load(save_dir + 'dataset/' + 'geom_sess1.npy')\n",
    "    chan_idx_sess1 = np.load(save_dir + 'dataset/' + 'chan_idx_sess1.npy')\n",
    "    templates_sess1 = np.load(save_dir + 'dataset/' + 'templates_sess1.npy')\n",
    "    spike_idx_sess2 = np.load(save_dir + 'dataset/' + 'spike_idx_sess2.npy')\n",
    "    geom_sess2 = np.load(save_dir + 'dataset/' + 'geom_sess2.npy')\n",
    "    chan_idx_sess2 = np.load(save_dir + 'dataset/' + 'chan_idx_sess2.npy')\n",
    "    templates_sess2 = np.load(save_dir + 'dataset/' + 'templates_sess2.npy')"
   ]
  },
  {
   "cell_type": "code",
   "execution_count": 6,
   "metadata": {},
   "outputs": [],
   "source": [
    "    # os.mkdir(save_dir + 'dataset/')\n",
    "    np.save(save_dir + 'dataset/' + 'spike_idx_sess1.npy', spike_idx_sess1)\n",
    "    np.save(save_dir + 'dataset/' + 'geom_sess1.npy', geom_sess1)\n",
    "    np.save(save_dir + 'dataset/' + 'chan_idx_sess1.npy', chan_idx_sess1)\n",
    "    np.save(save_dir + 'dataset/' + 'templates_sess1.npy', templates_sess1)\n",
    "    np.save(save_dir + 'dataset/' + 'spike_idx_sess2.npy', spike_idx_sess2)\n",
    "    np.save(save_dir + 'dataset/' + 'geom_sess2.npy', geom_sess2)\n",
    "    np.save(save_dir + 'dataset/' + 'chan_idx_sess2.npy', chan_idx_sess2)\n",
    "    np.save(save_dir + 'dataset/' + 'templates_sess2.npy', templates_sess2)\n"
   ]
  },
  {
   "cell_type": "markdown",
   "metadata": {},
   "source": [
    "### Look at Unit Template"
   ]
  },
  {
   "cell_type": "code",
   "execution_count": null,
   "metadata": {},
   "outputs": [],
   "source": [
    "#plot a denoised template on the 40 extracted channels (not all 40 used to train CEED).\n",
    "template_id = 454\n",
    "template = templates_sess1[template_id]\n",
    "max_channel = np.argmax(np.ptp(template,0))\n",
    "plt.plot(templates_sess1[template_id][:,chan_idx_sess1[max_channel]]);"
   ]
  },
  {
   "cell_type": "markdown",
   "metadata": {},
   "source": [
    "### Create a couple training datasets"
   ]
  },
  {
   "cell_type": "code",
   "execution_count": null,
   "metadata": {},
   "outputs": [],
   "source": [
    "# session 1 units to get data from and dataset save path\n",
    "# can look at templates of neural units to gauge whether to extract spikes from them for a CEED dataset\n",
    "selected_units_sess1 = np.arange(400)\n",
    "dataset_folder_sess1 = save_folder_sess1 + '/ds'\n",
    "\n",
    "# make a dataset for training\n",
    "# will create a folder with the spike, probe channel number, and corresponding channel location datasets in the train, val, test splits\n",
    "# optionally also saves out spatial and temporal noise covariance matrices\n",
    "inference = False\n",
    "train_num = 400\n",
    "val_num = 0\n",
    "test_num = 100\n",
    "save_covs = True\n",
    "num_chans_extract = 21\n",
    "normalize = False #True for cell-type dataset\n",
    "shift = False\n",
    "save_fewer = False\n",
    "train_set1, val_set1, test_set1, train_geom_locs1, val_geom_locs1, \\\n",
    "test_geom_locs1, train_max_chan1, val_max_chan1, test_max_chan1 = make_dataset(rec=rec1, \n",
    "                                                                               spike_index=spike_idx_sess1,\n",
    "                                                                               geom=geom_sess1, \n",
    "                                                                               save_path=dataset_folder_sess1, \n",
    "                                                                               chan_index=chan_idx_sess1, \n",
    "                                                                               templates=templates_sess1, \n",
    "                                                                               unit_ids=selected_units_sess1, \n",
    "                                                                               train_num=train_num, \n",
    "                                                                               val_num=val_num, \n",
    "                                                                               test_num=test_num, \n",
    "                                                                               save_covs=save_covs, \n",
    "                                                                               num_chans_extract=num_chans_extract, \n",
    "                                                                               normalize=normalize, \n",
    "                                                                               shift=shift, \n",
    "                                                                               inference=inference,\n",
    "                                                                               save_fewer=save_fewer)"
   ]
  },
  {
   "cell_type": "code",
   "execution_count": null,
   "metadata": {},
   "outputs": [],
   "source": [
    "# suppose for session 2 we want a larger dataset comprised of most of the units in the recording, \n",
    "# but excluding some units that might have poor spikes in the recording or which kilosort did a poor job of recognizing. \n",
    "# then we can save out all of the units in the recording to the dataset and plot some spikes from the units (with plot=True)\n",
    "# and then we can go through and look at which units look like they have good, useful spikes for training. for this we'll\n",
    "# save out all units at first by specifying no unit ids.\n",
    "selected_units_sess2 = None\n",
    "dataset_folder_sess2 = save_folder_sess2 + '/ds'\n",
    "\n",
    "# make a dataset for training\n",
    "# will create a folder with the spike, probe channel number, and corresponding channel location datasets in the train, val, test splits\n",
    "# optionally also saves out spatial and temporal noise covariance matrices\n",
    "inference = False\n",
    "train_num = 400\n",
    "val_num = 0\n",
    "test_num = 100\n",
    "save_covs = True\n",
    "num_chans_extract = 21\n",
    "normalize = False\n",
    "shift = False\n",
    "\n",
    "train_set2, val_set2, test_set2, train_geom_locs, val_geom_locs2, \\\n",
    "test_geom_locs2, train_max_chan2, val_max_chan2, test_max_chan2 = make_dataset(rec=rec2, \n",
    "                                                                               spike_index=spike_idx_sess2,\n",
    "                                                                               geom=geom_sess2, \n",
    "                                                                               save_path=dataset_folder_sess2, \n",
    "                                                                               chan_index=chan_idx_sess2, \n",
    "                                                                               templates=templates_sess2, \n",
    "                                                                               unit_ids=selected_units_sess2, \n",
    "                                                                               train_num=train_num, \n",
    "                                                                               val_num=val_num, \n",
    "                                                                               test_num=test_num, \n",
    "                                                                               save_covs=save_covs, \n",
    "                                                                               num_chans_extract=num_chans_extract, \n",
    "                                                                               plot=True,\n",
    "                                                                               normalize=normalize, \n",
    "                                                                               shift=shift, \n",
    "                                                                               inference=inference,\n",
    "                                                                               save_fewer=save_fewer)"
   ]
  },
  {
   "cell_type": "code",
   "execution_count": null,
   "metadata": {},
   "outputs": [],
   "source": [
    "# after looking at all of the plotted units in session 2's dataset folder (under wf_plots) we decide to exclude certain units.\n",
    "# we can also decide to make selected_units_sess2 out of the units we decide are good rather than exclude units \n",
    "# if we find too many bad units (we would just define it as a list of units in this latter case).\n",
    "bad_units_sess2 = [130, 250, 340]\n",
    "selected_units_sess2 = all_units_except(spike_index=spike_idx_sess2, exclude_units=bad_units_sess2)\n",
    "\n",
    "# now we can create the same dataset, but overwrite the previous files with the new ones that exclude the unit ids we don't want\n",
    "train_set2, val_set2, test_set2, train_geom_locs, val_geom_locs2, \\\n",
    "test_geom_locs2, train_max_chan2, val_max_chan2, test_max_chan2 = make_dataset(rec=rec2, \n",
    "                                                                               spike_index=spike_idx_sess2,\n",
    "                                                                               geom=geom_sess2, \n",
    "                                                                               save_path=dataset_folder_sess2, \n",
    "                                                                               chan_index=chan_idx_sess2, \n",
    "                                                                               templates=templates_sess2, \n",
    "                                                                               unit_ids=selected_units_sess2, \n",
    "                                                                               train_num=train_num, \n",
    "                                                                               val_num=val_num, \n",
    "                                                                               test_num=test_num, \n",
    "                                                                               save_covs=save_covs, \n",
    "                                                                               num_chans_extract=num_chans_extract, \n",
    "                                                                               plot=False,\n",
    "                                                                               normalize=normalize, \n",
    "                                                                               shift=shift, \n",
    "                                                                               inference=inference,\n",
    "                                                                               save_fewer=save_fewer)"
   ]
  },
  {
   "cell_type": "markdown",
   "metadata": {},
   "source": [
    "### Combine the datasets"
   ]
  },
  {
   "cell_type": "code",
   "execution_count": null,
   "metadata": {},
   "outputs": [],
   "source": [
    "combined_ds_path = '/media/cat/data/IBL_data_CEED/combined'\n",
    "\n",
    "# combine the two training datasets into a larger one for more unit diversity\n",
    "dataset_list = [dataset_folder_sess1, dataset_folder_sess2]\n",
    "combine_datasets(dataset_list, combined_ds_path)"
   ]
  },
  {
   "cell_type": "markdown",
   "metadata": {},
   "source": [
    "### Make an inference dataset"
   ]
  },
  {
   "cell_type": "code",
   "execution_count": null,
   "metadata": {},
   "outputs": [],
   "source": [
    "# session 1 units to get data from and dataset save path\n",
    "selected_units_inference = np.arange(400)\n",
    "inference_ds_path = save_folder_sess1 + '/ds_inference'\n",
    "\n",
    "# make a dataset for inference (testing)\n",
    "# will create a folder with the spike, probe channel number, and corresponding channel location datasets in the train, val, test splits\n",
    "# optionally also saves out spatial and temporal noise covariance matrices\n",
    "inference = True\n",
    "test_num = 500\n",
    "save_covs = True\n",
    "num_chans_extract = 21\n",
    "normalize = False\n",
    "shift = False\n",
    "\n",
    "test_set, test_geom_locs, test_max_chan = make_dataset(rec=rec1, \n",
    "                                                       spike_index=spike_idx_sess1,\n",
    "                                                       geom=geom_sess1, \n",
    "                                                       save_path=inference_ds_path, \n",
    "                                                       chan_index=chan_idx_sess1, \n",
    "                                                       templates=templates_sess1, \n",
    "                                                       unit_ids=selected_units_inference, \n",
    "                                                       train_num=train_num, \n",
    "                                                       val_num=val_num, \n",
    "                                                       test_num=test_num, \n",
    "                                                       save_covs=save_covs, \n",
    "                                                       num_chans_extract=num_chans_extract, \n",
    "                                                       normalize=normalize, \n",
    "                                                       shift=shift, \n",
    "                                                       inference=inference,\n",
    "                                                       save_fewer=save_fewer)"
   ]
  }
 ],
 "metadata": {
  "kernelspec": {
   "display_name": "Python [conda env:ceed]",
   "language": "python",
   "name": "conda-env-ceed-py"
  },
  "language_info": {
   "codemirror_mode": {
    "name": "ipython",
    "version": 3
   },
   "file_extension": ".py",
   "mimetype": "text/x-python",
   "name": "python",
   "nbconvert_exporter": "python",
   "pygments_lexer": "ipython3",
   "version": "3.10.13"
  }
 },
 "nbformat": 4,
 "nbformat_minor": 4
}
