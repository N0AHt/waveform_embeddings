{
 "cells": [
  {
   "cell_type": "code",
   "execution_count": 1,
   "id": "db22d0a5-ebea-4c2e-99d4-e3e65fd866d9",
   "metadata": {
    "tags": []
   },
   "outputs": [],
   "source": [
    "path = '/home/noah/data'"
   ]
  },
  {
   "cell_type": "code",
   "execution_count": 2,
   "id": "8f956eac-7ef1-4357-9778-eee0e6287f1e",
   "metadata": {
    "tags": []
   },
   "outputs": [],
   "source": [
    "import os\n",
    "import numpy as np\n",
    "import matplotlib.pyplot as plt"
   ]
  },
  {
   "cell_type": "code",
   "execution_count": 5,
   "id": "a1a9b830-09ea-4d6d-8dc1-f5d26726a0ce",
   "metadata": {
    "tags": []
   },
   "outputs": [
    {
     "name": "stdout",
     "output_type": "stream",
     "text": [
      "[]\n",
      "['ap_rms.bin', '_spikeglx_ephysData_g0_t0.imec0.ap.stream.normalized.meta', '_spikeglx_ephysData_g0_t0.imec0.ap.stream.normalized.bin', '_iblqc_ephysTimeRmsAP.timestamps.npy', 'ap_time.bin', '_iblqc_ephysTimeRmsAP.rms.npy']\n",
      "['spatial_cov.npy', 'spikes_train.npy', 'channel_num_train.npy', 'labels_test.npy', 'channel_num_val.npy', 'spikes_test.npy', 'temporal_cov.npy', 'channel_num_test.npy', 'channel_spike_locs_train.npy', 'channel_spike_locs_val.npy', 'spikes_val.npy', 'labels_train.npy', 'channel_spike_locs_test.npy', 'labels_val.npy']\n",
      "['spatial_cov.npy', 'labels_test.npy', 'spikes_test.npy', 'temporal_cov.npy', 'channel_num_test.npy', 'channel_spike_locs_test.npy']\n",
      "['ap_rms.bin', '_spikeglx_ephysData_g0_t0.imec0.ap.stream.normalized.meta', '_spikeglx_ephysData_g0_t0.imec0.ap.stream.normalized.bin', '_iblqc_ephysTimeRmsAP.timestamps.npy', 'ap_time.bin', '_iblqc_ephysTimeRmsAP.rms.npy']\n",
      "['spatial_cov.npy', 'spikes_train.npy', 'channel_num_train.npy', 'labels_test.npy', 'channel_num_val.npy', 'spikes_test.npy', 'temporal_cov.npy', 'channel_num_test.npy', 'channel_spike_locs_train.npy', 'channel_spike_locs_val.npy', 'spikes_val.npy', 'labels_train.npy', 'channel_spike_locs_test.npy', 'labels_val.npy']\n",
      "[]\n",
      "['spikes_train.npy', 'channel_num_train.npy', 'labels_test.npy', 'channel_num_val.npy', 'spikes_test.npy', 'channel_num_test.npy', 'channel_spike_locs_train.npy', 'channel_spike_locs_val.npy', 'spikes_val.npy', 'labels_train.npy', 'channel_spike_locs_test.npy', 'labels_val.npy']\n",
      "['spatial_cov.npy', 'temporal_cov.npy']\n",
      "['spatial_cov.npy', 'temporal_cov.npy']\n"
     ]
    }
   ],
   "source": [
    "for root, dirs, files in os.walk(path):\n",
    "    print(files)"
   ]
  },
  {
   "cell_type": "code",
   "execution_count": null,
   "id": "dd44f483-ca8a-4ee9-a8c3-d0d8942b332f",
   "metadata": {},
   "outputs": [],
   "source": []
  },
  {
   "cell_type": "code",
   "execution_count": null,
   "id": "023967fd-ed41-46a4-9903-7c88d977e501",
   "metadata": {},
   "outputs": [],
   "source": []
  },
  {
   "cell_type": "code",
   "execution_count": null,
   "id": "33c3682a-c091-4ab0-800a-5604ad2b3ae3",
   "metadata": {},
   "outputs": [],
   "source": []
  }
 ],
 "metadata": {
  "kernelspec": {
   "display_name": "Python [conda env:ceed3]",
   "language": "python",
   "name": "conda-env-ceed3-py"
  },
  "language_info": {
   "codemirror_mode": {
    "name": "ipython",
    "version": 3
   },
   "file_extension": ".py",
   "mimetype": "text/x-python",
   "name": "python",
   "nbconvert_exporter": "python",
   "pygments_lexer": "ipython3",
   "version": "3.10.12"
  }
 },
 "nbformat": 4,
 "nbformat_minor": 5
}
