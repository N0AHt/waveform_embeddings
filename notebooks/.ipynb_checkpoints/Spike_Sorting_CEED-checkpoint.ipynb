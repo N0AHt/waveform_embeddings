{
 "cells": [
  {
   "cell_type": "code",
   "execution_count": null,
   "id": "2ea76ecd-b96c-46e4-8adc-cf357e48fd57",
   "metadata": {},
   "outputs": [],
   "source": [
    "%load_ext autoreload\n",
    "%autoreload 2"
   ]
  },
  {
   "cell_type": "code",
   "execution_count": null,
   "id": "90a0472d-4b78-4b02-8d1a-5f45ee2e4bb2",
   "metadata": {},
   "outputs": [],
   "source": [
    "import os\n",
    "import numpy as np\n",
    "import matplotlib.pyplot as plt\n",
    "import spikeinterface as si\n",
    "from dartsort.localize import localize_torch as loc\n",
    "\n",
    "path_to_dataset = '/mnt/data/noah/IBL_data_CEED/febb430e-2d50-4f83-87a0-b5ffbb9a4943/'\n",
    "path2 = '/mnt/data/noah/IBL_data_CEED/dataset/'"
   ]
  },
  {
   "cell_type": "code",
   "execution_count": null,
   "id": "7efa3a72-4ae6-43e5-b31c-60a6760600cf",
   "metadata": {},
   "outputs": [],
   "source": [
    "#load recording\n",
    "pathREC = r'/mnt/data/noah/IBL_data_CEED/febb430e-2d50-4f83-87a0-b5ffbb9a4943/' #session 2\n",
    "rec = si.read_binary_folder(pathREC)"
   ]
  },
  {
   "cell_type": "code",
   "execution_count": null,
   "id": "29baf533-3e1e-4853-acc2-595f81d2cd82",
   "metadata": {},
   "outputs": [],
   "source": [
    "geom = np.load(path2 + 'geom_sess2.npy')\n",
    "templates = np.load(path2 + 'templates_sess2.npy')\n",
    "spikes_idx = np.load(path2 + 'spike_idx_sess2.npy') #spike time, channel location of max channel, neuron id from spike sorting; for each spike\n",
    "chans_idx = np.load(path2 + 'chan_idx_sess2.npy')"
   ]
  },
  {
   "cell_type": "code",
   "execution_count": null,
   "id": "4df1e844-e4f6-493f-8f53-06a0067c2255",
   "metadata": {},
   "outputs": [],
   "source": [
    "#dirty fix for going out of range:\n",
    "if spikes_idx[0][-1] != 0:\n",
    "    spikes_idx[0][-1]=0\n",
    "    print('change')\n",
    "\n",
    "downsampled_spikes = spikes_idx[:,::20]\n",
    "\n",
    "spikes_idx = downsampled_spikes"
   ]
  },
  {
   "cell_type": "code",
   "execution_count": null,
   "id": "d94eaf57-6a57-4bed-b7a0-1ca646730e72",
   "metadata": {},
   "outputs": [],
   "source": [
    "spikes_idx.shape"
   ]
  },
  {
   "cell_type": "code",
   "execution_count": null,
   "id": "f06fd43e-41f6-4b16-a92c-89b0bf0fcb19",
   "metadata": {},
   "outputs": [],
   "source": [
    "#get amplitudes vector\n",
    "amplitudes = rec.get_traces()[spikes_idx[0]] #use spike times as index to grab spikes amplitudes\n",
    "print(amplitudes.shape) #spikes, channels. max amplitude of each spike on each channel"
   ]
  },
  {
   "cell_type": "code",
   "execution_count": null,
   "id": "9d6ae9b7-e2bd-450f-93f3-033d2e5240ca",
   "metadata": {},
   "outputs": [],
   "source": [
    "positions = spikes_idx[0]\n",
    "\n",
    "spike_samples = []\n",
    "for posit in positions:\n",
    "    spike_samples.append(list(range(posit-43,posit+78)))\n",
    "spike_samples = [item for sublist in spike_samples for item in sublist] "
   ]
  },
  {
   "cell_type": "code",
   "execution_count": null,
   "id": "81e89514-a61a-43df-9c7a-d5395248b0da",
   "metadata": {},
   "outputs": [],
   "source": [
    "channel_indexs = spikes_idx[1] #need to extend each entry by 121 samples to match shape\n",
    "channels_extended = []\n",
    "for chan in channel_indexs:\n",
    "    channels_extended.append([chan]*121)\n",
    "channels_extended = [item for sublist in channels_extended for item in sublist]"
   ]
  },
  {
   "cell_type": "code",
   "execution_count": null,
   "id": "29d26df4-1dcf-4b4f-994b-83af39af28e0",
   "metadata": {},
   "outputs": [],
   "source": [
    "# channels_extended"
   ]
  },
  {
   "cell_type": "code",
   "execution_count": null,
   "id": "a0882b27-92b2-400a-946e-7ca210157ba3",
   "metadata": {},
   "outputs": [],
   "source": [
    "# multichan = np.asarray(channels_extended)\n",
    "# multichan2 = multichan\n",
    "# for i in range(-5,5+1):\n",
    "#     if i == 0:\n",
    "#         continue\n",
    "#     multichan2 = np.vstack((multichan2, multichan+i))\n",
    "# # multichan2 = np.delete(multichan2, 0, 0)"
   ]
  },
  {
   "cell_type": "code",
   "execution_count": null,
   "id": "d90dfa81-a25e-4a58-9122-970871a7e762",
   "metadata": {},
   "outputs": [],
   "source": [
    "multichan = np.empty((11, len(channels_extended)), dtype = 'int')\n",
    "mainchan = np.asanyarray(channels_extended)\n",
    "for i, offset in enumerate(range(-5,5+1)):\n",
    "    multichan[i] = mainchan + offset\n",
    "    # if i == 0:\n",
    "    #     continue\n",
    "    # multichan2 = np.vstack((multichan2, multichan+i))\n",
    "# multichan2 = np.delete(multichan2, 0, 0)"
   ]
  },
  {
   "cell_type": "code",
   "execution_count": null,
   "id": "021f85f7-3a21-4da6-b1e5-73a64bf36492",
   "metadata": {},
   "outputs": [],
   "source": [
    "# for i in range(11):\n",
    "#     print(multichan2[i])\n",
    "# print('\\n')\n",
    "# for i in range(11):\n",
    "#     print(multichan[i])"
   ]
  },
  {
   "cell_type": "code",
   "execution_count": null,
   "id": "c2a28e3d-1111-443e-9635-083449fa03b3",
   "metadata": {},
   "outputs": [],
   "source": [
    "# print(len(multichan.T))"
   ]
  },
  {
   "cell_type": "code",
   "execution_count": null,
   "id": "81594a05-706c-403f-aa63-d7c22c728236",
   "metadata": {},
   "outputs": [],
   "source": [
    "# multichan2.shape"
   ]
  },
  {
   "cell_type": "code",
   "execution_count": null,
   "id": "7482f83b-d6b0-4bd3-9715-ae698d6191c9",
   "metadata": {},
   "outputs": [],
   "source": [
    "# help(rec.get_traces)"
   ]
  },
  {
   "cell_type": "code",
   "execution_count": null,
   "id": "9c371783-8646-497e-b14d-29b5c9cc70aa",
   "metadata": {},
   "outputs": [],
   "source": [
    "waveforms = rec.get_traces()[spike_samples, multichan]\n",
    "# waveforms2 = rec.get_traces()[spike_samples, multichan2]"
   ]
  },
  {
   "cell_type": "code",
   "execution_count": null,
   "id": "3fec09ae-fd3d-451a-a139-6945e6395276",
   "metadata": {},
   "outputs": [],
   "source": [
    "waveformz = rec.get_traces()[spike_samples, channels_extended]\n",
    "waveformz.shape\n"
   ]
  },
  {
   "cell_type": "code",
   "execution_count": null,
   "id": "290a2c05-fac9-479b-818a-ecc2459e039a",
   "metadata": {},
   "outputs": [],
   "source": [
    "print(waveformz.shape)\n",
    "new_x = int(waveformz.shape[0]/121)\n",
    "# # reshape waveform array\n",
    "waveformz = waveformz.reshape((new_x, 121))\n",
    "print(waveformz.shape)"
   ]
  },
  {
   "cell_type": "code",
   "execution_count": null,
   "id": "5a020dfb-c0b4-4937-80d1-f9c89457004d",
   "metadata": {},
   "outputs": [],
   "source": [
    "print(waveforms.shape)\n",
    "new_x = int(waveforms.shape[1]/121)\n",
    "# # reshape waveform array\n",
    "waveforms = waveforms.reshape((11, new_x, 121)) #need to start using einops lol, reshaping is hard\n",
    "print(waveforms.shape)"
   ]
  },
  {
   "cell_type": "code",
   "execution_count": null,
   "id": "5745f0d8-6b2d-47bc-ae97-c4609c124686",
   "metadata": {},
   "outputs": [],
   "source": [
    "plt.plot(waveformz[0])\n",
    "plt.plot(waveforms[5,0,:])\n",
    "plt.show()"
   ]
  },
  {
   "cell_type": "code",
   "execution_count": null,
   "id": "9491cacc-5273-478c-bf0d-46982e921a54",
   "metadata": {},
   "outputs": [],
   "source": [
    "# waveforms are now multichannel!\n",
    "waveforms = np.swapaxes(waveforms, 0, 1)\n",
    "plt.plot(waveforms[0,5,:])\n",
    "plt.show()\n",
    "print(waveforms.shape)"
   ]
  },
  {
   "cell_type": "code",
   "execution_count": null,
   "id": "51bb11f0-f863-4b00-8fbc-c1b0f700ba87",
   "metadata": {},
   "outputs": [],
   "source": [
    "#Denoise the waveforms with the multichannel denoiser!\n",
    "#no multichannel denoiser, but can run single channel lots of times:\n",
    "\n",
    "# from dartsort.transform import single_channel_denoiser as scd\n",
    "path = r'/home/noah/code/dartsort/pretrained/single_chan_denoiser.pt'\n",
    "# dns = scd.SingleChannelDenoiser()\n",
    "# dns.load(path)\n",
    "import torch\n",
    "from spike_psvae import denoise\n",
    "\n",
    "dn = denoise.SingleChanDenoiser().load(path)\n",
    "\n",
    "for i, channel in enumerate(waveforms.swapaxes(0,1)):\n",
    "    waveforms[:,i,:] = dn(torch.FloatTensor(channel).reshape(-1, 121)).reshape(channel.shape).detach().numpy()\n"
   ]
  },
  {
   "cell_type": "code",
   "execution_count": null,
   "id": "8bb84e17-ff94-4845-970d-92eb22b45e25",
   "metadata": {},
   "outputs": [],
   "source": [
    "plt.plot(waveforms[0,5,:])\n",
    "plt.show()\n",
    "print(waveforms.shape)"
   ]
  },
  {
   "cell_type": "code",
   "execution_count": null,
   "id": "d49522de-12db-4159-b5a8-0308f3af316a",
   "metadata": {},
   "outputs": [],
   "source": [
    "# def normalize_wf(wf):\n",
    "#     \"\"\"Normalize waveform for use in cell type experiments.\n",
    "#     Parameters\n",
    "#     ----------\n",
    "#     wf: numpy.ndarray\n",
    "#         spike that has shape (n_chans, spike_length_samples)\n",
    "#     Returns\n",
    "#     -------\n",
    "#     waveform normalized to the range [0, 1] to retain shape information, but not amplitude information\n",
    "#     \"\"\"\n",
    "#     if len(wf.shape) == 1:\n",
    "#         _ = wf.shape\n",
    "#         n_chans = None\n",
    "#     else:\n",
    "#         n_chans, _ = wf.shape\n",
    "#     wf = wf.flatten()\n",
    "#     if np.max(np.abs(wf), axis=0) != 0:\n",
    "#         wf /= np.max(np.abs(wf), axis=0)\n",
    "#     wf = wf.reshape(n_chans, -1) if n_chans is not None else wf\n",
    "#     return wf"
   ]
  },
  {
   "cell_type": "code",
   "execution_count": null,
   "id": "6fd1eb79-6118-4836-8de6-cda7756f6acd",
   "metadata": {},
   "outputs": [],
   "source": [
    "radius = 100 #microns #100 correct\n",
    "num_spikes_st = 0\n",
    "num_spikes = -1\n",
    "main_chan = spikes_idx[1]\n",
    "subset = None\n",
    "locs = loc.localize_amplitude_vectors(amplitude_vectors = amplitudes[0:num_spikes], n_channels_subset = subset, geom = geom, main_channels = main_chan[0:num_spikes], radius = radius)\n"
   ]
  },
  {
   "cell_type": "code",
   "execution_count": null,
   "id": "89611eaa-8242-4229-b50d-8f46d1fa421b",
   "metadata": {},
   "outputs": [],
   "source": [
    "z = locs[\"z_abs\"]\n",
    "x = locs[\"x\"]\n",
    "pitch = 40\n",
    "\n",
    "idx_good = np.flatnonzero(np.logical_and(\n",
    "    np.logical_and(x > geom[:, 0].min()-pitch, x < geom[:, 0].max()+pitch),\n",
    "    np.logical_and(z > geom.min()-pitch, z < geom.max()+pitch)))\n",
    "\n",
    "x = x[idx_good]\n",
    "z = z[idx_good]\n",
    "index = spikes_idx[2][idx_good]\n",
    "waveforms = waveforms[idx_good, :, :]\n",
    "amplitudes = amplitudes[idx_good, :]"
   ]
  },
  {
   "cell_type": "code",
   "execution_count": null,
   "id": "a563e569-56f7-439e-860d-ee03f355325e",
   "metadata": {},
   "outputs": [],
   "source": [
    "import colorcet as cc\n",
    "def get_ccolor(k):\n",
    "    if k == -1:\n",
    "        return \"#808080\"\n",
    "    else:\n",
    "        return ccolors[k % len(ccolors)]\n",
    "# ccolors = cc.glasbey[:31]\n",
    "ccolors = cc.glasbey[:50]\n",
    "\n",
    "cols = [get_ccolor(idx) for idx in index]"
   ]
  },
  {
   "cell_type": "code",
   "execution_count": null,
   "id": "137c86b8-eccb-4e59-8d40-9445f25b4537",
   "metadata": {},
   "outputs": [],
   "source": [
    "plt.figure(figsize=(2,12)) #2,12 is better tbh\n",
    "\n",
    "plt.scatter(x, z, alpha=0.2, s = 0.5, c = cols) #coloured by neuron id, adds nothing but confirms things work!\n",
    "plt.scatter(geom[:,0], geom[:,1], c='red', alpha=0.5, s=0.9)\n",
    "plt.xlabel('X-position')\n",
    "plt.ylabel('Z absolute')\n",
    "#2x12\n",
    "plt.show()"
   ]
  },
  {
   "cell_type": "code",
   "execution_count": null,
   "id": "3ec9e1f8-92b3-4d4c-8066-4f68ef8f40c2",
   "metadata": {},
   "outputs": [],
   "source": []
  },
  {
   "cell_type": "code",
   "execution_count": null,
   "id": "b1a518ed-dba7-40dd-87d9-107848a729e5",
   "metadata": {},
   "outputs": [],
   "source": [
    "from ceed.models.ceed import CEED\n",
    "import numpy as np\n",
    "import os\n",
    "import matplotlib.pyplot as plt\n",
    "from analysis.projections import learn_manifold_umap, pca_train, pca\n",
    "import colorcet as cc\n",
    "import torch\n",
    "\n",
    "from tqdm import tqdm\n",
    "\n",
    "from mpl_toolkits.mplot3d import Axes3D"
   ]
  },
  {
   "cell_type": "code",
   "execution_count": null,
   "id": "0d830e1a-a13b-42a5-a021-e5369732c412",
   "metadata": {},
   "outputs": [],
   "source": [
    "fc_spikesorting_ckpt_dir = '/home/noah/code/ceed_models/spikesort'\n",
    "\n",
    "fc_spikesorting_ceed_5d = CEED(num_extra_chans=5, out_dim=5, proj_dim=5, gpu=0, old_ckpt=True)\n",
    "fc_spikesorting_ceed_5d.load(fc_spikesorting_ckpt_dir)"
   ]
  },
  {
   "cell_type": "code",
   "execution_count": null,
   "id": "4081b582-cc08-4cc7-87ef-d013ad3561ea",
   "metadata": {},
   "outputs": [],
   "source": [
    "print(waveforms.shape)\n",
    "batch = 1\n",
    "cells = waveforms.shape[0]\n",
    "timepoints = waveforms.shape[2]\n",
    "channels = waveforms.shape[1]"
   ]
  },
  {
   "cell_type": "code",
   "execution_count": null,
   "id": "984c56ab-090e-4418-8f17-3c7dbd2b8bd9",
   "metadata": {},
   "outputs": [],
   "source": [
    "waveforms = np.asarray(waveforms.squeeze())"
   ]
  },
  {
   "cell_type": "code",
   "execution_count": null,
   "id": "428923eb-9845-470c-8df9-6a91d9840363",
   "metadata": {},
   "outputs": [],
   "source": [
    "# waveforms = torch.from_numpy(waveforms.astype('float32')) #must be float32?\n",
    "waveforms = waveforms.reshape(batch, int(cells/batch), channels, timepoints)\n",
    "# waveforms = waveforms.to('cuda') \n",
    "\n",
    "#put on the gpu in the inference loop?\n",
    "#https://discuss.pytorch.org/t/dataset-location-runtimeerror-caught-runtimeerror-in-dataloader-worker-process-0/156842\n",
    "\n",
    "# print(waveforms.shape, waveforms.device)"
   ]
  },
  {
   "cell_type": "code",
   "execution_count": null,
   "id": "909806c2-056b-48e3-9b57-e21fa03f83f6",
   "metadata": {},
   "outputs": [],
   "source": [
    "embeddings_all = []\n",
    "with torch.no_grad():\n",
    "    for spike in tqdm(waveforms):\n",
    "        # data = torch.unsqueeze(spike, dim=-1)\n",
    "        # spike.to('cuda')\n",
    "        feature = fc_spikesorting_ceed_5d.transform(spike) #returns a np array\n",
    "        embeddings_all.append(feature)\n",
    "# embeddings_all = torch.concatenate(embeddings_all).to('cpu').detach().squeeze().numpy()\n",
    "embeddings_all = np.asarray(embeddings_all).squeeze()"
   ]
  },
  {
   "cell_type": "code",
   "execution_count": null,
   "id": "c13ecd4a-a94e-4b24-b198-ecfaa61516a4",
   "metadata": {},
   "outputs": [],
   "source": [
    "waveforms = waveforms.squeeze()"
   ]
  },
  {
   "cell_type": "code",
   "execution_count": null,
   "id": "656b3ef2-d9d6-4f9e-963f-c49792279a3f",
   "metadata": {},
   "outputs": [],
   "source": [
    "print(embeddings_all.shape)\n",
    "print(waveforms.shape)"
   ]
  },
  {
   "cell_type": "code",
   "execution_count": null,
   "id": "8fb01960-73eb-463a-bf44-ab2e3471060b",
   "metadata": {},
   "outputs": [],
   "source": [
    "def qplot(i):\n",
    "    ax[i].scatter(x, z, alpha=0.2, s = 0.5, c = embeddings_all[:,i])\n",
    "    ax[i].scatter(geom[:,0], geom[:,1], c='red', alpha=0.5, s=0.9)\n",
    "    ax[i].set_xlabel('X-position')\n",
    "    if i == 0:\n",
    "        ax[i].set_ylabel('Z absolute')\n",
    "    title = 'CEED ' + str(i)\n",
    "    ax[i].set_title(title)\n",
    "    # ax[i].set_ylim(0,1000)\n",
    "    # ax[i].axis('equal')\n",
    "    # ax[i].set_xlim(-1,1)\n",
    "\n",
    "fig, ax = plt.subplots(1,5, sharey = True)\n",
    "fig.suptitle('CEED Embeddings vs Geometry', fontsize='large')\n",
    "\n",
    "for i in range(5):\n",
    "    qplot(i)\n",
    "\n",
    "# fig.colorbar(ax[4], cax=embeddings_all[:,4])\n",
    "# plt.colorbar(fig)\n",
    "plt.show()"
   ]
  },
  {
   "cell_type": "code",
   "execution_count": null,
   "id": "2b56568d-d9ec-4877-84e4-05d5b6b8c31a",
   "metadata": {},
   "outputs": [],
   "source": [
    "import scipy.signal as signal\n",
    "def align_spikes(wfs):\n",
    "# input: waveforms of shape NxT\n",
    "# upsample the waveform in time first for finer scale alignment\n",
    "# then downsample the waveform to its original shape\n",
    "    N, T = np.shape(wfs)\n",
    "    upsampled_wfs = signal.resample(wfs, 10*T, axis = 1)\n",
    "    aligned_wfs = np.zeros([N, 2500]) \n",
    "    peak_idx = 1050 # a value that is larger than all peak index values\n",
    "    peak_point = np.argmax(np.absolute(upsampled_wfs), axis =1)    \n",
    "    shift = peak_idx - peak_point\n",
    "\n",
    "    for i in range(len(shift)):\n",
    "        try:\n",
    "            aligned_wfs[i, shift[i]:(shift[i] + 10*T)] = upsampled_wfs[i,:]\n",
    "        except:\n",
    "            # print(i)\n",
    "            pass\n",
    "        \n",
    "    return  signal.resample(aligned_wfs[:,630:(630+1210 + 1)], T, axis = 1)\n",
    "\n",
    "# aligned_wfs = align_spikes(waveforms)"
   ]
  },
  {
   "cell_type": "code",
   "execution_count": null,
   "id": "5e1c9937-9bff-492a-a2bf-38f4fc0d38b6",
   "metadata": {},
   "outputs": [],
   "source": [
    "# from dartsort.transform import single_channel_denoiser as scd\n",
    "path = r'/home/noah/code/dartsort/pretrained/single_chan_denoiser.pt'\n",
    "# dns = scd.SingleChannelDenoiser()\n",
    "# dns.load(path)\n",
    "\n",
    "from spike_psvae import denoise\n",
    "\n",
    "dn = denoise.SingleChanDenoiser().load(path)\n",
    "\n",
    "# wfs_denoised = dn(torch.FloatTensor(aligned_wfs).reshape(-1, 121)).reshape(aligned_wfs.shape).detach().numpy()"
   ]
  },
  {
   "cell_type": "code",
   "execution_count": null,
   "id": "38c50940-c08e-4908-ab70-0161477eb1f6",
   "metadata": {},
   "outputs": [],
   "source": [
    "#find ptp amps:\n",
    "ptp = np.asarray([np.ptp(wave) for wave in waveforms[:,5,:]]) #note that this is not denoised!"
   ]
  },
  {
   "cell_type": "code",
   "execution_count": null,
   "id": "80a583a3-48bd-461e-89b9-2dece4f27f44",
   "metadata": {},
   "outputs": [],
   "source": []
  },
  {
   "cell_type": "code",
   "execution_count": null,
   "id": "abf18be8-ecd8-434b-9f5f-81b00a800b18",
   "metadata": {},
   "outputs": [],
   "source": [
    "spike_sorting_features = np.empty((embeddings_all.shape[0], embeddings_all.shape[1]+3), dtype='float32')\n",
    "\n",
    "for i, ceed_features in enumerate(embeddings_all):\n",
    "    spike_sorting_features[i] = np.append(ceed_features, [x[i], z[i], ptp[i]])\n",
    "#shape == ceed1, ceed2, ceed3, ceed4, ceed5, x, z, ptp for every spike"
   ]
  },
  {
   "cell_type": "code",
   "execution_count": null,
   "id": "97bb8fd7-0686-40a1-8ed2-38e15acb0eff",
   "metadata": {},
   "outputs": [],
   "source": [
    "spike_sorting_features[0]"
   ]
  },
  {
   "cell_type": "code",
   "execution_count": null,
   "id": "21061c1e-63ee-4fb6-b9b0-90adb5af947d",
   "metadata": {},
   "outputs": [],
   "source": [
    "#add location info:\n",
    "\n",
    "# spike_sorting_features = list(zip(embeddings_all.tolist(), z, x))\n",
    "# spike_sorting_features = list(map(list, zip(embeddings_all.tolist(), z, x)))"
   ]
  },
  {
   "cell_type": "code",
   "execution_count": null,
   "id": "ed2d2895-c6b8-496a-83ee-a85b2202926a",
   "metadata": {},
   "outputs": [],
   "source": [
    "# spike_sorting_features[1]"
   ]
  },
  {
   "cell_type": "code",
   "execution_count": null,
   "id": "0f631f5b-1d3b-46bf-8be7-7378b9987498",
   "metadata": {},
   "outputs": [],
   "source": [
    "# def flatten(l):\n",
    "#     return [item for sublist in l for item in sublist if isinstance(l, list)]"
   ]
  },
  {
   "cell_type": "code",
   "execution_count": null,
   "id": "ba46d207-dc8a-462a-801f-8b88e9c381f4",
   "metadata": {},
   "outputs": [],
   "source": [
    "# spike_sorting_features = [flatten(feature) for feature in spike_sorting_features]"
   ]
  },
  {
   "cell_type": "code",
   "execution_count": null,
   "id": "835d3c2e-fa61-4b87-a584-b649a9691cd9",
   "metadata": {},
   "outputs": [],
   "source": [
    "spike_sorting_features.shape"
   ]
  },
  {
   "cell_type": "markdown",
   "id": "38fc16da-d01a-491c-92d3-0ae55daa0db6",
   "metadata": {},
   "source": [
    "## Cluster this data"
   ]
  },
  {
   "cell_type": "code",
   "execution_count": null,
   "id": "849149c5-77d0-4aa8-98ea-6ce0cceec460",
   "metadata": {},
   "outputs": [],
   "source": [
    "original_features = spike_sorting_features[:,5::] #x, y , ptp"
   ]
  },
  {
   "cell_type": "code",
   "execution_count": null,
   "id": "640b7440-b0dd-4bbd-b9ff-ad061cac79fb",
   "metadata": {},
   "outputs": [],
   "source": [
    "original_features[0]"
   ]
  },
  {
   "cell_type": "code",
   "execution_count": null,
   "id": "dd87c3b8-d50c-44b1-adf7-1b83d8147c0f",
   "metadata": {},
   "outputs": [],
   "source": [
    "#best clustering is to use hdbscan"
   ]
  },
  {
   "cell_type": "code",
   "execution_count": null,
   "id": "96fd784d-671d-432d-8e13-f609831de45e",
   "metadata": {},
   "outputs": [],
   "source": [
    "import hdbscan"
   ]
  },
  {
   "cell_type": "code",
   "execution_count": null,
   "id": "0c654121-ac32-45af-aab2-4b87940962a4",
   "metadata": {},
   "outputs": [],
   "source": [
    "# create list of features (scaled)\n",
    "\n",
    "# scale is /stddev\n",
    "\n",
    "# take distrubutions of ceed features -try to make gaussian\n",
    "\n",
    "# scale everything to std dev of x\n",
    "\n",
    "#note that the -1 label is for outliers"
   ]
  },
  {
   "cell_type": "code",
   "execution_count": null,
   "id": "d38727d4-fc0a-4c07-8b7f-0e0454a76964",
   "metadata": {},
   "outputs": [],
   "source": [
    "# lets scale features:\n",
    "std_dev_x = np.std(original_features[:, 0])\n",
    "print(std_dev_x)\n",
    "original_features = original_features/std_dev_x\n",
    "original_features[0]"
   ]
  },
  {
   "cell_type": "code",
   "execution_count": null,
   "id": "8a2988c3-c152-41f8-8656-6f303f69b1e7",
   "metadata": {},
   "outputs": [],
   "source": [
    "clusterer = hdbscan.HDBSCAN()\n",
    "clusterer.fit(original_features)"
   ]
  },
  {
   "cell_type": "code",
   "execution_count": null,
   "id": "93f16679-9e5c-408c-82f3-1787d29cf717",
   "metadata": {},
   "outputs": [],
   "source": [
    "og_labels = clusterer.labels_\n",
    "print(len(np.unique(og_labels)))"
   ]
  },
  {
   "cell_type": "code",
   "execution_count": null,
   "id": "311d9004-b0f2-41b4-b354-54c74d58e717",
   "metadata": {},
   "outputs": [],
   "source": [
    "#outlier percentage\n",
    "( list(clusterer.labels_).count(-1) / len(clusterer.labels_) ) * 100"
   ]
  },
  {
   "cell_type": "code",
   "execution_count": null,
   "id": "b248a86d-40e8-4354-b0b9-7f713c89640e",
   "metadata": {},
   "outputs": [],
   "source": [
    "label = -1\n",
    "mask = og_labels>label"
   ]
  },
  {
   "cell_type": "code",
   "execution_count": null,
   "id": "22384dad-9c30-4f8b-a0e0-6fdf99cf7522",
   "metadata": {},
   "outputs": [],
   "source": [
    "cols_original_features = [get_ccolor(idx) for idx in og_labels[mask]]"
   ]
  },
  {
   "cell_type": "code",
   "execution_count": null,
   "id": "140d509a-6468-4e05-a880-fcde09e86325",
   "metadata": {},
   "outputs": [],
   "source": [
    "# plot clusters:\n",
    "\n",
    "plt.figure(figsize=(2,12)) #2,12 is better tbh\n",
    "\n",
    "plt.scatter(x[mask], z[mask], alpha=0.2, s = 0.5, c = cols_original_features)\n",
    "plt.scatter(geom[:,0], geom[:,1], c='red', alpha=0.5, s=0.9)\n",
    "plt.xlabel('X-position')\n",
    "plt.ylabel('Z absolute')\n",
    "#2x12\n",
    "plt.show()"
   ]
  },
  {
   "cell_type": "code",
   "execution_count": null,
   "id": "aeef211c-f21d-42ad-b06d-283aa12213a5",
   "metadata": {},
   "outputs": [],
   "source": [
    "#visualize the units\n",
    "unit = 7\n",
    "for wave in waveforms[og_labels==unit][:,5,:]:\n",
    "    plt.plot(wave, alpha=0.1, color='k')\n",
    "plt.plot(np.mean(waveforms[og_labels==unit][:,5,::downsample], 0), alpha=1, color = 'c')\n",
    "plt.show()\n"
   ]
  },
  {
   "cell_type": "code",
   "execution_count": null,
   "id": "b953f552-1e5e-4014-af03-4fc6ec77d8f8",
   "metadata": {},
   "outputs": [],
   "source": []
  },
  {
   "cell_type": "code",
   "execution_count": null,
   "id": "26c031f0-fbf6-4268-adb2-3b665f4a39dd",
   "metadata": {},
   "outputs": [],
   "source": []
  }
 ],
 "metadata": {
  "kernelspec": {
   "display_name": "Python [conda env:ceed]",
   "language": "python",
   "name": "conda-env-ceed-py"
  },
  "language_info": {
   "codemirror_mode": {
    "name": "ipython",
    "version": 3
   },
   "file_extension": ".py",
   "mimetype": "text/x-python",
   "name": "python",
   "nbconvert_exporter": "python",
   "pygments_lexer": "ipython3",
   "version": "3.10.13"
  }
 },
 "nbformat": 4,
 "nbformat_minor": 5
}
