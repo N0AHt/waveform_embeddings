{
 "cells": [
  {
   "cell_type": "code",
   "execution_count": 2,
   "id": "2ea76ecd-b96c-46e4-8adc-cf357e48fd57",
   "metadata": {},
   "outputs": [],
   "source": [
    "%load_ext autoreload\n",
    "%autoreload 2"
   ]
  },
  {
   "cell_type": "code",
   "execution_count": 3,
   "id": "90a0472d-4b78-4b02-8d1a-5f45ee2e4bb2",
   "metadata": {},
   "outputs": [],
   "source": [
    "import os\n",
    "import numpy as np\n",
    "import matplotlib.pyplot as plt\n",
    "import spikeinterface as si\n",
    "from dartsort.localize import localize_torch as loc\n",
    "\n",
    "path_to_dataset = '/mnt/data/noah/IBL_data_CEED/febb430e-2d50-4f83-87a0-b5ffbb9a4943/'\n",
    "path2 = '/mnt/data/noah/IBL_data_CEED/dataset/'"
   ]
  },
  {
   "cell_type": "code",
   "execution_count": 4,
   "id": "7efa3a72-4ae6-43e5-b31c-60a6760600cf",
   "metadata": {},
   "outputs": [],
   "source": [
    "#load recording\n",
    "pathREC = r'/mnt/data/noah/IBL_data_CEED/febb430e-2d50-4f83-87a0-b5ffbb9a4943/' #session 2\n",
    "rec = si.read_binary_folder(pathREC)"
   ]
  },
  {
   "cell_type": "code",
   "execution_count": 11,
   "id": "29baf533-3e1e-4853-acc2-595f81d2cd82",
   "metadata": {},
   "outputs": [],
   "source": [
    "geom = np.load(path2 + 'geom_sess2.npy')\n",
    "templates = np.load(path2 + 'templates_sess2.npy')\n",
    "spikes_idx = np.load(path2 + 'spike_idx_sess2.npy') #spike time, channel location of max channel, neuron id from spike sorting; for each spike\n",
    "chans_idx = np.load(path2 + 'chan_idx_sess2.npy')"
   ]
  },
  {
   "cell_type": "code",
   "execution_count": 12,
   "id": "4df1e844-e4f6-493f-8f53-06a0067c2255",
   "metadata": {},
   "outputs": [
    {
     "name": "stdout",
     "output_type": "stream",
     "text": [
      "change\n"
     ]
    }
   ],
   "source": [
    "#dirty fix for going out of range:\n",
    "if spikes_idx[0][-1] != 0:\n",
    "    spikes_idx[0][-1]=0\n",
    "    print('change')\n",
    "\n",
    "downsampled_spikes = spikes_idx[:,::200]\n",
    "\n",
    "spikes_idx = downsampled_spikes"
   ]
  },
  {
   "cell_type": "code",
   "execution_count": 13,
   "id": "d94eaf57-6a57-4bed-b7a0-1ca646730e72",
   "metadata": {},
   "outputs": [
    {
     "data": {
      "text/plain": [
       "(3, 6270)"
      ]
     },
     "execution_count": 13,
     "metadata": {},
     "output_type": "execute_result"
    }
   ],
   "source": [
    "spikes_idx.shape"
   ]
  },
  {
   "cell_type": "code",
   "execution_count": 14,
   "id": "f06fd43e-41f6-4b16-a92c-89b0bf0fcb19",
   "metadata": {},
   "outputs": [
    {
     "name": "stdout",
     "output_type": "stream",
     "text": [
      "(6270, 384)\n"
     ]
    }
   ],
   "source": [
    "#get amplitudes vector\n",
    "amplitudes = rec.get_traces()[spikes_idx[0]] #use spike times as index to grab spikes amplitudes\n",
    "print(amplitudes.shape) #spikes, channels. max amplitude of each spike on each channel"
   ]
  },
  {
   "cell_type": "code",
   "execution_count": 15,
   "id": "9d6ae9b7-e2bd-450f-93f3-033d2e5240ca",
   "metadata": {},
   "outputs": [],
   "source": [
    "positions = spikes_idx[0]\n",
    "\n",
    "spike_samples = []\n",
    "for posit in positions:\n",
    "    spike_samples.append(list(range(posit-43,posit+78)))\n",
    "spike_samples = [item for sublist in spike_samples for item in sublist] "
   ]
  },
  {
   "cell_type": "code",
   "execution_count": 158,
   "id": "81e89514-a61a-43df-9c7a-d5395248b0da",
   "metadata": {},
   "outputs": [],
   "source": [
    "channel_indexs = spikes_idx[1] #need to extend each entry by 121 samples to match shape\n",
    "channels_extended = []\n",
    "for chan in channel_indexs:\n",
    "    channels_extended.append([chan]*121)\n",
    "channels_extended = [item for sublist in channels_extended for item in sublist]"
   ]
  },
  {
   "cell_type": "code",
   "execution_count": 160,
   "id": "29d26df4-1dcf-4b4f-994b-83af39af28e0",
   "metadata": {},
   "outputs": [],
   "source": [
    "# channels_extended"
   ]
  },
  {
   "cell_type": "code",
   "execution_count": 223,
   "id": "a0882b27-92b2-400a-946e-7ca210157ba3",
   "metadata": {},
   "outputs": [],
   "source": [
    "multichan = np.asarray(channels_extended)\n",
    "multichan2 = multichan\n",
    "for i in range(-5,5+1):\n",
    "    if i == 0:\n",
    "        continue\n",
    "    multichan2 = np.vstack((multichan2, multichan+i))\n",
    "# multichan2 = np.delete(multichan2, 0, 0)"
   ]
  },
  {
   "cell_type": "code",
   "execution_count": 232,
   "id": "d90dfa81-a25e-4a58-9122-970871a7e762",
   "metadata": {},
   "outputs": [],
   "source": [
    "multichan = np.empty((11, len(channels_extended)), dtype = 'int')\n",
    "mainchan = np.asanyarray(channels_extended)\n",
    "for i, offset in enumerate(range(-5,5+1)):\n",
    "    multichan[i] = mainchan + offset\n",
    "    # if i == 0:\n",
    "    #     continue\n",
    "    # multichan2 = np.vstack((multichan2, multichan+i))\n",
    "# multichan2 = np.delete(multichan2, 0, 0)"
   ]
  },
  {
   "cell_type": "code",
   "execution_count": 241,
   "id": "021f85f7-3a21-4da6-b1e5-73a64bf36492",
   "metadata": {},
   "outputs": [
    {
     "name": "stdout",
     "output_type": "stream",
     "text": [
      "[306 306 306 ... 321 321 321]\n",
      "[301 301 301 ... 316 316 316]\n",
      "[302 302 302 ... 317 317 317]\n",
      "[303 303 303 ... 318 318 318]\n",
      "[304 304 304 ... 319 319 319]\n",
      "[305 305 305 ... 320 320 320]\n",
      "[307 307 307 ... 322 322 322]\n",
      "[308 308 308 ... 323 323 323]\n",
      "[309 309 309 ... 324 324 324]\n",
      "[310 310 310 ... 325 325 325]\n",
      "[311 311 311 ... 326 326 326]\n",
      "\n",
      "\n",
      "[301 301 301 ... 316 316 316]\n",
      "[302 302 302 ... 317 317 317]\n",
      "[303 303 303 ... 318 318 318]\n",
      "[304 304 304 ... 319 319 319]\n",
      "[305 305 305 ... 320 320 320]\n",
      "[306 306 306 ... 321 321 321]\n",
      "[307 307 307 ... 322 322 322]\n",
      "[308 308 308 ... 323 323 323]\n",
      "[309 309 309 ... 324 324 324]\n",
      "[310 310 310 ... 325 325 325]\n",
      "[311 311 311 ... 326 326 326]\n"
     ]
    }
   ],
   "source": [
    "for i in range(11):\n",
    "    print(multichan2[i])\n",
    "print('\\n')\n",
    "for i in range(11):\n",
    "    print(multichan[i])"
   ]
  },
  {
   "cell_type": "code",
   "execution_count": 169,
   "id": "c2a28e3d-1111-443e-9635-083449fa03b3",
   "metadata": {},
   "outputs": [
    {
     "name": "stdout",
     "output_type": "stream",
     "text": [
      "758670\n"
     ]
    }
   ],
   "source": [
    "print(len(multichan.T))"
   ]
  },
  {
   "cell_type": "code",
   "execution_count": 230,
   "id": "81594a05-706c-403f-aa63-d7c22c728236",
   "metadata": {},
   "outputs": [
    {
     "data": {
      "text/plain": [
       "(11, 758670)"
      ]
     },
     "execution_count": 230,
     "metadata": {},
     "output_type": "execute_result"
    }
   ],
   "source": [
    "multichan2.shape"
   ]
  },
  {
   "cell_type": "code",
   "execution_count": 139,
   "id": "7482f83b-d6b0-4bd3-9715-ae698d6191c9",
   "metadata": {},
   "outputs": [
    {
     "name": "stdout",
     "output_type": "stream",
     "text": [
      "Help on method get_traces in module spikeinterface.core.baserecording:\n",
      "\n",
      "get_traces(segment_index: Optional[int] = None, start_frame: Optional[int] = None, end_frame: Optional[int] = None, channel_ids: Optional[Iterable] = None, order: Optional[str] = None, return_scaled=False, cast_unsigned=False) method of spikeinterface.core.binaryfolder.BinaryFolderRecording instance\n",
      "    Returns traces from recording.\n",
      "    \n",
      "    Parameters\n",
      "    ----------\n",
      "    segment_index : Union[int, None], default: None\n",
      "        The segment index to get traces from. If recording is multi-segment, it is required, default: None\n",
      "    start_frame : Union[int, None], default: None\n",
      "        The start frame. If None, 0 is used, default: None\n",
      "    end_frame : Union[int, None], default: None\n",
      "        The end frame. If None, the number of samples in the segment is used, default: None\n",
      "    channel_ids : Union[Iterable, None], default: None\n",
      "        The channel ids. If None, all channels are used, default: None\n",
      "    order : Union[str, None], default: None\n",
      "        The order of the traces (\"C\" | \"F\"). If None, traces are returned as they are, default: None\n",
      "    return_scaled : bool, default: None\n",
      "        If True and the recording has scaling (gain_to_uV and offset_to_uV properties),\n",
      "        traces are scaled to uV, default: False\n",
      "    cast_unsigned : bool, default: None\n",
      "        If True and the traces are unsigned, they are cast to integer and centered\n",
      "        (an offset of (2**nbits) is subtracted), default: False\n",
      "    \n",
      "    Returns\n",
      "    -------\n",
      "    np.array\n",
      "        The traces (num_samples, num_channels)\n",
      "    \n",
      "    Raises\n",
      "    ------\n",
      "    ValueError\n",
      "        If return_scaled is True, but recording does not have scaled traces\n",
      "\n"
     ]
    }
   ],
   "source": [
    "help(rec.get_traces)"
   ]
  },
  {
   "cell_type": "code",
   "execution_count": 271,
   "id": "9c371783-8646-497e-b14d-29b5c9cc70aa",
   "metadata": {},
   "outputs": [],
   "source": [
    "waveforms = rec.get_traces()[spike_samples, multichan]\n",
    "waveforms2 = rec.get_traces()[spike_samples, multichan2]"
   ]
  },
  {
   "cell_type": "code",
   "execution_count": 272,
   "id": "3fec09ae-fd3d-451a-a139-6945e6395276",
   "metadata": {},
   "outputs": [
    {
     "data": {
      "text/plain": [
       "(758670,)"
      ]
     },
     "execution_count": 272,
     "metadata": {},
     "output_type": "execute_result"
    }
   ],
   "source": [
    "waveformz = rec.get_traces()[spike_samples, channels_extended]\n",
    "waveformz.shape\n"
   ]
  },
  {
   "cell_type": "code",
   "execution_count": 273,
   "id": "290a2c05-fac9-479b-818a-ecc2459e039a",
   "metadata": {},
   "outputs": [
    {
     "name": "stdout",
     "output_type": "stream",
     "text": [
      "(758670,)\n",
      "(6270, 121)\n"
     ]
    }
   ],
   "source": [
    "print(waveformz.shape)\n",
    "new_x = int(waveformz.shape[0]/121)\n",
    "# # reshape waveform array\n",
    "waveformz = waveformz.reshape((new_x, 121))\n",
    "print(waveformz.shape)"
   ]
  },
  {
   "cell_type": "code",
   "execution_count": 274,
   "id": "5a020dfb-c0b4-4937-80d1-f9c89457004d",
   "metadata": {},
   "outputs": [
    {
     "name": "stdout",
     "output_type": "stream",
     "text": [
      "(11, 758670)\n",
      "(11, 6270, 121)\n"
     ]
    }
   ],
   "source": [
    "print(waveforms.shape)\n",
    "new_x = int(waveforms.shape[1]/121)\n",
    "# # reshape waveform array\n",
    "waveforms = waveforms.reshape((11, new_x, 121)) #need to start using einops lol, reshaping is hard\n",
    "print(waveforms.shape)"
   ]
  },
  {
   "cell_type": "code",
   "execution_count": 258,
   "id": "7f3477ba-9738-41fe-821e-a1b154f1d876",
   "metadata": {},
   "outputs": [
    {
     "name": "stdout",
     "output_type": "stream",
     "text": [
      "(11, 758670)\n",
      "(6270, 11, 121)\n"
     ]
    }
   ],
   "source": [
    "print(waveforms2.shape)\n",
    "new_x = int(waveforms2.shape[1]/121)\n",
    "# # reshape waveform array\n",
    "waveforms2 = waveforms2.reshape((new_x, 11, 121))\n",
    "print(waveforms2.shape)"
   ]
  },
  {
   "cell_type": "code",
   "execution_count": 275,
   "id": "5745f0d8-6b2d-47bc-ae97-c4609c124686",
   "metadata": {},
   "outputs": [
    {
     "data": {
      "image/png": "[encoded data removed]",
      "text/plain": [
       "<Figure size 640x480 with 1 Axes>"
      ]
     },
     "metadata": {},
     "output_type": "display_data"
    }
   ],
   "source": [
    "# plt.plot(waveformz[0])\n",
    "plt.plot(waveforms[0][0])\n",
    "plt.plot(waveforms2[0][1])\n",
    "plt.show()"
   ]
  },
  {
   "cell_type": "code",
   "execution_count": null,
   "id": "d49522de-12db-4159-b5a8-0308f3af316a",
   "metadata": {},
   "outputs": [],
   "source": [
    "def normalize_wf(wf):\n",
    "    \"\"\"Normalize waveform for use in cell type experiments.\n",
    "    Parameters\n",
    "    ----------\n",
    "    wf: numpy.ndarray\n",
    "        spike that has shape (n_chans, spike_length_samples)\n",
    "    Returns\n",
    "    -------\n",
    "    waveform normalized to the range [0, 1] to retain shape information, but not amplitude information\n",
    "    \"\"\"\n",
    "    if len(wf.shape) == 1:\n",
    "        _ = wf.shape\n",
    "        n_chans = None\n",
    "    else:\n",
    "        n_chans, _ = wf.shape\n",
    "    wf = wf.flatten()\n",
    "    if np.max(np.abs(wf), axis=0) != 0:\n",
    "        wf /= np.max(np.abs(wf), axis=0)\n",
    "    wf = wf.reshape(n_chans, -1) if n_chans is not None else wf\n",
    "    return wf"
   ]
  },
  {
   "cell_type": "code",
   "execution_count": null,
   "id": "6fd1eb79-6118-4836-8de6-cda7756f6acd",
   "metadata": {},
   "outputs": [],
   "source": [
    "radius = 100 #microns #100 correct\n",
    "num_spikes_st = 0\n",
    "num_spikes = -1\n",
    "main_chan = spikes_idx[1]\n",
    "subset = None\n",
    "locs = loc.localize_amplitude_vectors(amplitude_vectors = amplitudes[0:num_spikes], n_channels_subset = subset, geom = geom, main_channels = main_chan[0:num_spikes], radius = radius)\n"
   ]
  },
  {
   "cell_type": "code",
   "execution_count": null,
   "id": "89611eaa-8242-4229-b50d-8f46d1fa421b",
   "metadata": {},
   "outputs": [],
   "source": [
    "z = locs[\"z_abs\"]\n",
    "x = locs[\"x\"]\n",
    "pitch = 40\n",
    "\n",
    "idx_good = np.flatnonzero(np.logical_and(\n",
    "    np.logical_and(x > geom[:, 0].min()-pitch, x < geom[:, 0].max()+pitch),\n",
    "    np.logical_and(z > geom.min()-pitch, z < geom.max()+pitch)))\n",
    "\n",
    "x = x[idx_good]\n",
    "z = z[idx_good]\n",
    "index = spikes_idx[2][idx_good]\n",
    "waveforms = waveforms[idx_good, :]\n",
    "amplitudes = amplitudes[idx_good, :]"
   ]
  },
  {
   "cell_type": "code",
   "execution_count": null,
   "id": "a563e569-56f7-439e-860d-ee03f355325e",
   "metadata": {},
   "outputs": [],
   "source": [
    "import colorcet as cc\n",
    "def get_ccolor(k):\n",
    "    if k == -1:\n",
    "        return \"#808080\"\n",
    "    else:\n",
    "        return ccolors[k % len(ccolors)]\n",
    "# ccolors = cc.glasbey[:31]\n",
    "ccolors = cc.glasbey[:50]\n",
    "\n",
    "cols = [get_ccolor(idx) for idx in index]"
   ]
  },
  {
   "cell_type": "code",
   "execution_count": null,
   "id": "137c86b8-eccb-4e59-8d40-9445f25b4537",
   "metadata": {},
   "outputs": [],
   "source": [
    "plt.figure(figsize=(2,12)) #2,12 is better tbh\n",
    "\n",
    "plt.scatter(x, z, alpha=0.2, s = 0.5, c = cols) #coloured by neuron id, adds nothing but confirms things work!\n",
    "plt.scatter(geom[:,0], geom[:,1], c='red', alpha=0.5, s=0.9)\n",
    "plt.xlabel('X-position')\n",
    "plt.ylabel('Z absolute')\n",
    "#2x12\n",
    "plt.show()"
   ]
  },
  {
   "cell_type": "code",
   "execution_count": null,
   "id": "3ec9e1f8-92b3-4d4c-8066-4f68ef8f40c2",
   "metadata": {},
   "outputs": [],
   "source": []
  },
  {
   "cell_type": "code",
   "execution_count": null,
   "id": "b1a518ed-dba7-40dd-87d9-107848a729e5",
   "metadata": {},
   "outputs": [],
   "source": [
    "from ceed.models.ceed import CEED\n",
    "import numpy as np\n",
    "import os\n",
    "import matplotlib.pyplot as plt\n",
    "from analysis.projections import learn_manifold_umap, pca_train, pca\n",
    "import colorcet as cc\n",
    "import torch\n",
    "\n",
    "from tqdm import tqdm\n",
    "\n",
    "from mpl_toolkits.mplot3d import Axes3D"
   ]
  },
  {
   "cell_type": "code",
   "execution_count": null,
   "id": "c6066ce5-1cee-4145-a060-dc5ace967bd8",
   "metadata": {},
   "outputs": [],
   "source": [
    "waveforms_normalised = np.empty_like(waveforms)\n",
    "for i, wav in enumerate(waveforms):\n",
    "    waveforms_normalised[i] = normalize_wf(wav)"
   ]
  },
  {
   "cell_type": "code",
   "execution_count": null,
   "id": "0d830e1a-a13b-42a5-a021-e5369732c412",
   "metadata": {},
   "outputs": [],
   "source": [
    "fc_celltype_ckpt_dir = '/home/noah/code/ceed_models/celltype/test'\n",
    "\n",
    "fc_celltype_ceed_5d = CEED(num_extra_chans=0, out_dim=5, proj_dim=5, gpu=0, old_ckpt=True)\n",
    "fc_celltype_ceed_5d.load(fc_celltype_ckpt_dir)"
   ]
  },
  {
   "cell_type": "code",
   "execution_count": null,
   "id": "4081b582-cc08-4cc7-87ef-d013ad3561ea",
   "metadata": {},
   "outputs": [],
   "source": []
  },
  {
   "cell_type": "code",
   "execution_count": null,
   "id": "428923eb-9845-470c-8df9-6a91d9840363",
   "metadata": {},
   "outputs": [],
   "source": []
  },
  {
   "cell_type": "code",
   "execution_count": null,
   "id": "909806c2-056b-48e3-9b57-e21fa03f83f6",
   "metadata": {},
   "outputs": [],
   "source": []
  },
  {
   "cell_type": "code",
   "execution_count": null,
   "id": "656b3ef2-d9d6-4f9e-963f-c49792279a3f",
   "metadata": {},
   "outputs": [],
   "source": []
  }
 ],
 "metadata": {
  "kernelspec": {
   "display_name": "Python [conda env:ceed]",
   "language": "python",
   "name": "conda-env-ceed-py"
  },
  "language_info": {
   "codemirror_mode": {
    "name": "ipython",
    "version": 3
   },
   "file_extension": ".py",
   "mimetype": "text/x-python",
   "name": "python",
   "nbconvert_exporter": "python",
   "pygments_lexer": "ipython3",
   "version": "3.10.13"
  }
 },
 "nbformat": 4,
 "nbformat_minor": 5
}
